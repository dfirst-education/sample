{
 "cells": [
  {
   "cell_type": "markdown",
   "metadata": {},
   "source": [
    "# creating dataframe from CSV"
   ]
  },
  {
   "cell_type": "code",
   "execution_count": 114,
   "metadata": {},
   "outputs": [],
   "source": [
    "import pandas as pd"
   ]
  },
  {
   "cell_type": "code",
   "execution_count": 115,
   "metadata": {},
   "outputs": [],
   "source": [
    "# reading csv file to dataframe\n",
    "df_csv = pd.read_csv('./data/Jobs_NYC_Postings.csv', header=0)\n",
    "# df_csv = pd.read_csv('./data/Jobs_NYC_Postings.csv', header=0, sep='\\t')"
   ]
  },
  {
   "cell_type": "code",
   "execution_count": 116,
   "metadata": {},
   "outputs": [
    {
     "data": {
      "text/html": [
       "<div>\n",
       "<style scoped>\n",
       "    .dataframe tbody tr th:only-of-type {\n",
       "        vertical-align: middle;\n",
       "    }\n",
       "\n",
       "    .dataframe tbody tr th {\n",
       "        vertical-align: top;\n",
       "    }\n",
       "\n",
       "    .dataframe thead th {\n",
       "        text-align: right;\n",
       "    }\n",
       "</style>\n",
       "<table border=\"1\" class=\"dataframe\">\n",
       "  <thead>\n",
       "    <tr style=\"text-align: right;\">\n",
       "      <th></th>\n",
       "      <th>Job ID</th>\n",
       "      <th>Agency</th>\n",
       "      <th>Posting Type</th>\n",
       "      <th># Of Positions</th>\n",
       "      <th>Business Title</th>\n",
       "      <th>Civil Service Title</th>\n",
       "      <th>Title Classification</th>\n",
       "      <th>Title Code No</th>\n",
       "      <th>Level</th>\n",
       "      <th>Job Category</th>\n",
       "      <th>...</th>\n",
       "      <th>Additional Information</th>\n",
       "      <th>To Apply</th>\n",
       "      <th>Hours/Shift</th>\n",
       "      <th>Work Location 1</th>\n",
       "      <th>Recruitment Contact</th>\n",
       "      <th>Residency Requirement</th>\n",
       "      <th>Posting Date</th>\n",
       "      <th>Post Until</th>\n",
       "      <th>Posting Updated</th>\n",
       "      <th>Process Date</th>\n",
       "    </tr>\n",
       "  </thead>\n",
       "  <tbody>\n",
       "    <tr>\n",
       "      <th>0</th>\n",
       "      <td>606346</td>\n",
       "      <td>DEPARTMENT FOR THE AGING</td>\n",
       "      <td>External</td>\n",
       "      <td>1</td>\n",
       "      <td>Business Operations Analyst</td>\n",
       "      <td>ASSOCIATE STAFF ANALYST</td>\n",
       "      <td>Competitive-1</td>\n",
       "      <td>12627</td>\n",
       "      <td>00</td>\n",
       "      <td>Administration &amp; Human Resources Technology, D...</td>\n",
       "      <td>...</td>\n",
       "      <td>NaN</td>\n",
       "      <td>Please be sure to submit a resume &amp; cover lett...</td>\n",
       "      <td>NaN</td>\n",
       "      <td>NaN</td>\n",
       "      <td>NaN</td>\n",
       "      <td>New York City residency is generally required ...</td>\n",
       "      <td>09/28/2023</td>\n",
       "      <td>27-DEC-2023</td>\n",
       "      <td>09/29/2023</td>\n",
       "      <td>11/20/2023</td>\n",
       "    </tr>\n",
       "  </tbody>\n",
       "</table>\n",
       "<p>1 rows × 30 columns</p>\n",
       "</div>"
      ],
      "text/plain": [
       "   Job ID                    Agency Posting Type  # Of Positions  \\\n",
       "0  606346  DEPARTMENT FOR THE AGING     External               1   \n",
       "\n",
       "                Business Title      Civil Service Title Title Classification  \\\n",
       "0  Business Operations Analyst  ASSOCIATE STAFF ANALYST        Competitive-1   \n",
       "\n",
       "  Title Code No Level                                       Job Category  ...  \\\n",
       "0         12627    00  Administration & Human Resources Technology, D...  ...   \n",
       "\n",
       "  Additional Information                                           To Apply  \\\n",
       "0                    NaN  Please be sure to submit a resume & cover lett...   \n",
       "\n",
       "   Hours/Shift  Work Location 1 Recruitment Contact  \\\n",
       "0          NaN              NaN                 NaN   \n",
       "\n",
       "                               Residency Requirement Posting Date  \\\n",
       "0  New York City residency is generally required ...   09/28/2023   \n",
       "\n",
       "    Post Until Posting Updated Process Date  \n",
       "0  27-DEC-2023      09/29/2023   11/20/2023  \n",
       "\n",
       "[1 rows x 30 columns]"
      ]
     },
     "execution_count": 116,
     "metadata": {},
     "output_type": "execute_result"
    }
   ],
   "source": [
    "df_csv[0:1]"
   ]
  },
  {
   "cell_type": "code",
   "execution_count": 117,
   "metadata": {},
   "outputs": [
    {
     "name": "stdout",
     "output_type": "stream",
     "text": [
      "(6186, 30)\n"
     ]
    }
   ],
   "source": [
    "print(df_csv.shape)"
   ]
  },
  {
   "cell_type": "code",
   "execution_count": 118,
   "metadata": {},
   "outputs": [
    {
     "data": {
      "text/plain": [
       "Job ID                             int64\n",
       "Agency                            object\n",
       "Posting Type                      object\n",
       "# Of Positions                     int64\n",
       "Business Title                    object\n",
       "Civil Service Title               object\n",
       "Title Classification              object\n",
       "Title Code No                     object\n",
       "Level                             object\n",
       "Job Category                      object\n",
       "Full-Time/Part-Time indicator     object\n",
       "Career Level                      object\n",
       "Salary Range From                float64\n",
       "Salary Range To                  float64\n",
       "Salary Frequency                  object\n",
       "Work Location                     object\n",
       "Division/Work Unit                object\n",
       "Job Description                   object\n",
       "Minimum Qual Requirements         object\n",
       "Preferred Skills                  object\n",
       "Additional Information            object\n",
       "To Apply                          object\n",
       "Hours/Shift                       object\n",
       "Work Location 1                   object\n",
       "Recruitment Contact              float64\n",
       "Residency Requirement             object\n",
       "Posting Date                      object\n",
       "Post Until                        object\n",
       "Posting Updated                   object\n",
       "Process Date                      object\n",
       "dtype: object"
      ]
     },
     "execution_count": 118,
     "metadata": {},
     "output_type": "execute_result"
    }
   ],
   "source": [
    "df_csv.dtypes\n",
    "# df_csv['column1'] = df_csv['column1'].astype('object')"
   ]
  },
  {
   "cell_type": "code",
   "execution_count": 119,
   "metadata": {},
   "outputs": [],
   "source": [
    "df_csv = df_csv.fillna(0)"
   ]
  },
  {
   "cell_type": "code",
   "execution_count": 120,
   "metadata": {},
   "outputs": [
    {
     "data": {
      "text/html": [
       "<div>\n",
       "<style scoped>\n",
       "    .dataframe tbody tr th:only-of-type {\n",
       "        vertical-align: middle;\n",
       "    }\n",
       "\n",
       "    .dataframe tbody tr th {\n",
       "        vertical-align: top;\n",
       "    }\n",
       "\n",
       "    .dataframe thead th {\n",
       "        text-align: right;\n",
       "    }\n",
       "</style>\n",
       "<table border=\"1\" class=\"dataframe\">\n",
       "  <thead>\n",
       "    <tr style=\"text-align: right;\">\n",
       "      <th></th>\n",
       "      <th>Job ID</th>\n",
       "      <th>Agency</th>\n",
       "      <th>Posting Type</th>\n",
       "      <th># Of Positions</th>\n",
       "      <th>Business Title</th>\n",
       "      <th>Civil Service Title</th>\n",
       "      <th>Title Classification</th>\n",
       "      <th>Title Code No</th>\n",
       "      <th>Level</th>\n",
       "      <th>Job Category</th>\n",
       "      <th>...</th>\n",
       "      <th>Additional Information</th>\n",
       "      <th>To Apply</th>\n",
       "      <th>Hours/Shift</th>\n",
       "      <th>Work Location 1</th>\n",
       "      <th>Recruitment Contact</th>\n",
       "      <th>Residency Requirement</th>\n",
       "      <th>Posting Date</th>\n",
       "      <th>Post Until</th>\n",
       "      <th>Posting Updated</th>\n",
       "      <th>Process Date</th>\n",
       "    </tr>\n",
       "  </thead>\n",
       "  <tbody>\n",
       "    <tr>\n",
       "      <th>0</th>\n",
       "      <td>606346</td>\n",
       "      <td>DEPARTMENT FOR THE AGING</td>\n",
       "      <td>External</td>\n",
       "      <td>1</td>\n",
       "      <td>Business Operations Analyst</td>\n",
       "      <td>ASSOCIATE STAFF ANALYST</td>\n",
       "      <td>Competitive-1</td>\n",
       "      <td>12627</td>\n",
       "      <td>00</td>\n",
       "      <td>Administration &amp; Human Resources Technology, D...</td>\n",
       "      <td>...</td>\n",
       "      <td>0</td>\n",
       "      <td>Please be sure to submit a resume &amp; cover lett...</td>\n",
       "      <td>0</td>\n",
       "      <td>0</td>\n",
       "      <td>0.0</td>\n",
       "      <td>New York City residency is generally required ...</td>\n",
       "      <td>09/28/2023</td>\n",
       "      <td>27-DEC-2023</td>\n",
       "      <td>09/29/2023</td>\n",
       "      <td>11/20/2023</td>\n",
       "    </tr>\n",
       "  </tbody>\n",
       "</table>\n",
       "<p>1 rows × 30 columns</p>\n",
       "</div>"
      ],
      "text/plain": [
       "   Job ID                    Agency Posting Type  # Of Positions  \\\n",
       "0  606346  DEPARTMENT FOR THE AGING     External               1   \n",
       "\n",
       "                Business Title      Civil Service Title Title Classification  \\\n",
       "0  Business Operations Analyst  ASSOCIATE STAFF ANALYST        Competitive-1   \n",
       "\n",
       "  Title Code No Level                                       Job Category  ...  \\\n",
       "0         12627    00  Administration & Human Resources Technology, D...  ...   \n",
       "\n",
       "  Additional Information                                           To Apply  \\\n",
       "0                      0  Please be sure to submit a resume & cover lett...   \n",
       "\n",
       "   Hours/Shift  Work Location 1 Recruitment Contact  \\\n",
       "0            0                0                 0.0   \n",
       "\n",
       "                               Residency Requirement Posting Date  \\\n",
       "0  New York City residency is generally required ...   09/28/2023   \n",
       "\n",
       "    Post Until Posting Updated Process Date  \n",
       "0  27-DEC-2023      09/29/2023   11/20/2023  \n",
       "\n",
       "[1 rows x 30 columns]"
      ]
     },
     "execution_count": 120,
     "metadata": {},
     "output_type": "execute_result"
    }
   ],
   "source": [
    "df_csv[0:1]"
   ]
  },
  {
   "cell_type": "code",
   "execution_count": 121,
   "metadata": {},
   "outputs": [],
   "source": [
    "df_csv_selected_rows = df_csv[df_csv['Business Title'] == 'Business Operations Analyst']\n",
    "# df_selected_rows = df[df['Business Title'].str.contains('Business Operations Analyst')]\n",
    "# df_selected_rows = df[df['Business Title'].isin(['Business Operations Analyst', 'CASE MANAGEMENT TEAM LEADER'])]"
   ]
  },
  {
   "cell_type": "code",
   "execution_count": 122,
   "metadata": {},
   "outputs": [
    {
     "data": {
      "text/html": [
       "<div>\n",
       "<style scoped>\n",
       "    .dataframe tbody tr th:only-of-type {\n",
       "        vertical-align: middle;\n",
       "    }\n",
       "\n",
       "    .dataframe tbody tr th {\n",
       "        vertical-align: top;\n",
       "    }\n",
       "\n",
       "    .dataframe thead th {\n",
       "        text-align: right;\n",
       "    }\n",
       "</style>\n",
       "<table border=\"1\" class=\"dataframe\">\n",
       "  <thead>\n",
       "    <tr style=\"text-align: right;\">\n",
       "      <th></th>\n",
       "      <th>Job ID</th>\n",
       "      <th>Agency</th>\n",
       "      <th>Posting Type</th>\n",
       "      <th># Of Positions</th>\n",
       "      <th>Business Title</th>\n",
       "      <th>Civil Service Title</th>\n",
       "      <th>Title Classification</th>\n",
       "      <th>Title Code No</th>\n",
       "      <th>Level</th>\n",
       "      <th>Job Category</th>\n",
       "      <th>...</th>\n",
       "      <th>Additional Information</th>\n",
       "      <th>To Apply</th>\n",
       "      <th>Hours/Shift</th>\n",
       "      <th>Work Location 1</th>\n",
       "      <th>Recruitment Contact</th>\n",
       "      <th>Residency Requirement</th>\n",
       "      <th>Posting Date</th>\n",
       "      <th>Post Until</th>\n",
       "      <th>Posting Updated</th>\n",
       "      <th>Process Date</th>\n",
       "    </tr>\n",
       "  </thead>\n",
       "  <tbody>\n",
       "    <tr>\n",
       "      <th>0</th>\n",
       "      <td>606346</td>\n",
       "      <td>DEPARTMENT FOR THE AGING</td>\n",
       "      <td>External</td>\n",
       "      <td>1</td>\n",
       "      <td>Business Operations Analyst</td>\n",
       "      <td>ASSOCIATE STAFF ANALYST</td>\n",
       "      <td>Competitive-1</td>\n",
       "      <td>12627</td>\n",
       "      <td>00</td>\n",
       "      <td>Administration &amp; Human Resources Technology, D...</td>\n",
       "      <td>...</td>\n",
       "      <td>0</td>\n",
       "      <td>Please be sure to submit a resume &amp; cover lett...</td>\n",
       "      <td>0</td>\n",
       "      <td>0</td>\n",
       "      <td>0.0</td>\n",
       "      <td>New York City residency is generally required ...</td>\n",
       "      <td>09/28/2023</td>\n",
       "      <td>27-DEC-2023</td>\n",
       "      <td>09/29/2023</td>\n",
       "      <td>11/20/2023</td>\n",
       "    </tr>\n",
       "    <tr>\n",
       "      <th>294</th>\n",
       "      <td>606346</td>\n",
       "      <td>DEPARTMENT FOR THE AGING</td>\n",
       "      <td>Internal</td>\n",
       "      <td>1</td>\n",
       "      <td>Business Operations Analyst</td>\n",
       "      <td>ASSOCIATE STAFF ANALYST</td>\n",
       "      <td>Competitive-1</td>\n",
       "      <td>12627</td>\n",
       "      <td>00</td>\n",
       "      <td>Administration &amp; Human Resources Technology, D...</td>\n",
       "      <td>...</td>\n",
       "      <td>0</td>\n",
       "      <td>Please be sure to submit a resume &amp; cover lett...</td>\n",
       "      <td>0</td>\n",
       "      <td>0</td>\n",
       "      <td>0.0</td>\n",
       "      <td>New York City residency is generally required ...</td>\n",
       "      <td>09/28/2023</td>\n",
       "      <td>27-DEC-2023</td>\n",
       "      <td>09/29/2023</td>\n",
       "      <td>11/20/2023</td>\n",
       "    </tr>\n",
       "  </tbody>\n",
       "</table>\n",
       "<p>2 rows × 30 columns</p>\n",
       "</div>"
      ],
      "text/plain": [
       "     Job ID                    Agency Posting Type  # Of Positions  \\\n",
       "0    606346  DEPARTMENT FOR THE AGING     External               1   \n",
       "294  606346  DEPARTMENT FOR THE AGING     Internal               1   \n",
       "\n",
       "                  Business Title      Civil Service Title  \\\n",
       "0    Business Operations Analyst  ASSOCIATE STAFF ANALYST   \n",
       "294  Business Operations Analyst  ASSOCIATE STAFF ANALYST   \n",
       "\n",
       "    Title Classification Title Code No Level  \\\n",
       "0          Competitive-1         12627    00   \n",
       "294        Competitive-1         12627    00   \n",
       "\n",
       "                                          Job Category  ...  \\\n",
       "0    Administration & Human Resources Technology, D...  ...   \n",
       "294  Administration & Human Resources Technology, D...  ...   \n",
       "\n",
       "    Additional Information                                           To Apply  \\\n",
       "0                        0  Please be sure to submit a resume & cover lett...   \n",
       "294                      0  Please be sure to submit a resume & cover lett...   \n",
       "\n",
       "     Hours/Shift  Work Location 1 Recruitment Contact  \\\n",
       "0              0                0                 0.0   \n",
       "294            0                0                 0.0   \n",
       "\n",
       "                                 Residency Requirement Posting Date  \\\n",
       "0    New York City residency is generally required ...   09/28/2023   \n",
       "294  New York City residency is generally required ...   09/28/2023   \n",
       "\n",
       "      Post Until Posting Updated Process Date  \n",
       "0    27-DEC-2023      09/29/2023   11/20/2023  \n",
       "294  27-DEC-2023      09/29/2023   11/20/2023  \n",
       "\n",
       "[2 rows x 30 columns]"
      ]
     },
     "execution_count": 122,
     "metadata": {},
     "output_type": "execute_result"
    }
   ],
   "source": [
    "df_csv_selected_rows[0:]"
   ]
  },
  {
   "cell_type": "code",
   "execution_count": null,
   "metadata": {},
   "outputs": [],
   "source": []
  },
  {
   "cell_type": "code",
   "execution_count": null,
   "metadata": {},
   "outputs": [],
   "source": []
  },
  {
   "cell_type": "markdown",
   "metadata": {},
   "source": [
    "# creating dataframe from JSON"
   ]
  },
  {
   "cell_type": "code",
   "execution_count": 123,
   "metadata": {},
   "outputs": [],
   "source": [
    "import json"
   ]
  },
  {
   "cell_type": "code",
   "execution_count": 145,
   "metadata": {},
   "outputs": [],
   "source": [
    "# reading json file to dataframe\n",
    "# df_json_jobpost = pd.read_json('./data/Jobs_NYC_Postings.json')"
   ]
  },
  {
   "cell_type": "code",
   "execution_count": 125,
   "metadata": {},
   "outputs": [],
   "source": [
    "df_json_jobpost = json.load(open('./data/Jobs_NYC_Postings.json'))\n",
    "df_json_jobpost = pd.DataFrame(df_json_jobpost['data'])"
   ]
  },
  {
   "cell_type": "code",
   "execution_count": 126,
   "metadata": {},
   "outputs": [
    {
     "data": {
      "text/html": [
       "<div>\n",
       "<style scoped>\n",
       "    .dataframe tbody tr th:only-of-type {\n",
       "        vertical-align: middle;\n",
       "    }\n",
       "\n",
       "    .dataframe tbody tr th {\n",
       "        vertical-align: top;\n",
       "    }\n",
       "\n",
       "    .dataframe thead th {\n",
       "        text-align: right;\n",
       "    }\n",
       "</style>\n",
       "<table border=\"1\" class=\"dataframe\">\n",
       "  <thead>\n",
       "    <tr style=\"text-align: right;\">\n",
       "      <th></th>\n",
       "      <th>0</th>\n",
       "      <th>1</th>\n",
       "      <th>2</th>\n",
       "      <th>3</th>\n",
       "      <th>4</th>\n",
       "      <th>5</th>\n",
       "      <th>6</th>\n",
       "      <th>7</th>\n",
       "      <th>8</th>\n",
       "      <th>9</th>\n",
       "      <th>...</th>\n",
       "      <th>28</th>\n",
       "      <th>29</th>\n",
       "      <th>30</th>\n",
       "      <th>31</th>\n",
       "      <th>32</th>\n",
       "      <th>33</th>\n",
       "      <th>34</th>\n",
       "      <th>35</th>\n",
       "      <th>36</th>\n",
       "      <th>37</th>\n",
       "    </tr>\n",
       "  </thead>\n",
       "  <tbody>\n",
       "    <tr>\n",
       "      <th>0</th>\n",
       "      <td>row-wzh8_smbq_bb46</td>\n",
       "      <td>00000000-0000-0000-BD68-49DE154153B5</td>\n",
       "      <td>0</td>\n",
       "      <td>1700597468</td>\n",
       "      <td>None</td>\n",
       "      <td>1700597468</td>\n",
       "      <td>None</td>\n",
       "      <td>{ }</td>\n",
       "      <td>606346</td>\n",
       "      <td>DEPARTMENT FOR THE AGING</td>\n",
       "      <td>...</td>\n",
       "      <td>None</td>\n",
       "      <td>Please be sure to submit a resume &amp; cover lett...</td>\n",
       "      <td>None</td>\n",
       "      <td>None</td>\n",
       "      <td>None</td>\n",
       "      <td>New York City residency is generally required ...</td>\n",
       "      <td>2023-09-28T00:00:00</td>\n",
       "      <td>27-DEC-2023</td>\n",
       "      <td>2023-09-29T00:00:00</td>\n",
       "      <td>2023-11-20T00:00:00</td>\n",
       "    </tr>\n",
       "  </tbody>\n",
       "</table>\n",
       "<p>1 rows × 38 columns</p>\n",
       "</div>"
      ],
      "text/plain": [
       "                   0                                     1   2           3   \\\n",
       "0  row-wzh8_smbq_bb46  00000000-0000-0000-BD68-49DE154153B5   0  1700597468   \n",
       "\n",
       "     4           5     6    7       8                         9   ...    28  \\\n",
       "0  None  1700597468  None  { }  606346  DEPARTMENT FOR THE AGING  ...  None   \n",
       "\n",
       "                                                  29    30    31    32  \\\n",
       "0  Please be sure to submit a resume & cover lett...  None  None  None   \n",
       "\n",
       "                                                  33                   34  \\\n",
       "0  New York City residency is generally required ...  2023-09-28T00:00:00   \n",
       "\n",
       "            35                   36                   37  \n",
       "0  27-DEC-2023  2023-09-29T00:00:00  2023-11-20T00:00:00  \n",
       "\n",
       "[1 rows x 38 columns]"
      ]
     },
     "execution_count": 126,
     "metadata": {},
     "output_type": "execute_result"
    }
   ],
   "source": [
    "df_json_jobpost[0:1]"
   ]
  },
  {
   "cell_type": "code",
   "execution_count": 127,
   "metadata": {},
   "outputs": [
    {
     "data": {
      "text/html": [
       "<div>\n",
       "<style scoped>\n",
       "    .dataframe tbody tr th:only-of-type {\n",
       "        vertical-align: middle;\n",
       "    }\n",
       "\n",
       "    .dataframe tbody tr th {\n",
       "        vertical-align: top;\n",
       "    }\n",
       "\n",
       "    .dataframe thead th {\n",
       "        text-align: right;\n",
       "    }\n",
       "</style>\n",
       "<table border=\"1\" class=\"dataframe\">\n",
       "  <thead>\n",
       "    <tr style=\"text-align: right;\">\n",
       "      <th></th>\n",
       "      <th>8</th>\n",
       "      <th>9</th>\n",
       "      <th>10</th>\n",
       "      <th>11</th>\n",
       "      <th>12</th>\n",
       "      <th>13</th>\n",
       "      <th>14</th>\n",
       "      <th>15</th>\n",
       "      <th>16</th>\n",
       "      <th>17</th>\n",
       "      <th>...</th>\n",
       "      <th>28</th>\n",
       "      <th>29</th>\n",
       "      <th>30</th>\n",
       "      <th>31</th>\n",
       "      <th>32</th>\n",
       "      <th>33</th>\n",
       "      <th>34</th>\n",
       "      <th>35</th>\n",
       "      <th>36</th>\n",
       "      <th>37</th>\n",
       "    </tr>\n",
       "  </thead>\n",
       "  <tbody>\n",
       "    <tr>\n",
       "      <th>0</th>\n",
       "      <td>606346</td>\n",
       "      <td>DEPARTMENT FOR THE AGING</td>\n",
       "      <td>External</td>\n",
       "      <td>1</td>\n",
       "      <td>Business Operations Analyst</td>\n",
       "      <td>ASSOCIATE STAFF ANALYST</td>\n",
       "      <td>Competitive-1</td>\n",
       "      <td>12627</td>\n",
       "      <td>00</td>\n",
       "      <td>Administration &amp; Human Resources Technology, D...</td>\n",
       "      <td>...</td>\n",
       "      <td>None</td>\n",
       "      <td>Please be sure to submit a resume &amp; cover lett...</td>\n",
       "      <td>None</td>\n",
       "      <td>None</td>\n",
       "      <td>None</td>\n",
       "      <td>New York City residency is generally required ...</td>\n",
       "      <td>2023-09-28T00:00:00</td>\n",
       "      <td>27-DEC-2023</td>\n",
       "      <td>2023-09-29T00:00:00</td>\n",
       "      <td>2023-11-20T00:00:00</td>\n",
       "    </tr>\n",
       "  </tbody>\n",
       "</table>\n",
       "<p>1 rows × 30 columns</p>\n",
       "</div>"
      ],
      "text/plain": [
       "       8                         9         10 11                           12  \\\n",
       "0  606346  DEPARTMENT FOR THE AGING  External  1  Business Operations Analyst   \n",
       "\n",
       "                        13             14     15  16  \\\n",
       "0  ASSOCIATE STAFF ANALYST  Competitive-1  12627  00   \n",
       "\n",
       "                                                  17  ...    28  \\\n",
       "0  Administration & Human Resources Technology, D...  ...  None   \n",
       "\n",
       "                                                  29    30    31    32  \\\n",
       "0  Please be sure to submit a resume & cover lett...  None  None  None   \n",
       "\n",
       "                                                  33                   34  \\\n",
       "0  New York City residency is generally required ...  2023-09-28T00:00:00   \n",
       "\n",
       "            35                   36                   37  \n",
       "0  27-DEC-2023  2023-09-29T00:00:00  2023-11-20T00:00:00  \n",
       "\n",
       "[1 rows x 30 columns]"
      ]
     },
     "execution_count": 127,
     "metadata": {},
     "output_type": "execute_result"
    }
   ],
   "source": [
    "# df_json_jobpost.iloc[0:1,[8,9]]\n",
    "# df_json_jobpost.iloc[0:1,:]\n",
    "df_json_jobpost.iloc[0:1,8:]"
   ]
  },
  {
   "cell_type": "code",
   "execution_count": 128,
   "metadata": {},
   "outputs": [],
   "source": [
    "df_json_jobpost = df_json_jobpost.iloc[0:1,8:]"
   ]
  },
  {
   "cell_type": "code",
   "execution_count": 129,
   "metadata": {},
   "outputs": [],
   "source": [
    "df_json_jobpost.columns = list(df_csv_selected_rows.columns.values)"
   ]
  },
  {
   "cell_type": "code",
   "execution_count": 130,
   "metadata": {},
   "outputs": [
    {
     "data": {
      "text/html": [
       "<div>\n",
       "<style scoped>\n",
       "    .dataframe tbody tr th:only-of-type {\n",
       "        vertical-align: middle;\n",
       "    }\n",
       "\n",
       "    .dataframe tbody tr th {\n",
       "        vertical-align: top;\n",
       "    }\n",
       "\n",
       "    .dataframe thead th {\n",
       "        text-align: right;\n",
       "    }\n",
       "</style>\n",
       "<table border=\"1\" class=\"dataframe\">\n",
       "  <thead>\n",
       "    <tr style=\"text-align: right;\">\n",
       "      <th></th>\n",
       "      <th>Job ID</th>\n",
       "      <th>Agency</th>\n",
       "      <th>Posting Type</th>\n",
       "      <th># Of Positions</th>\n",
       "      <th>Business Title</th>\n",
       "      <th>Civil Service Title</th>\n",
       "      <th>Title Classification</th>\n",
       "      <th>Title Code No</th>\n",
       "      <th>Level</th>\n",
       "      <th>Job Category</th>\n",
       "      <th>...</th>\n",
       "      <th>Additional Information</th>\n",
       "      <th>To Apply</th>\n",
       "      <th>Hours/Shift</th>\n",
       "      <th>Work Location 1</th>\n",
       "      <th>Recruitment Contact</th>\n",
       "      <th>Residency Requirement</th>\n",
       "      <th>Posting Date</th>\n",
       "      <th>Post Until</th>\n",
       "      <th>Posting Updated</th>\n",
       "      <th>Process Date</th>\n",
       "    </tr>\n",
       "  </thead>\n",
       "  <tbody>\n",
       "    <tr>\n",
       "      <th>0</th>\n",
       "      <td>606346</td>\n",
       "      <td>DEPARTMENT FOR THE AGING</td>\n",
       "      <td>External</td>\n",
       "      <td>1</td>\n",
       "      <td>Business Operations Analyst</td>\n",
       "      <td>ASSOCIATE STAFF ANALYST</td>\n",
       "      <td>Competitive-1</td>\n",
       "      <td>12627</td>\n",
       "      <td>00</td>\n",
       "      <td>Administration &amp; Human Resources Technology, D...</td>\n",
       "      <td>...</td>\n",
       "      <td>None</td>\n",
       "      <td>Please be sure to submit a resume &amp; cover lett...</td>\n",
       "      <td>None</td>\n",
       "      <td>None</td>\n",
       "      <td>None</td>\n",
       "      <td>New York City residency is generally required ...</td>\n",
       "      <td>2023-09-28T00:00:00</td>\n",
       "      <td>27-DEC-2023</td>\n",
       "      <td>2023-09-29T00:00:00</td>\n",
       "      <td>2023-11-20T00:00:00</td>\n",
       "    </tr>\n",
       "  </tbody>\n",
       "</table>\n",
       "<p>1 rows × 30 columns</p>\n",
       "</div>"
      ],
      "text/plain": [
       "   Job ID                    Agency Posting Type # Of Positions  \\\n",
       "0  606346  DEPARTMENT FOR THE AGING     External              1   \n",
       "\n",
       "                Business Title      Civil Service Title Title Classification  \\\n",
       "0  Business Operations Analyst  ASSOCIATE STAFF ANALYST        Competitive-1   \n",
       "\n",
       "  Title Code No Level                                       Job Category  ...  \\\n",
       "0         12627    00  Administration & Human Resources Technology, D...  ...   \n",
       "\n",
       "  Additional Information                                           To Apply  \\\n",
       "0                   None  Please be sure to submit a resume & cover lett...   \n",
       "\n",
       "  Hours/Shift Work Location 1 Recruitment Contact  \\\n",
       "0        None            None                None   \n",
       "\n",
       "                               Residency Requirement         Posting Date  \\\n",
       "0  New York City residency is generally required ...  2023-09-28T00:00:00   \n",
       "\n",
       "    Post Until      Posting Updated         Process Date  \n",
       "0  27-DEC-2023  2023-09-29T00:00:00  2023-11-20T00:00:00  \n",
       "\n",
       "[1 rows x 30 columns]"
      ]
     },
     "execution_count": 130,
     "metadata": {},
     "output_type": "execute_result"
    }
   ],
   "source": [
    "df_json_jobpost[0:1]"
   ]
  },
  {
   "cell_type": "code",
   "execution_count": null,
   "metadata": {},
   "outputs": [],
   "source": []
  },
  {
   "cell_type": "code",
   "execution_count": null,
   "metadata": {},
   "outputs": [],
   "source": []
  },
  {
   "cell_type": "markdown",
   "metadata": {},
   "source": [
    "# creating dataframe from dictionary based JSON file"
   ]
  },
  {
   "cell_type": "code",
   "execution_count": 131,
   "metadata": {},
   "outputs": [],
   "source": [
    "import json\n",
    "from typing import List, Dict, Tuple, NoReturn"
   ]
  },
  {
   "cell_type": "code",
   "execution_count": 132,
   "metadata": {},
   "outputs": [],
   "source": [
    "dict_jobpost: Dict = json.load(open(\"./data/Jobs_NYC_Postings_mini.json\", \"r\", encoding=\"utf8\"))"
   ]
  },
  {
   "cell_type": "code",
   "execution_count": 133,
   "metadata": {},
   "outputs": [
    {
     "name": "stdout",
     "output_type": "stream",
     "text": [
      "<class 'dict'>\n"
     ]
    },
    {
     "data": {
      "text/plain": [
       "{'0': {'title': 'Business Operations Analyst',\n",
       "  'company': 'Administration & Human Resources Technology, Data & Innovation Policy, Research & Analysis',\n",
       "  'qualification': '1. A masterâ\\x80\\x99s degree from an accredited college or university, accredited by regional, national, professional or specialized agencies recognized as accrediting bodies by the U.S. Secretary of Education and the Council for Higher Education Accreditation (CHEA) in economics, finance, accounting, business or public administration, human resources management, management science, operations research, organizational behavior, industrial psychology, statistics, personnel administration, labor relations, psychology, sociology, human resources development, political science, urban studies or a closely related field, and one year of satisfactory full-time professional experience in one or a combination of the following: working with the budget of a large public or private concern in budget administration, accounting, economic or financial administration, or fiscal or economic research; or in management or methods analysis, operations research, organizational research or program evaluation; or in personnel or public administration, recruitment, position classification, personnel relations, labor relations, employee   benefits, staff development, employment program planning/administration, labor market research, economic planning, social services program planning/evaluation, or fiscal management; or in a related area; or  2. A baccalaureate degree from an accredited college or university, accredited by regional, national, professional or specialized agencies recognized as accrediting bodies by the U.S. Secretary of Education and the Council for Higher Education Accreditation (CHEA) and three years of satisfactory full-time professional experience in the areas described in â\\x80\\x81E above.'},\n",
       " '1': {'title': 'Executive Program Manager',\n",
       "  'qualification': \"At least six years of full-time satisfactory experience in construction management work on capital projects, each one of which must have had a dollar value of at least $15,000, at least eighteen months of which must have been in a managerial or consultative capacity in an organization responsible for the management of construction; and a combination of the following, sufficient to equal a total of ten years of education and experience:  a. Full-time satisfactory experience in construction inspection on capital projects, each one of which must have had a dollar value of at least $15,000. One year of acceptable experience will be credited for each year of construction inspection experience up to a maximum of four years.  b. Full-time satisfactory experience in building construction as a journeyperson in one or more of the skilled building construction trades. One year of acceptable experience will be credited for each year of journeyperson experience up to a maximum of four years.  c. Education in an accredited college leading to a bachelor's degree in architecture, landscape architecture, or air pollution control, chemical, civil including structural and bridge design, electrical, mechanical, or sanitary engineering will be credited on the basis of 30 credits for one year of acceptable experience up to a maximum of four years.  A New York State license as a professional engineer or registered architect or a license as a professional engineer or registered architect from a state that has reciprocity with New York State may be substituted for the four years of education and experience described in a, b and c above. However, all candidates must have at least six years of experience in construction management work described above, including at least eighteen months in a managerial or consultative capacity in an organization responsible for the management of construction.    License Requirements  Possession of a Motor Vehicle Driver License valid in the State of New York. Employees must maintain the license during their employment.\",\n",
       "  'company': 'Communications & Intergovernmental Affairs Engineering, Architecture, & Planning'},\n",
       " '2': {'title': 'Analyst  Energy Efficiency and Modernization',\n",
       "  'qualification': '1. A baccalaureate degree from an accredited college.',\n",
       "  'company': 'Finance, Accounting, & Procurement Policy, Research & Analysis'}}"
      ]
     },
     "execution_count": 133,
     "metadata": {},
     "output_type": "execute_result"
    }
   ],
   "source": [
    "print (type(dict_jobpost))\n",
    "dict_jobpost"
   ]
  },
  {
   "cell_type": "code",
   "execution_count": 134,
   "metadata": {},
   "outputs": [
    {
     "data": {
      "text/plain": [
       "{'title': 'Business Operations Analyst',\n",
       " 'company': 'Administration & Human Resources Technology, Data & Innovation Policy, Research & Analysis',\n",
       " 'qualification': '1. A masterâ\\x80\\x99s degree from an accredited college or university, accredited by regional, national, professional or specialized agencies recognized as accrediting bodies by the U.S. Secretary of Education and the Council for Higher Education Accreditation (CHEA) in economics, finance, accounting, business or public administration, human resources management, management science, operations research, organizational behavior, industrial psychology, statistics, personnel administration, labor relations, psychology, sociology, human resources development, political science, urban studies or a closely related field, and one year of satisfactory full-time professional experience in one or a combination of the following: working with the budget of a large public or private concern in budget administration, accounting, economic or financial administration, or fiscal or economic research; or in management or methods analysis, operations research, organizational research or program evaluation; or in personnel or public administration, recruitment, position classification, personnel relations, labor relations, employee   benefits, staff development, employment program planning/administration, labor market research, economic planning, social services program planning/evaluation, or fiscal management; or in a related area; or  2. A baccalaureate degree from an accredited college or university, accredited by regional, national, professional or specialized agencies recognized as accrediting bodies by the U.S. Secretary of Education and the Council for Higher Education Accreditation (CHEA) and three years of satisfactory full-time professional experience in the areas described in â\\x80\\x81E above.'}"
      ]
     },
     "execution_count": 134,
     "metadata": {},
     "output_type": "execute_result"
    }
   ],
   "source": [
    "dict_json_jobpost = json.dumps(dict_jobpost[\"0\"])\n",
    "df_dict_json_jobpost = json.loads(dict_json_jobpost)\n",
    "df_dict_json_jobpost"
   ]
  },
  {
   "cell_type": "code",
   "execution_count": 135,
   "metadata": {},
   "outputs": [],
   "source": [
    "dict_json_jobposts = json.dumps(all_jds)\n",
    "df_dict_json_jobposts = pd.read_json(dict_json_jobposts, orient='index')"
   ]
  },
  {
   "cell_type": "code",
   "execution_count": 136,
   "metadata": {},
   "outputs": [
    {
     "data": {
      "text/html": [
       "<div>\n",
       "<style scoped>\n",
       "    .dataframe tbody tr th:only-of-type {\n",
       "        vertical-align: middle;\n",
       "    }\n",
       "\n",
       "    .dataframe tbody tr th {\n",
       "        vertical-align: top;\n",
       "    }\n",
       "\n",
       "    .dataframe thead th {\n",
       "        text-align: right;\n",
       "    }\n",
       "</style>\n",
       "<table border=\"1\" class=\"dataframe\">\n",
       "  <thead>\n",
       "    <tr style=\"text-align: right;\">\n",
       "      <th></th>\n",
       "      <th>title</th>\n",
       "      <th>company</th>\n",
       "      <th>qualification</th>\n",
       "    </tr>\n",
       "  </thead>\n",
       "  <tbody>\n",
       "    <tr>\n",
       "      <th>0</th>\n",
       "      <td>Business Operations Analyst</td>\n",
       "      <td>Administration &amp; Human Resources Technology, D...</td>\n",
       "      <td>1. A masterâs degree from an accredited coll...</td>\n",
       "    </tr>\n",
       "  </tbody>\n",
       "</table>\n",
       "</div>"
      ],
      "text/plain": [
       "                         title  \\\n",
       "0  Business Operations Analyst   \n",
       "\n",
       "                                             company  \\\n",
       "0  Administration & Human Resources Technology, D...   \n",
       "\n",
       "                                       qualification  \n",
       "0  1. A masterâs degree from an accredited coll...  "
      ]
     },
     "execution_count": 136,
     "metadata": {},
     "output_type": "execute_result"
    }
   ],
   "source": [
    "df_dict_json_jobposts[0:1]"
   ]
  },
  {
   "cell_type": "code",
   "execution_count": 137,
   "metadata": {},
   "outputs": [
    {
     "name": "stdout",
     "output_type": "stream",
     "text": [
      "(3, 3)\n"
     ]
    },
    {
     "data": {
      "text/plain": [
       "title            object\n",
       "company          object\n",
       "qualification    object\n",
       "dtype: object"
      ]
     },
     "execution_count": 137,
     "metadata": {},
     "output_type": "execute_result"
    }
   ],
   "source": [
    "print(df_dict_json_jobposts.shape)\n",
    "df_dict_json_jobposts.dtypes"
   ]
  },
  {
   "cell_type": "code",
   "execution_count": null,
   "metadata": {},
   "outputs": [],
   "source": []
  },
  {
   "cell_type": "code",
   "execution_count": null,
   "metadata": {},
   "outputs": [],
   "source": []
  },
  {
   "cell_type": "markdown",
   "metadata": {},
   "source": [
    "# save as JSONL file and read"
   ]
  },
  {
   "cell_type": "code",
   "execution_count": 138,
   "metadata": {},
   "outputs": [
    {
     "data": {
      "text/html": [
       "<div>\n",
       "<style scoped>\n",
       "    .dataframe tbody tr th:only-of-type {\n",
       "        vertical-align: middle;\n",
       "    }\n",
       "\n",
       "    .dataframe tbody tr th {\n",
       "        vertical-align: top;\n",
       "    }\n",
       "\n",
       "    .dataframe thead th {\n",
       "        text-align: right;\n",
       "    }\n",
       "</style>\n",
       "<table border=\"1\" class=\"dataframe\">\n",
       "  <thead>\n",
       "    <tr style=\"text-align: right;\">\n",
       "      <th></th>\n",
       "      <th>Job ID</th>\n",
       "      <th>Agency</th>\n",
       "      <th>Posting Type</th>\n",
       "      <th># Of Positions</th>\n",
       "      <th>Business Title</th>\n",
       "      <th>Civil Service Title</th>\n",
       "      <th>Title Classification</th>\n",
       "      <th>Title Code No</th>\n",
       "      <th>Level</th>\n",
       "      <th>Job Category</th>\n",
       "      <th>...</th>\n",
       "      <th>Additional Information</th>\n",
       "      <th>To Apply</th>\n",
       "      <th>Hours/Shift</th>\n",
       "      <th>Work Location 1</th>\n",
       "      <th>Recruitment Contact</th>\n",
       "      <th>Residency Requirement</th>\n",
       "      <th>Posting Date</th>\n",
       "      <th>Post Until</th>\n",
       "      <th>Posting Updated</th>\n",
       "      <th>Process Date</th>\n",
       "    </tr>\n",
       "  </thead>\n",
       "  <tbody>\n",
       "    <tr>\n",
       "      <th>0</th>\n",
       "      <td>606346</td>\n",
       "      <td>DEPARTMENT FOR THE AGING</td>\n",
       "      <td>External</td>\n",
       "      <td>1</td>\n",
       "      <td>Business Operations Analyst</td>\n",
       "      <td>ASSOCIATE STAFF ANALYST</td>\n",
       "      <td>Competitive-1</td>\n",
       "      <td>12627</td>\n",
       "      <td>00</td>\n",
       "      <td>Administration &amp; Human Resources Technology, D...</td>\n",
       "      <td>...</td>\n",
       "      <td>0</td>\n",
       "      <td>Please be sure to submit a resume &amp; cover lett...</td>\n",
       "      <td>0</td>\n",
       "      <td>0</td>\n",
       "      <td>0.0</td>\n",
       "      <td>New York City residency is generally required ...</td>\n",
       "      <td>09/28/2023</td>\n",
       "      <td>27-DEC-2023</td>\n",
       "      <td>09/29/2023</td>\n",
       "      <td>11/20/2023</td>\n",
       "    </tr>\n",
       "  </tbody>\n",
       "</table>\n",
       "<p>1 rows × 30 columns</p>\n",
       "</div>"
      ],
      "text/plain": [
       "   Job ID                    Agency Posting Type  # Of Positions  \\\n",
       "0  606346  DEPARTMENT FOR THE AGING     External               1   \n",
       "\n",
       "                Business Title      Civil Service Title Title Classification  \\\n",
       "0  Business Operations Analyst  ASSOCIATE STAFF ANALYST        Competitive-1   \n",
       "\n",
       "  Title Code No Level                                       Job Category  ...  \\\n",
       "0         12627    00  Administration & Human Resources Technology, D...  ...   \n",
       "\n",
       "  Additional Information                                           To Apply  \\\n",
       "0                      0  Please be sure to submit a resume & cover lett...   \n",
       "\n",
       "   Hours/Shift  Work Location 1 Recruitment Contact  \\\n",
       "0            0                0                 0.0   \n",
       "\n",
       "                               Residency Requirement Posting Date  \\\n",
       "0  New York City residency is generally required ...   09/28/2023   \n",
       "\n",
       "    Post Until Posting Updated Process Date  \n",
       "0  27-DEC-2023      09/29/2023   11/20/2023  \n",
       "\n",
       "[1 rows x 30 columns]"
      ]
     },
     "execution_count": 138,
     "metadata": {},
     "output_type": "execute_result"
    }
   ],
   "source": [
    "df_csv[0:1]"
   ]
  },
  {
   "cell_type": "code",
   "execution_count": 139,
   "metadata": {},
   "outputs": [],
   "source": [
    "df_csv.to_json(\"./data/Jobs_NYC_Postings.jsonl\", orient='records', lines=True)"
   ]
  },
  {
   "cell_type": "code",
   "execution_count": 1,
   "metadata": {},
   "outputs": [],
   "source": [
    "import pandas as pd"
   ]
  },
  {
   "cell_type": "code",
   "execution_count": 2,
   "metadata": {},
   "outputs": [],
   "source": [
    "# reading jsonl file to dataframe\n",
    "df_jsonl = pd.read_json('./data/Jobs_NYC_Postings.jsonl', orient='records', lines=True)"
   ]
  },
  {
   "cell_type": "code",
   "execution_count": 3,
   "metadata": {},
   "outputs": [
    {
     "data": {
      "text/html": [
       "<div>\n",
       "<style scoped>\n",
       "    .dataframe tbody tr th:only-of-type {\n",
       "        vertical-align: middle;\n",
       "    }\n",
       "\n",
       "    .dataframe tbody tr th {\n",
       "        vertical-align: top;\n",
       "    }\n",
       "\n",
       "    .dataframe thead th {\n",
       "        text-align: right;\n",
       "    }\n",
       "</style>\n",
       "<table border=\"1\" class=\"dataframe\">\n",
       "  <thead>\n",
       "    <tr style=\"text-align: right;\">\n",
       "      <th></th>\n",
       "      <th>Job ID</th>\n",
       "      <th>Agency</th>\n",
       "      <th>Posting Type</th>\n",
       "      <th># Of Positions</th>\n",
       "      <th>Business Title</th>\n",
       "      <th>Civil Service Title</th>\n",
       "      <th>Title Classification</th>\n",
       "      <th>Title Code No</th>\n",
       "      <th>Level</th>\n",
       "      <th>Job Category</th>\n",
       "      <th>Full-Time/Part-Time indicator</th>\n",
       "      <th>Career Level</th>\n",
       "      <th>Salary Range From</th>\n",
       "      <th>Salary Range To</th>\n",
       "      <th>Salary Frequency</th>\n",
       "      <th>Work Location</th>\n",
       "      <th>Division/Work Unit</th>\n",
       "      <th>Job Description</th>\n",
       "      <th>Minimum Qual Requirements</th>\n",
       "      <th>Preferred Skills</th>\n",
       "      <th>Additional Information</th>\n",
       "      <th>To Apply</th>\n",
       "      <th>Hours/Shift</th>\n",
       "      <th>Work Location 1</th>\n",
       "      <th>Recruitment Contact</th>\n",
       "      <th>Residency Requirement</th>\n",
       "      <th>Posting Date</th>\n",
       "      <th>Post Until</th>\n",
       "      <th>Posting Updated</th>\n",
       "      <th>Process Date</th>\n",
       "    </tr>\n",
       "  </thead>\n",
       "  <tbody>\n",
       "    <tr>\n",
       "      <th>0</th>\n",
       "      <td>606346</td>\n",
       "      <td>DEPARTMENT FOR THE AGING</td>\n",
       "      <td>External</td>\n",
       "      <td>1</td>\n",
       "      <td>Business Operations Analyst</td>\n",
       "      <td>ASSOCIATE STAFF ANALYST</td>\n",
       "      <td>Competitive-1</td>\n",
       "      <td>12627</td>\n",
       "      <td>00</td>\n",
       "      <td>Administration &amp; Human Resources Technology, Data &amp; Innovation Policy, Research &amp; Analysis</td>\n",
       "      <td>F</td>\n",
       "      <td>Experienced (non-manager)</td>\n",
       "      <td>70611.0</td>\n",
       "      <td>81203.0</td>\n",
       "      <td>Annual</td>\n",
       "      <td>2 Lafayette St., N.Y.</td>\n",
       "      <td>Human Resources</td>\n",
       "      <td>The Office of Human Resources (OHR) seeks a highly motivated individual to serve as a Business O...</td>\n",
       "      <td>1. A masterâs degree from an accredited college or university, accredited by regional, nationa...</td>\n",
       "      <td>â¢ Project management experience and expertise is a plus. â¢ Self-starter; works independently...</td>\n",
       "      <td>0</td>\n",
       "      <td>Please be sure to submit a resume &amp; cover letter when applying. All current City Employees may a...</td>\n",
       "      <td>0</td>\n",
       "      <td>0</td>\n",
       "      <td>0</td>\n",
       "      <td>New York City residency is generally required within 90 days of appointment. However, City Emplo...</td>\n",
       "      <td>09/28/2023</td>\n",
       "      <td>27-DEC-2023</td>\n",
       "      <td>09/29/2023</td>\n",
       "      <td>11/20/2023</td>\n",
       "    </tr>\n",
       "  </tbody>\n",
       "</table>\n",
       "</div>"
      ],
      "text/plain": [
       "   Job ID                    Agency Posting Type  # Of Positions  \\\n",
       "0  606346  DEPARTMENT FOR THE AGING     External               1   \n",
       "\n",
       "                Business Title      Civil Service Title Title Classification  \\\n",
       "0  Business Operations Analyst  ASSOCIATE STAFF ANALYST        Competitive-1   \n",
       "\n",
       "  Title Code No Level  \\\n",
       "0         12627    00   \n",
       "\n",
       "                                                                                 Job Category  \\\n",
       "0  Administration & Human Resources Technology, Data & Innovation Policy, Research & Analysis   \n",
       "\n",
       "  Full-Time/Part-Time indicator               Career Level  Salary Range From  \\\n",
       "0                             F  Experienced (non-manager)            70611.0   \n",
       "\n",
       "   Salary Range To Salary Frequency          Work Location Division/Work Unit  \\\n",
       "0          81203.0           Annual  2 Lafayette St., N.Y.    Human Resources   \n",
       "\n",
       "                                                                                       Job Description  \\\n",
       "0  The Office of Human Resources (OHR) seeks a highly motivated individual to serve as a Business O...   \n",
       "\n",
       "                                                                             Minimum Qual Requirements  \\\n",
       "0  1. A masterâs degree from an accredited college or university, accredited by regional, nationa...   \n",
       "\n",
       "                                                                                      Preferred Skills  \\\n",
       "0  â¢ Project management experience and expertise is a plus. â¢ Self-starter; works independently...   \n",
       "\n",
       "  Additional Information  \\\n",
       "0                      0   \n",
       "\n",
       "                                                                                              To Apply  \\\n",
       "0  Please be sure to submit a resume & cover letter when applying. All current City Employees may a...   \n",
       "\n",
       "  Hours/Shift Work Location 1  Recruitment Contact  \\\n",
       "0           0               0                    0   \n",
       "\n",
       "                                                                                 Residency Requirement  \\\n",
       "0  New York City residency is generally required within 90 days of appointment. However, City Emplo...   \n",
       "\n",
       "  Posting Date   Post Until Posting Updated Process Date  \n",
       "0   09/28/2023  27-DEC-2023      09/29/2023   11/20/2023  "
      ]
     },
     "execution_count": 3,
     "metadata": {},
     "output_type": "execute_result"
    }
   ],
   "source": [
    "pd.get_option(\"display.max_columns\")\n",
    "pd.get_option(\"display.max_colwidth\")\n",
    "pd.set_option('display.max_columns', 50)\n",
    "pd.set_option('display.max_colwidth', 100)\n",
    "\n",
    "df_jsonl[0:1]"
   ]
  },
  {
   "cell_type": "code",
   "execution_count": null,
   "metadata": {},
   "outputs": [],
   "source": []
  },
  {
   "cell_type": "code",
   "execution_count": null,
   "metadata": {},
   "outputs": [],
   "source": []
  },
  {
   "cell_type": "markdown",
   "metadata": {},
   "source": [
    "# creating dataframe from EXCEL "
   ]
  },
  {
   "cell_type": "code",
   "execution_count": 142,
   "metadata": {},
   "outputs": [],
   "source": [
    "import pandas as pd"
   ]
  },
  {
   "cell_type": "code",
   "execution_count": 143,
   "metadata": {},
   "outputs": [],
   "source": [
    "# reading excel file to dataframe\n",
    "# df_excel = pd.read_excel('./data/Jobs_NYC_Postings.xlsx', index_col=0)\n",
    "df_excel = pd.read_excel('./data/Jobs_NYC_Postings.xlsx')"
   ]
  },
  {
   "cell_type": "code",
   "execution_count": 144,
   "metadata": {},
   "outputs": [
    {
     "data": {
      "text/html": [
       "<div>\n",
       "<style scoped>\n",
       "    .dataframe tbody tr th:only-of-type {\n",
       "        vertical-align: middle;\n",
       "    }\n",
       "\n",
       "    .dataframe tbody tr th {\n",
       "        vertical-align: top;\n",
       "    }\n",
       "\n",
       "    .dataframe thead th {\n",
       "        text-align: right;\n",
       "    }\n",
       "</style>\n",
       "<table border=\"1\" class=\"dataframe\">\n",
       "  <thead>\n",
       "    <tr style=\"text-align: right;\">\n",
       "      <th></th>\n",
       "      <th>Job ID</th>\n",
       "      <th>Agency</th>\n",
       "      <th>Posting Type</th>\n",
       "      <th># Of Positions</th>\n",
       "      <th>Business Title</th>\n",
       "      <th>Civil Service Title</th>\n",
       "      <th>Title Classification</th>\n",
       "      <th>Title Code No</th>\n",
       "      <th>Level</th>\n",
       "      <th>Job Category</th>\n",
       "      <th>...</th>\n",
       "      <th>Unnamed: 95</th>\n",
       "      <th>Unnamed: 96</th>\n",
       "      <th>Unnamed: 97</th>\n",
       "      <th>Unnamed: 98</th>\n",
       "      <th>Unnamed: 99</th>\n",
       "      <th>Unnamed: 100</th>\n",
       "      <th>Unnamed: 101</th>\n",
       "      <th>Unnamed: 102</th>\n",
       "      <th>Unnamed: 103</th>\n",
       "      <th>Unnamed: 104</th>\n",
       "    </tr>\n",
       "  </thead>\n",
       "  <tbody>\n",
       "    <tr>\n",
       "      <th>0</th>\n",
       "      <td>606346</td>\n",
       "      <td>DEPARTMENT FOR THE AGING</td>\n",
       "      <td>External</td>\n",
       "      <td>1</td>\n",
       "      <td>Business Operations Analyst</td>\n",
       "      <td>ASSOCIATE STAFF ANALYST</td>\n",
       "      <td>Competitive-1</td>\n",
       "      <td>12627</td>\n",
       "      <td>0</td>\n",
       "      <td>Administration &amp; Human Resources Technology, D...</td>\n",
       "      <td>...</td>\n",
       "      <td>NaN</td>\n",
       "      <td>NaN</td>\n",
       "      <td>NaN</td>\n",
       "      <td>NaN</td>\n",
       "      <td>NaN</td>\n",
       "      <td>NaN</td>\n",
       "      <td>NaN</td>\n",
       "      <td>NaT</td>\n",
       "      <td>NaN</td>\n",
       "      <td>NaN</td>\n",
       "    </tr>\n",
       "  </tbody>\n",
       "</table>\n",
       "<p>1 rows × 105 columns</p>\n",
       "</div>"
      ],
      "text/plain": [
       "   Job ID                    Agency Posting Type  # Of Positions  \\\n",
       "0  606346  DEPARTMENT FOR THE AGING     External               1   \n",
       "\n",
       "                Business Title      Civil Service Title Title Classification  \\\n",
       "0  Business Operations Analyst  ASSOCIATE STAFF ANALYST        Competitive-1   \n",
       "\n",
       "  Title Code No Level                                       Job Category  ...  \\\n",
       "0         12627     0  Administration & Human Resources Technology, D...  ...   \n",
       "\n",
       "  Unnamed: 95 Unnamed: 96  Unnamed: 97 Unnamed: 98 Unnamed: 99 Unnamed: 100  \\\n",
       "0         NaN         NaN          NaN         NaN         NaN          NaN   \n",
       "\n",
       "  Unnamed: 101 Unnamed: 102 Unnamed: 103 Unnamed: 104  \n",
       "0          NaN          NaT          NaN          NaN  \n",
       "\n",
       "[1 rows x 105 columns]"
      ]
     },
     "execution_count": 144,
     "metadata": {},
     "output_type": "execute_result"
    }
   ],
   "source": [
    "df_excel[0:1]"
   ]
  },
  {
   "cell_type": "code",
   "execution_count": null,
   "metadata": {},
   "outputs": [],
   "source": []
  },
  {
   "cell_type": "code",
   "execution_count": null,
   "metadata": {},
   "outputs": [],
   "source": []
  }
 ],
 "metadata": {
  "kernelspec": {
   "display_name": "base",
   "language": "python",
   "name": "python3"
  },
  "language_info": {
   "codemirror_mode": {
    "name": "ipython",
    "version": 3
   },
   "file_extension": ".py",
   "mimetype": "text/x-python",
   "name": "python",
   "nbconvert_exporter": "python",
   "pygments_lexer": "ipython3",
   "version": "0.0.0"
  }
 },
 "nbformat": 4,
 "nbformat_minor": 2
}
