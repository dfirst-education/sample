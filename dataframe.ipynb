{
 "cells": [
  {
   "cell_type": "markdown",
   "metadata": {},
   "source": [
    "# creating dataframe from CSV"
   ]
  },
  {
   "cell_type": "code",
   "execution_count": 114,
   "metadata": {},
   "outputs": [],
   "source": [
    "import pandas as pd"
   ]
  },
  {
   "cell_type": "code",
   "execution_count": 115,
   "metadata": {},
   "outputs": [],
   "source": [
    "# reading csv file to dataframe\n",
    "df_csv = pd.read_csv('./data/Jobs_NYC_Postings.csv', header=0)"
   ]
  },
  {
   "cell_type": "code",
   "execution_count": 116,
   "metadata": {},
   "outputs": [
    {
     "data": {
      "text/html": [
       "<div>\n",
       "<style scoped>\n",
       "    .dataframe tbody tr th:only-of-type {\n",
       "        vertical-align: middle;\n",
       "    }\n",
       "\n",
       "    .dataframe tbody tr th {\n",
       "        vertical-align: top;\n",
       "    }\n",
       "\n",
       "    .dataframe thead th {\n",
       "        text-align: right;\n",
       "    }\n",
       "</style>\n",
       "<table border=\"1\" class=\"dataframe\">\n",
       "  <thead>\n",
       "    <tr style=\"text-align: right;\">\n",
       "      <th></th>\n",
       "      <th>Job ID</th>\n",
       "      <th>Agency</th>\n",
       "      <th>Posting Type</th>\n",
       "      <th># Of Positions</th>\n",
       "      <th>Business Title</th>\n",
       "      <th>Civil Service Title</th>\n",
       "      <th>Title Classification</th>\n",
       "      <th>Title Code No</th>\n",
       "      <th>Level</th>\n",
       "      <th>Job Category</th>\n",
       "      <th>...</th>\n",
       "      <th>Additional Information</th>\n",
       "      <th>To Apply</th>\n",
       "      <th>Hours/Shift</th>\n",
       "      <th>Work Location 1</th>\n",
       "      <th>Recruitment Contact</th>\n",
       "      <th>Residency Requirement</th>\n",
       "      <th>Posting Date</th>\n",
       "      <th>Post Until</th>\n",
       "      <th>Posting Updated</th>\n",
       "      <th>Process Date</th>\n",
       "    </tr>\n",
       "  </thead>\n",
       "  <tbody>\n",
       "    <tr>\n",
       "      <th>0</th>\n",
       "      <td>606346</td>\n",
       "      <td>DEPARTMENT FOR THE AGING</td>\n",
       "      <td>External</td>\n",
       "      <td>1</td>\n",
       "      <td>Business Operations Analyst</td>\n",
       "      <td>ASSOCIATE STAFF ANALYST</td>\n",
       "      <td>Competitive-1</td>\n",
       "      <td>12627</td>\n",
       "      <td>00</td>\n",
       "      <td>Administration &amp; Human Resources Technology, D...</td>\n",
       "      <td>...</td>\n",
       "      <td>NaN</td>\n",
       "      <td>Please be sure to submit a resume &amp; cover lett...</td>\n",
       "      <td>NaN</td>\n",
       "      <td>NaN</td>\n",
       "      <td>NaN</td>\n",
       "      <td>New York City residency is generally required ...</td>\n",
       "      <td>09/28/2023</td>\n",
       "      <td>27-DEC-2023</td>\n",
       "      <td>09/29/2023</td>\n",
       "      <td>11/20/2023</td>\n",
       "    </tr>\n",
       "  </tbody>\n",
       "</table>\n",
       "<p>1 rows × 30 columns</p>\n",
       "</div>"
      ],
      "text/plain": [
       "   Job ID                    Agency Posting Type  # Of Positions  \\\n",
       "0  606346  DEPARTMENT FOR THE AGING     External               1   \n",
       "\n",
       "                Business Title      Civil Service Title Title Classification  \\\n",
       "0  Business Operations Analyst  ASSOCIATE STAFF ANALYST        Competitive-1   \n",
       "\n",
       "  Title Code No Level                                       Job Category  ...  \\\n",
       "0         12627    00  Administration & Human Resources Technology, D...  ...   \n",
       "\n",
       "  Additional Information                                           To Apply  \\\n",
       "0                    NaN  Please be sure to submit a resume & cover lett...   \n",
       "\n",
       "   Hours/Shift  Work Location 1 Recruitment Contact  \\\n",
       "0          NaN              NaN                 NaN   \n",
       "\n",
       "                               Residency Requirement Posting Date  \\\n",
       "0  New York City residency is generally required ...   09/28/2023   \n",
       "\n",
       "    Post Until Posting Updated Process Date  \n",
       "0  27-DEC-2023      09/29/2023   11/20/2023  \n",
       "\n",
       "[1 rows x 30 columns]"
      ]
     },
     "execution_count": 116,
     "metadata": {},
     "output_type": "execute_result"
    }
   ],
   "source": [
    "df_csv[0:1]"
   ]
  },
  {
   "cell_type": "code",
   "execution_count": 117,
   "metadata": {},
   "outputs": [
    {
     "name": "stdout",
     "output_type": "stream",
     "text": [
      "(6186, 30)\n"
     ]
    }
   ],
   "source": [
    "print(df_csv.shape)"
   ]
  },
  {
   "cell_type": "code",
   "execution_count": 118,
   "metadata": {},
   "outputs": [
    {
     "data": {
      "text/plain": [
       "Job ID                             int64\n",
       "Agency                            object\n",
       "Posting Type                      object\n",
       "# Of Positions                     int64\n",
       "Business Title                    object\n",
       "Civil Service Title               object\n",
       "Title Classification              object\n",
       "Title Code No                     object\n",
       "Level                             object\n",
       "Job Category                      object\n",
       "Full-Time/Part-Time indicator     object\n",
       "Career Level                      object\n",
       "Salary Range From                float64\n",
       "Salary Range To                  float64\n",
       "Salary Frequency                  object\n",
       "Work Location                     object\n",
       "Division/Work Unit                object\n",
       "Job Description                   object\n",
       "Minimum Qual Requirements         object\n",
       "Preferred Skills                  object\n",
       "Additional Information            object\n",
       "To Apply                          object\n",
       "Hours/Shift                       object\n",
       "Work Location 1                   object\n",
       "Recruitment Contact              float64\n",
       "Residency Requirement             object\n",
       "Posting Date                      object\n",
       "Post Until                        object\n",
       "Posting Updated                   object\n",
       "Process Date                      object\n",
       "dtype: object"
      ]
     },
     "execution_count": 118,
     "metadata": {},
     "output_type": "execute_result"
    }
   ],
   "source": [
    "df_csv.dtypes\n",
    "# df_csv['column1'] = df_csv['column1'].astype('object')"
   ]
  },
  {
   "cell_type": "code",
   "execution_count": 119,
   "metadata": {},
   "outputs": [],
   "source": [
    "df_csv = df_csv.fillna(0)"
   ]
  },
  {
   "cell_type": "code",
   "execution_count": 120,
   "metadata": {},
   "outputs": [
    {
     "data": {
      "text/html": [
       "<div>\n",
       "<style scoped>\n",
       "    .dataframe tbody tr th:only-of-type {\n",
       "        vertical-align: middle;\n",
       "    }\n",
       "\n",
       "    .dataframe tbody tr th {\n",
       "        vertical-align: top;\n",
       "    }\n",
       "\n",
       "    .dataframe thead th {\n",
       "        text-align: right;\n",
       "    }\n",
       "</style>\n",
       "<table border=\"1\" class=\"dataframe\">\n",
       "  <thead>\n",
       "    <tr style=\"text-align: right;\">\n",
       "      <th></th>\n",
       "      <th>Job ID</th>\n",
       "      <th>Agency</th>\n",
       "      <th>Posting Type</th>\n",
       "      <th># Of Positions</th>\n",
       "      <th>Business Title</th>\n",
       "      <th>Civil Service Title</th>\n",
       "      <th>Title Classification</th>\n",
       "      <th>Title Code No</th>\n",
       "      <th>Level</th>\n",
       "      <th>Job Category</th>\n",
       "      <th>...</th>\n",
       "      <th>Additional Information</th>\n",
       "      <th>To Apply</th>\n",
       "      <th>Hours/Shift</th>\n",
       "      <th>Work Location 1</th>\n",
       "      <th>Recruitment Contact</th>\n",
       "      <th>Residency Requirement</th>\n",
       "      <th>Posting Date</th>\n",
       "      <th>Post Until</th>\n",
       "      <th>Posting Updated</th>\n",
       "      <th>Process Date</th>\n",
       "    </tr>\n",
       "  </thead>\n",
       "  <tbody>\n",
       "    <tr>\n",
       "      <th>0</th>\n",
       "      <td>606346</td>\n",
       "      <td>DEPARTMENT FOR THE AGING</td>\n",
       "      <td>External</td>\n",
       "      <td>1</td>\n",
       "      <td>Business Operations Analyst</td>\n",
       "      <td>ASSOCIATE STAFF ANALYST</td>\n",
       "      <td>Competitive-1</td>\n",
       "      <td>12627</td>\n",
       "      <td>00</td>\n",
       "      <td>Administration &amp; Human Resources Technology, D...</td>\n",
       "      <td>...</td>\n",
       "      <td>0</td>\n",
       "      <td>Please be sure to submit a resume &amp; cover lett...</td>\n",
       "      <td>0</td>\n",
       "      <td>0</td>\n",
       "      <td>0.0</td>\n",
       "      <td>New York City residency is generally required ...</td>\n",
       "      <td>09/28/2023</td>\n",
       "      <td>27-DEC-2023</td>\n",
       "      <td>09/29/2023</td>\n",
       "      <td>11/20/2023</td>\n",
       "    </tr>\n",
       "  </tbody>\n",
       "</table>\n",
       "<p>1 rows × 30 columns</p>\n",
       "</div>"
      ],
      "text/plain": [
       "   Job ID                    Agency Posting Type  # Of Positions  \\\n",
       "0  606346  DEPARTMENT FOR THE AGING     External               1   \n",
       "\n",
       "                Business Title      Civil Service Title Title Classification  \\\n",
       "0  Business Operations Analyst  ASSOCIATE STAFF ANALYST        Competitive-1   \n",
       "\n",
       "  Title Code No Level                                       Job Category  ...  \\\n",
       "0         12627    00  Administration & Human Resources Technology, D...  ...   \n",
       "\n",
       "  Additional Information                                           To Apply  \\\n",
       "0                      0  Please be sure to submit a resume & cover lett...   \n",
       "\n",
       "   Hours/Shift  Work Location 1 Recruitment Contact  \\\n",
       "0            0                0                 0.0   \n",
       "\n",
       "                               Residency Requirement Posting Date  \\\n",
       "0  New York City residency is generally required ...   09/28/2023   \n",
       "\n",
       "    Post Until Posting Updated Process Date  \n",
       "0  27-DEC-2023      09/29/2023   11/20/2023  \n",
       "\n",
       "[1 rows x 30 columns]"
      ]
     },
     "execution_count": 120,
     "metadata": {},
     "output_type": "execute_result"
    }
   ],
   "source": [
    "df_csv[0:1]"
   ]
  },
  {
   "cell_type": "code",
   "execution_count": 121,
   "metadata": {},
   "outputs": [],
   "source": [
    "df_csv_selected_rows = df_csv[df_csv['Business Title'] == 'Business Operations Analyst']\n",
    "# df_selected_rows = df[df['Business Title'].str.contains('Business Operations Analyst')]\n",
    "# df_selected_rows = df[df['Business Title'].isin(['Business Operations Analyst', 'CASE MANAGEMENT TEAM LEADER'])]"
   ]
  },
  {
   "cell_type": "code",
   "execution_count": 122,
   "metadata": {},
   "outputs": [
    {
     "data": {
      "text/html": [
       "<div>\n",
       "<style scoped>\n",
       "    .dataframe tbody tr th:only-of-type {\n",
       "        vertical-align: middle;\n",
       "    }\n",
       "\n",
       "    .dataframe tbody tr th {\n",
       "        vertical-align: top;\n",
       "    }\n",
       "\n",
       "    .dataframe thead th {\n",
       "        text-align: right;\n",
       "    }\n",
       "</style>\n",
       "<table border=\"1\" class=\"dataframe\">\n",
       "  <thead>\n",
       "    <tr style=\"text-align: right;\">\n",
       "      <th></th>\n",
       "      <th>Job ID</th>\n",
       "      <th>Agency</th>\n",
       "      <th>Posting Type</th>\n",
       "      <th># Of Positions</th>\n",
       "      <th>Business Title</th>\n",
       "      <th>Civil Service Title</th>\n",
       "      <th>Title Classification</th>\n",
       "      <th>Title Code No</th>\n",
       "      <th>Level</th>\n",
       "      <th>Job Category</th>\n",
       "      <th>...</th>\n",
       "      <th>Additional Information</th>\n",
       "      <th>To Apply</th>\n",
       "      <th>Hours/Shift</th>\n",
       "      <th>Work Location 1</th>\n",
       "      <th>Recruitment Contact</th>\n",
       "      <th>Residency Requirement</th>\n",
       "      <th>Posting Date</th>\n",
       "      <th>Post Until</th>\n",
       "      <th>Posting Updated</th>\n",
       "      <th>Process Date</th>\n",
       "    </tr>\n",
       "  </thead>\n",
       "  <tbody>\n",
       "    <tr>\n",
       "      <th>0</th>\n",
       "      <td>606346</td>\n",
       "      <td>DEPARTMENT FOR THE AGING</td>\n",
       "      <td>External</td>\n",
       "      <td>1</td>\n",
       "      <td>Business Operations Analyst</td>\n",
       "      <td>ASSOCIATE STAFF ANALYST</td>\n",
       "      <td>Competitive-1</td>\n",
       "      <td>12627</td>\n",
       "      <td>00</td>\n",
       "      <td>Administration &amp; Human Resources Technology, D...</td>\n",
       "      <td>...</td>\n",
       "      <td>0</td>\n",
       "      <td>Please be sure to submit a resume &amp; cover lett...</td>\n",
       "      <td>0</td>\n",
       "      <td>0</td>\n",
       "      <td>0.0</td>\n",
       "      <td>New York City residency is generally required ...</td>\n",
       "      <td>09/28/2023</td>\n",
       "      <td>27-DEC-2023</td>\n",
       "      <td>09/29/2023</td>\n",
       "      <td>11/20/2023</td>\n",
       "    </tr>\n",
       "    <tr>\n",
       "      <th>294</th>\n",
       "      <td>606346</td>\n",
       "      <td>DEPARTMENT FOR THE AGING</td>\n",
       "      <td>Internal</td>\n",
       "      <td>1</td>\n",
       "      <td>Business Operations Analyst</td>\n",
       "      <td>ASSOCIATE STAFF ANALYST</td>\n",
       "      <td>Competitive-1</td>\n",
       "      <td>12627</td>\n",
       "      <td>00</td>\n",
       "      <td>Administration &amp; Human Resources Technology, D...</td>\n",
       "      <td>...</td>\n",
       "      <td>0</td>\n",
       "      <td>Please be sure to submit a resume &amp; cover lett...</td>\n",
       "      <td>0</td>\n",
       "      <td>0</td>\n",
       "      <td>0.0</td>\n",
       "      <td>New York City residency is generally required ...</td>\n",
       "      <td>09/28/2023</td>\n",
       "      <td>27-DEC-2023</td>\n",
       "      <td>09/29/2023</td>\n",
       "      <td>11/20/2023</td>\n",
       "    </tr>\n",
       "  </tbody>\n",
       "</table>\n",
       "<p>2 rows × 30 columns</p>\n",
       "</div>"
      ],
      "text/plain": [
       "     Job ID                    Agency Posting Type  # Of Positions  \\\n",
       "0    606346  DEPARTMENT FOR THE AGING     External               1   \n",
       "294  606346  DEPARTMENT FOR THE AGING     Internal               1   \n",
       "\n",
       "                  Business Title      Civil Service Title  \\\n",
       "0    Business Operations Analyst  ASSOCIATE STAFF ANALYST   \n",
       "294  Business Operations Analyst  ASSOCIATE STAFF ANALYST   \n",
       "\n",
       "    Title Classification Title Code No Level  \\\n",
       "0          Competitive-1         12627    00   \n",
       "294        Competitive-1         12627    00   \n",
       "\n",
       "                                          Job Category  ...  \\\n",
       "0    Administration & Human Resources Technology, D...  ...   \n",
       "294  Administration & Human Resources Technology, D...  ...   \n",
       "\n",
       "    Additional Information                                           To Apply  \\\n",
       "0                        0  Please be sure to submit a resume & cover lett...   \n",
       "294                      0  Please be sure to submit a resume & cover lett...   \n",
       "\n",
       "     Hours/Shift  Work Location 1 Recruitment Contact  \\\n",
       "0              0                0                 0.0   \n",
       "294            0                0                 0.0   \n",
       "\n",
       "                                 Residency Requirement Posting Date  \\\n",
       "0    New York City residency is generally required ...   09/28/2023   \n",
       "294  New York City residency is generally required ...   09/28/2023   \n",
       "\n",
       "      Post Until Posting Updated Process Date  \n",
       "0    27-DEC-2023      09/29/2023   11/20/2023  \n",
       "294  27-DEC-2023      09/29/2023   11/20/2023  \n",
       "\n",
       "[2 rows x 30 columns]"
      ]
     },
     "execution_count": 122,
     "metadata": {},
     "output_type": "execute_result"
    }
   ],
   "source": [
    "df_csv_selected_rows[0:]"
   ]
  },
  {
   "cell_type": "code",
   "execution_count": null,
   "metadata": {},
   "outputs": [],
   "source": []
  },
  {
   "cell_type": "code",
   "execution_count": null,
   "metadata": {},
   "outputs": [],
   "source": []
  },
  {
   "cell_type": "markdown",
   "metadata": {},
   "source": [
    "# creating dataframe from JSON"
   ]
  },
  {
   "cell_type": "code",
   "execution_count": 123,
   "metadata": {},
   "outputs": [],
   "source": [
    "import json"
   ]
  },
  {
   "cell_type": "code",
   "execution_count": 124,
   "metadata": {},
   "outputs": [
    {
     "ename": "ValueError",
     "evalue": "Mixing dicts with non-Series may lead to ambiguous ordering.",
     "output_type": "error",
     "traceback": [
      "\u001b[1;31m---------------------------------------------------------------------------\u001b[0m",
      "\u001b[1;31mValueError\u001b[0m                                Traceback (most recent call last)",
      "\u001b[1;32mc:\\ki_root_82\\codes\\sample\\sample_dev\\sample\\dataframe.ipynb Cell 15\u001b[0m line \u001b[0;36m2\n\u001b[0;32m      <a href='vscode-notebook-cell:/c%3A/ki_root_82/codes/sample/sample_dev/sample/dataframe.ipynb#X43sZmlsZQ%3D%3D?line=0'>1</a>\u001b[0m \u001b[39m# reading json file to dataframe\u001b[39;00m\n\u001b[1;32m----> <a href='vscode-notebook-cell:/c%3A/ki_root_82/codes/sample/sample_dev/sample/dataframe.ipynb#X43sZmlsZQ%3D%3D?line=1'>2</a>\u001b[0m df_json_jobpost \u001b[39m=\u001b[39m pd\u001b[39m.\u001b[39mread_json(\u001b[39m'\u001b[39m\u001b[39m./data/Jobs_NYC_Postings.json\u001b[39m\u001b[39m'\u001b[39m)\n",
      "File \u001b[1;32mc:\\Users\\ACKI82\\anaconda3\\Lib\\site-packages\\pandas\\io\\json\\_json.py:784\u001b[0m, in \u001b[0;36mread_json\u001b[1;34m(path_or_buf, orient, typ, dtype, convert_axes, convert_dates, keep_default_dates, precise_float, date_unit, encoding, encoding_errors, lines, chunksize, compression, nrows, storage_options, dtype_backend, engine)\u001b[0m\n\u001b[0;32m    782\u001b[0m     \u001b[39mreturn\u001b[39;00m json_reader\n\u001b[0;32m    783\u001b[0m \u001b[39melse\u001b[39;00m:\n\u001b[1;32m--> 784\u001b[0m     \u001b[39mreturn\u001b[39;00m json_reader\u001b[39m.\u001b[39mread()\n",
      "File \u001b[1;32mc:\\Users\\ACKI82\\anaconda3\\Lib\\site-packages\\pandas\\io\\json\\_json.py:975\u001b[0m, in \u001b[0;36mJsonReader.read\u001b[1;34m(self)\u001b[0m\n\u001b[0;32m    973\u001b[0m         obj \u001b[39m=\u001b[39m \u001b[39mself\u001b[39m\u001b[39m.\u001b[39m_get_object_parser(\u001b[39mself\u001b[39m\u001b[39m.\u001b[39m_combine_lines(data_lines))\n\u001b[0;32m    974\u001b[0m \u001b[39melse\u001b[39;00m:\n\u001b[1;32m--> 975\u001b[0m     obj \u001b[39m=\u001b[39m \u001b[39mself\u001b[39m\u001b[39m.\u001b[39m_get_object_parser(\u001b[39mself\u001b[39m\u001b[39m.\u001b[39mdata)\n\u001b[0;32m    976\u001b[0m \u001b[39mif\u001b[39;00m \u001b[39mself\u001b[39m\u001b[39m.\u001b[39mdtype_backend \u001b[39mis\u001b[39;00m \u001b[39mnot\u001b[39;00m lib\u001b[39m.\u001b[39mno_default:\n\u001b[0;32m    977\u001b[0m     \u001b[39mreturn\u001b[39;00m obj\u001b[39m.\u001b[39mconvert_dtypes(\n\u001b[0;32m    978\u001b[0m         infer_objects\u001b[39m=\u001b[39m\u001b[39mFalse\u001b[39;00m, dtype_backend\u001b[39m=\u001b[39m\u001b[39mself\u001b[39m\u001b[39m.\u001b[39mdtype_backend\n\u001b[0;32m    979\u001b[0m     )\n",
      "File \u001b[1;32mc:\\Users\\ACKI82\\anaconda3\\Lib\\site-packages\\pandas\\io\\json\\_json.py:1001\u001b[0m, in \u001b[0;36mJsonReader._get_object_parser\u001b[1;34m(self, json)\u001b[0m\n\u001b[0;32m    999\u001b[0m obj \u001b[39m=\u001b[39m \u001b[39mNone\u001b[39;00m\n\u001b[0;32m   1000\u001b[0m \u001b[39mif\u001b[39;00m typ \u001b[39m==\u001b[39m \u001b[39m\"\u001b[39m\u001b[39mframe\u001b[39m\u001b[39m\"\u001b[39m:\n\u001b[1;32m-> 1001\u001b[0m     obj \u001b[39m=\u001b[39m FrameParser(json, \u001b[39m*\u001b[39m\u001b[39m*\u001b[39mkwargs)\u001b[39m.\u001b[39mparse()\n\u001b[0;32m   1003\u001b[0m \u001b[39mif\u001b[39;00m typ \u001b[39m==\u001b[39m \u001b[39m\"\u001b[39m\u001b[39mseries\u001b[39m\u001b[39m\"\u001b[39m \u001b[39mor\u001b[39;00m obj \u001b[39mis\u001b[39;00m \u001b[39mNone\u001b[39;00m:\n\u001b[0;32m   1004\u001b[0m     \u001b[39mif\u001b[39;00m \u001b[39mnot\u001b[39;00m \u001b[39misinstance\u001b[39m(dtype, \u001b[39mbool\u001b[39m):\n",
      "File \u001b[1;32mc:\\Users\\ACKI82\\anaconda3\\Lib\\site-packages\\pandas\\io\\json\\_json.py:1134\u001b[0m, in \u001b[0;36mParser.parse\u001b[1;34m(self)\u001b[0m\n\u001b[0;32m   1133\u001b[0m \u001b[39mdef\u001b[39;00m \u001b[39mparse\u001b[39m(\u001b[39mself\u001b[39m):\n\u001b[1;32m-> 1134\u001b[0m     \u001b[39mself\u001b[39m\u001b[39m.\u001b[39m_parse()\n\u001b[0;32m   1136\u001b[0m     \u001b[39mif\u001b[39;00m \u001b[39mself\u001b[39m\u001b[39m.\u001b[39mobj \u001b[39mis\u001b[39;00m \u001b[39mNone\u001b[39;00m:\n\u001b[0;32m   1137\u001b[0m         \u001b[39mreturn\u001b[39;00m \u001b[39mNone\u001b[39;00m\n",
      "File \u001b[1;32mc:\\Users\\ACKI82\\anaconda3\\Lib\\site-packages\\pandas\\io\\json\\_json.py:1319\u001b[0m, in \u001b[0;36mFrameParser._parse\u001b[1;34m(self)\u001b[0m\n\u001b[0;32m   1316\u001b[0m orient \u001b[39m=\u001b[39m \u001b[39mself\u001b[39m\u001b[39m.\u001b[39morient\n\u001b[0;32m   1318\u001b[0m \u001b[39mif\u001b[39;00m orient \u001b[39m==\u001b[39m \u001b[39m\"\u001b[39m\u001b[39mcolumns\u001b[39m\u001b[39m\"\u001b[39m:\n\u001b[1;32m-> 1319\u001b[0m     \u001b[39mself\u001b[39m\u001b[39m.\u001b[39mobj \u001b[39m=\u001b[39m DataFrame(\n\u001b[0;32m   1320\u001b[0m         loads(json, precise_float\u001b[39m=\u001b[39m\u001b[39mself\u001b[39m\u001b[39m.\u001b[39mprecise_float), dtype\u001b[39m=\u001b[39m\u001b[39mNone\u001b[39;00m\n\u001b[0;32m   1321\u001b[0m     )\n\u001b[0;32m   1322\u001b[0m \u001b[39melif\u001b[39;00m orient \u001b[39m==\u001b[39m \u001b[39m\"\u001b[39m\u001b[39msplit\u001b[39m\u001b[39m\"\u001b[39m:\n\u001b[0;32m   1323\u001b[0m     decoded \u001b[39m=\u001b[39m {\n\u001b[0;32m   1324\u001b[0m         \u001b[39mstr\u001b[39m(k): v\n\u001b[0;32m   1325\u001b[0m         \u001b[39mfor\u001b[39;00m k, v \u001b[39min\u001b[39;00m loads(json, precise_float\u001b[39m=\u001b[39m\u001b[39mself\u001b[39m\u001b[39m.\u001b[39mprecise_float)\u001b[39m.\u001b[39mitems()\n\u001b[0;32m   1326\u001b[0m     }\n",
      "File \u001b[1;32mc:\\Users\\ACKI82\\anaconda3\\Lib\\site-packages\\pandas\\core\\frame.py:709\u001b[0m, in \u001b[0;36mDataFrame.__init__\u001b[1;34m(self, data, index, columns, dtype, copy)\u001b[0m\n\u001b[0;32m    703\u001b[0m     mgr \u001b[39m=\u001b[39m \u001b[39mself\u001b[39m\u001b[39m.\u001b[39m_init_mgr(\n\u001b[0;32m    704\u001b[0m         data, axes\u001b[39m=\u001b[39m{\u001b[39m\"\u001b[39m\u001b[39mindex\u001b[39m\u001b[39m\"\u001b[39m: index, \u001b[39m\"\u001b[39m\u001b[39mcolumns\u001b[39m\u001b[39m\"\u001b[39m: columns}, dtype\u001b[39m=\u001b[39mdtype, copy\u001b[39m=\u001b[39mcopy\n\u001b[0;32m    705\u001b[0m     )\n\u001b[0;32m    707\u001b[0m \u001b[39melif\u001b[39;00m \u001b[39misinstance\u001b[39m(data, \u001b[39mdict\u001b[39m):\n\u001b[0;32m    708\u001b[0m     \u001b[39m# GH#38939 de facto copy defaults to False only in non-dict cases\u001b[39;00m\n\u001b[1;32m--> 709\u001b[0m     mgr \u001b[39m=\u001b[39m dict_to_mgr(data, index, columns, dtype\u001b[39m=\u001b[39mdtype, copy\u001b[39m=\u001b[39mcopy, typ\u001b[39m=\u001b[39mmanager)\n\u001b[0;32m    710\u001b[0m \u001b[39melif\u001b[39;00m \u001b[39misinstance\u001b[39m(data, ma\u001b[39m.\u001b[39mMaskedArray):\n\u001b[0;32m    711\u001b[0m     \u001b[39mfrom\u001b[39;00m \u001b[39mnumpy\u001b[39;00m\u001b[39m.\u001b[39;00m\u001b[39mma\u001b[39;00m \u001b[39mimport\u001b[39;00m mrecords\n",
      "File \u001b[1;32mc:\\Users\\ACKI82\\anaconda3\\Lib\\site-packages\\pandas\\core\\internals\\construction.py:481\u001b[0m, in \u001b[0;36mdict_to_mgr\u001b[1;34m(data, index, columns, dtype, typ, copy)\u001b[0m\n\u001b[0;32m    477\u001b[0m     \u001b[39melse\u001b[39;00m:\n\u001b[0;32m    478\u001b[0m         \u001b[39m# dtype check to exclude e.g. range objects, scalars\u001b[39;00m\n\u001b[0;32m    479\u001b[0m         arrays \u001b[39m=\u001b[39m [x\u001b[39m.\u001b[39mcopy() \u001b[39mif\u001b[39;00m \u001b[39mhasattr\u001b[39m(x, \u001b[39m\"\u001b[39m\u001b[39mdtype\u001b[39m\u001b[39m\"\u001b[39m) \u001b[39melse\u001b[39;00m x \u001b[39mfor\u001b[39;00m x \u001b[39min\u001b[39;00m arrays]\n\u001b[1;32m--> 481\u001b[0m \u001b[39mreturn\u001b[39;00m arrays_to_mgr(arrays, columns, index, dtype\u001b[39m=\u001b[39mdtype, typ\u001b[39m=\u001b[39mtyp, consolidate\u001b[39m=\u001b[39mcopy)\n",
      "File \u001b[1;32mc:\\Users\\ACKI82\\anaconda3\\Lib\\site-packages\\pandas\\core\\internals\\construction.py:115\u001b[0m, in \u001b[0;36marrays_to_mgr\u001b[1;34m(arrays, columns, index, dtype, verify_integrity, typ, consolidate)\u001b[0m\n\u001b[0;32m    112\u001b[0m \u001b[39mif\u001b[39;00m verify_integrity:\n\u001b[0;32m    113\u001b[0m     \u001b[39m# figure out the index, if necessary\u001b[39;00m\n\u001b[0;32m    114\u001b[0m     \u001b[39mif\u001b[39;00m index \u001b[39mis\u001b[39;00m \u001b[39mNone\u001b[39;00m:\n\u001b[1;32m--> 115\u001b[0m         index \u001b[39m=\u001b[39m _extract_index(arrays)\n\u001b[0;32m    116\u001b[0m     \u001b[39melse\u001b[39;00m:\n\u001b[0;32m    117\u001b[0m         index \u001b[39m=\u001b[39m ensure_index(index)\n",
      "File \u001b[1;32mc:\\Users\\ACKI82\\anaconda3\\Lib\\site-packages\\pandas\\core\\internals\\construction.py:658\u001b[0m, in \u001b[0;36m_extract_index\u001b[1;34m(data)\u001b[0m\n\u001b[0;32m    655\u001b[0m     \u001b[39mraise\u001b[39;00m \u001b[39mValueError\u001b[39;00m(\u001b[39m\"\u001b[39m\u001b[39mAll arrays must be of the same length\u001b[39m\u001b[39m\"\u001b[39m)\n\u001b[0;32m    657\u001b[0m \u001b[39mif\u001b[39;00m have_dicts:\n\u001b[1;32m--> 658\u001b[0m     \u001b[39mraise\u001b[39;00m \u001b[39mValueError\u001b[39;00m(\n\u001b[0;32m    659\u001b[0m         \u001b[39m\"\u001b[39m\u001b[39mMixing dicts with non-Series may lead to ambiguous ordering.\u001b[39m\u001b[39m\"\u001b[39m\n\u001b[0;32m    660\u001b[0m     )\n\u001b[0;32m    662\u001b[0m \u001b[39mif\u001b[39;00m have_series:\n\u001b[0;32m    663\u001b[0m     \u001b[39mif\u001b[39;00m lengths[\u001b[39m0\u001b[39m] \u001b[39m!=\u001b[39m \u001b[39mlen\u001b[39m(index):\n",
      "\u001b[1;31mValueError\u001b[0m: Mixing dicts with non-Series may lead to ambiguous ordering."
     ]
    }
   ],
   "source": [
    "# reading json file to dataframe\n",
    "df_json_jobpost = pd.read_json('./data/Jobs_NYC_Postings.json')"
   ]
  },
  {
   "cell_type": "code",
   "execution_count": 125,
   "metadata": {},
   "outputs": [],
   "source": [
    "df_json_jobpost = json.load(open('./data/Jobs_NYC_Postings.json'))\n",
    "df_json_jobpost = pd.DataFrame(df_json_jobpost['data'])"
   ]
  },
  {
   "cell_type": "code",
   "execution_count": 126,
   "metadata": {},
   "outputs": [
    {
     "data": {
      "text/html": [
       "<div>\n",
       "<style scoped>\n",
       "    .dataframe tbody tr th:only-of-type {\n",
       "        vertical-align: middle;\n",
       "    }\n",
       "\n",
       "    .dataframe tbody tr th {\n",
       "        vertical-align: top;\n",
       "    }\n",
       "\n",
       "    .dataframe thead th {\n",
       "        text-align: right;\n",
       "    }\n",
       "</style>\n",
       "<table border=\"1\" class=\"dataframe\">\n",
       "  <thead>\n",
       "    <tr style=\"text-align: right;\">\n",
       "      <th></th>\n",
       "      <th>0</th>\n",
       "      <th>1</th>\n",
       "      <th>2</th>\n",
       "      <th>3</th>\n",
       "      <th>4</th>\n",
       "      <th>5</th>\n",
       "      <th>6</th>\n",
       "      <th>7</th>\n",
       "      <th>8</th>\n",
       "      <th>9</th>\n",
       "      <th>...</th>\n",
       "      <th>28</th>\n",
       "      <th>29</th>\n",
       "      <th>30</th>\n",
       "      <th>31</th>\n",
       "      <th>32</th>\n",
       "      <th>33</th>\n",
       "      <th>34</th>\n",
       "      <th>35</th>\n",
       "      <th>36</th>\n",
       "      <th>37</th>\n",
       "    </tr>\n",
       "  </thead>\n",
       "  <tbody>\n",
       "    <tr>\n",
       "      <th>0</th>\n",
       "      <td>row-wzh8_smbq_bb46</td>\n",
       "      <td>00000000-0000-0000-BD68-49DE154153B5</td>\n",
       "      <td>0</td>\n",
       "      <td>1700597468</td>\n",
       "      <td>None</td>\n",
       "      <td>1700597468</td>\n",
       "      <td>None</td>\n",
       "      <td>{ }</td>\n",
       "      <td>606346</td>\n",
       "      <td>DEPARTMENT FOR THE AGING</td>\n",
       "      <td>...</td>\n",
       "      <td>None</td>\n",
       "      <td>Please be sure to submit a resume &amp; cover lett...</td>\n",
       "      <td>None</td>\n",
       "      <td>None</td>\n",
       "      <td>None</td>\n",
       "      <td>New York City residency is generally required ...</td>\n",
       "      <td>2023-09-28T00:00:00</td>\n",
       "      <td>27-DEC-2023</td>\n",
       "      <td>2023-09-29T00:00:00</td>\n",
       "      <td>2023-11-20T00:00:00</td>\n",
       "    </tr>\n",
       "  </tbody>\n",
       "</table>\n",
       "<p>1 rows × 38 columns</p>\n",
       "</div>"
      ],
      "text/plain": [
       "                   0                                     1   2           3   \\\n",
       "0  row-wzh8_smbq_bb46  00000000-0000-0000-BD68-49DE154153B5   0  1700597468   \n",
       "\n",
       "     4           5     6    7       8                         9   ...    28  \\\n",
       "0  None  1700597468  None  { }  606346  DEPARTMENT FOR THE AGING  ...  None   \n",
       "\n",
       "                                                  29    30    31    32  \\\n",
       "0  Please be sure to submit a resume & cover lett...  None  None  None   \n",
       "\n",
       "                                                  33                   34  \\\n",
       "0  New York City residency is generally required ...  2023-09-28T00:00:00   \n",
       "\n",
       "            35                   36                   37  \n",
       "0  27-DEC-2023  2023-09-29T00:00:00  2023-11-20T00:00:00  \n",
       "\n",
       "[1 rows x 38 columns]"
      ]
     },
     "execution_count": 126,
     "metadata": {},
     "output_type": "execute_result"
    }
   ],
   "source": [
    "df_json_jobpost[0:1]"
   ]
  },
  {
   "cell_type": "code",
   "execution_count": 127,
   "metadata": {},
   "outputs": [
    {
     "data": {
      "text/html": [
       "<div>\n",
       "<style scoped>\n",
       "    .dataframe tbody tr th:only-of-type {\n",
       "        vertical-align: middle;\n",
       "    }\n",
       "\n",
       "    .dataframe tbody tr th {\n",
       "        vertical-align: top;\n",
       "    }\n",
       "\n",
       "    .dataframe thead th {\n",
       "        text-align: right;\n",
       "    }\n",
       "</style>\n",
       "<table border=\"1\" class=\"dataframe\">\n",
       "  <thead>\n",
       "    <tr style=\"text-align: right;\">\n",
       "      <th></th>\n",
       "      <th>8</th>\n",
       "      <th>9</th>\n",
       "      <th>10</th>\n",
       "      <th>11</th>\n",
       "      <th>12</th>\n",
       "      <th>13</th>\n",
       "      <th>14</th>\n",
       "      <th>15</th>\n",
       "      <th>16</th>\n",
       "      <th>17</th>\n",
       "      <th>...</th>\n",
       "      <th>28</th>\n",
       "      <th>29</th>\n",
       "      <th>30</th>\n",
       "      <th>31</th>\n",
       "      <th>32</th>\n",
       "      <th>33</th>\n",
       "      <th>34</th>\n",
       "      <th>35</th>\n",
       "      <th>36</th>\n",
       "      <th>37</th>\n",
       "    </tr>\n",
       "  </thead>\n",
       "  <tbody>\n",
       "    <tr>\n",
       "      <th>0</th>\n",
       "      <td>606346</td>\n",
       "      <td>DEPARTMENT FOR THE AGING</td>\n",
       "      <td>External</td>\n",
       "      <td>1</td>\n",
       "      <td>Business Operations Analyst</td>\n",
       "      <td>ASSOCIATE STAFF ANALYST</td>\n",
       "      <td>Competitive-1</td>\n",
       "      <td>12627</td>\n",
       "      <td>00</td>\n",
       "      <td>Administration &amp; Human Resources Technology, D...</td>\n",
       "      <td>...</td>\n",
       "      <td>None</td>\n",
       "      <td>Please be sure to submit a resume &amp; cover lett...</td>\n",
       "      <td>None</td>\n",
       "      <td>None</td>\n",
       "      <td>None</td>\n",
       "      <td>New York City residency is generally required ...</td>\n",
       "      <td>2023-09-28T00:00:00</td>\n",
       "      <td>27-DEC-2023</td>\n",
       "      <td>2023-09-29T00:00:00</td>\n",
       "      <td>2023-11-20T00:00:00</td>\n",
       "    </tr>\n",
       "  </tbody>\n",
       "</table>\n",
       "<p>1 rows × 30 columns</p>\n",
       "</div>"
      ],
      "text/plain": [
       "       8                         9         10 11                           12  \\\n",
       "0  606346  DEPARTMENT FOR THE AGING  External  1  Business Operations Analyst   \n",
       "\n",
       "                        13             14     15  16  \\\n",
       "0  ASSOCIATE STAFF ANALYST  Competitive-1  12627  00   \n",
       "\n",
       "                                                  17  ...    28  \\\n",
       "0  Administration & Human Resources Technology, D...  ...  None   \n",
       "\n",
       "                                                  29    30    31    32  \\\n",
       "0  Please be sure to submit a resume & cover lett...  None  None  None   \n",
       "\n",
       "                                                  33                   34  \\\n",
       "0  New York City residency is generally required ...  2023-09-28T00:00:00   \n",
       "\n",
       "            35                   36                   37  \n",
       "0  27-DEC-2023  2023-09-29T00:00:00  2023-11-20T00:00:00  \n",
       "\n",
       "[1 rows x 30 columns]"
      ]
     },
     "execution_count": 127,
     "metadata": {},
     "output_type": "execute_result"
    }
   ],
   "source": [
    "# df_json_jobpost.iloc[0:1,[8,9]]\n",
    "# df_json_jobpost.iloc[0:1,:]\n",
    "df_json_jobpost.iloc[0:1,8:]"
   ]
  },
  {
   "cell_type": "code",
   "execution_count": 128,
   "metadata": {},
   "outputs": [],
   "source": [
    "df_json_jobpost = df_json_jobpost.iloc[0:1,8:]"
   ]
  },
  {
   "cell_type": "code",
   "execution_count": 129,
   "metadata": {},
   "outputs": [],
   "source": [
    "df_json_jobpost.columns = list(df_csv_selected_rows.columns.values)"
   ]
  },
  {
   "cell_type": "code",
   "execution_count": 130,
   "metadata": {},
   "outputs": [
    {
     "data": {
      "text/html": [
       "<div>\n",
       "<style scoped>\n",
       "    .dataframe tbody tr th:only-of-type {\n",
       "        vertical-align: middle;\n",
       "    }\n",
       "\n",
       "    .dataframe tbody tr th {\n",
       "        vertical-align: top;\n",
       "    }\n",
       "\n",
       "    .dataframe thead th {\n",
       "        text-align: right;\n",
       "    }\n",
       "</style>\n",
       "<table border=\"1\" class=\"dataframe\">\n",
       "  <thead>\n",
       "    <tr style=\"text-align: right;\">\n",
       "      <th></th>\n",
       "      <th>Job ID</th>\n",
       "      <th>Agency</th>\n",
       "      <th>Posting Type</th>\n",
       "      <th># Of Positions</th>\n",
       "      <th>Business Title</th>\n",
       "      <th>Civil Service Title</th>\n",
       "      <th>Title Classification</th>\n",
       "      <th>Title Code No</th>\n",
       "      <th>Level</th>\n",
       "      <th>Job Category</th>\n",
       "      <th>...</th>\n",
       "      <th>Additional Information</th>\n",
       "      <th>To Apply</th>\n",
       "      <th>Hours/Shift</th>\n",
       "      <th>Work Location 1</th>\n",
       "      <th>Recruitment Contact</th>\n",
       "      <th>Residency Requirement</th>\n",
       "      <th>Posting Date</th>\n",
       "      <th>Post Until</th>\n",
       "      <th>Posting Updated</th>\n",
       "      <th>Process Date</th>\n",
       "    </tr>\n",
       "  </thead>\n",
       "  <tbody>\n",
       "    <tr>\n",
       "      <th>0</th>\n",
       "      <td>606346</td>\n",
       "      <td>DEPARTMENT FOR THE AGING</td>\n",
       "      <td>External</td>\n",
       "      <td>1</td>\n",
       "      <td>Business Operations Analyst</td>\n",
       "      <td>ASSOCIATE STAFF ANALYST</td>\n",
       "      <td>Competitive-1</td>\n",
       "      <td>12627</td>\n",
       "      <td>00</td>\n",
       "      <td>Administration &amp; Human Resources Technology, D...</td>\n",
       "      <td>...</td>\n",
       "      <td>None</td>\n",
       "      <td>Please be sure to submit a resume &amp; cover lett...</td>\n",
       "      <td>None</td>\n",
       "      <td>None</td>\n",
       "      <td>None</td>\n",
       "      <td>New York City residency is generally required ...</td>\n",
       "      <td>2023-09-28T00:00:00</td>\n",
       "      <td>27-DEC-2023</td>\n",
       "      <td>2023-09-29T00:00:00</td>\n",
       "      <td>2023-11-20T00:00:00</td>\n",
       "    </tr>\n",
       "  </tbody>\n",
       "</table>\n",
       "<p>1 rows × 30 columns</p>\n",
       "</div>"
      ],
      "text/plain": [
       "   Job ID                    Agency Posting Type # Of Positions  \\\n",
       "0  606346  DEPARTMENT FOR THE AGING     External              1   \n",
       "\n",
       "                Business Title      Civil Service Title Title Classification  \\\n",
       "0  Business Operations Analyst  ASSOCIATE STAFF ANALYST        Competitive-1   \n",
       "\n",
       "  Title Code No Level                                       Job Category  ...  \\\n",
       "0         12627    00  Administration & Human Resources Technology, D...  ...   \n",
       "\n",
       "  Additional Information                                           To Apply  \\\n",
       "0                   None  Please be sure to submit a resume & cover lett...   \n",
       "\n",
       "  Hours/Shift Work Location 1 Recruitment Contact  \\\n",
       "0        None            None                None   \n",
       "\n",
       "                               Residency Requirement         Posting Date  \\\n",
       "0  New York City residency is generally required ...  2023-09-28T00:00:00   \n",
       "\n",
       "    Post Until      Posting Updated         Process Date  \n",
       "0  27-DEC-2023  2023-09-29T00:00:00  2023-11-20T00:00:00  \n",
       "\n",
       "[1 rows x 30 columns]"
      ]
     },
     "execution_count": 130,
     "metadata": {},
     "output_type": "execute_result"
    }
   ],
   "source": [
    "df_json_jobpost[0:1]"
   ]
  },
  {
   "cell_type": "code",
   "execution_count": null,
   "metadata": {},
   "outputs": [],
   "source": []
  },
  {
   "cell_type": "code",
   "execution_count": null,
   "metadata": {},
   "outputs": [],
   "source": []
  },
  {
   "cell_type": "markdown",
   "metadata": {},
   "source": [
    "# creating dataframe from dictionary based JSON file"
   ]
  },
  {
   "cell_type": "code",
   "execution_count": 131,
   "metadata": {},
   "outputs": [],
   "source": [
    "import json\n",
    "from typing import List, Dict, Tuple, NoReturn"
   ]
  },
  {
   "cell_type": "code",
   "execution_count": 132,
   "metadata": {},
   "outputs": [],
   "source": [
    "dict_jobpost: Dict = json.load(open(\"./data/Jobs_NYC_Postings_mini.json\", \"r\", encoding=\"utf8\"))"
   ]
  },
  {
   "cell_type": "code",
   "execution_count": 133,
   "metadata": {},
   "outputs": [
    {
     "name": "stdout",
     "output_type": "stream",
     "text": [
      "<class 'dict'>\n"
     ]
    },
    {
     "data": {
      "text/plain": [
       "{'0': {'title': 'Business Operations Analyst',\n",
       "  'company': 'Administration & Human Resources Technology, Data & Innovation Policy, Research & Analysis',\n",
       "  'qualification': '1. A masterâ\\x80\\x99s degree from an accredited college or university, accredited by regional, national, professional or specialized agencies recognized as accrediting bodies by the U.S. Secretary of Education and the Council for Higher Education Accreditation (CHEA) in economics, finance, accounting, business or public administration, human resources management, management science, operations research, organizational behavior, industrial psychology, statistics, personnel administration, labor relations, psychology, sociology, human resources development, political science, urban studies or a closely related field, and one year of satisfactory full-time professional experience in one or a combination of the following: working with the budget of a large public or private concern in budget administration, accounting, economic or financial administration, or fiscal or economic research; or in management or methods analysis, operations research, organizational research or program evaluation; or in personnel or public administration, recruitment, position classification, personnel relations, labor relations, employee   benefits, staff development, employment program planning/administration, labor market research, economic planning, social services program planning/evaluation, or fiscal management; or in a related area; or  2. A baccalaureate degree from an accredited college or university, accredited by regional, national, professional or specialized agencies recognized as accrediting bodies by the U.S. Secretary of Education and the Council for Higher Education Accreditation (CHEA) and three years of satisfactory full-time professional experience in the areas described in â\\x80\\x81E above.'},\n",
       " '1': {'title': 'Executive Program Manager',\n",
       "  'qualification': \"At least six years of full-time satisfactory experience in construction management work on capital projects, each one of which must have had a dollar value of at least $15,000, at least eighteen months of which must have been in a managerial or consultative capacity in an organization responsible for the management of construction; and a combination of the following, sufficient to equal a total of ten years of education and experience:  a. Full-time satisfactory experience in construction inspection on capital projects, each one of which must have had a dollar value of at least $15,000. One year of acceptable experience will be credited for each year of construction inspection experience up to a maximum of four years.  b. Full-time satisfactory experience in building construction as a journeyperson in one or more of the skilled building construction trades. One year of acceptable experience will be credited for each year of journeyperson experience up to a maximum of four years.  c. Education in an accredited college leading to a bachelor's degree in architecture, landscape architecture, or air pollution control, chemical, civil including structural and bridge design, electrical, mechanical, or sanitary engineering will be credited on the basis of 30 credits for one year of acceptable experience up to a maximum of four years.  A New York State license as a professional engineer or registered architect or a license as a professional engineer or registered architect from a state that has reciprocity with New York State may be substituted for the four years of education and experience described in a, b and c above. However, all candidates must have at least six years of experience in construction management work described above, including at least eighteen months in a managerial or consultative capacity in an organization responsible for the management of construction.    License Requirements  Possession of a Motor Vehicle Driver License valid in the State of New York. Employees must maintain the license during their employment.\",\n",
       "  'company': 'Communications & Intergovernmental Affairs Engineering, Architecture, & Planning'},\n",
       " '2': {'title': 'Analyst  Energy Efficiency and Modernization',\n",
       "  'qualification': '1. A baccalaureate degree from an accredited college.',\n",
       "  'company': 'Finance, Accounting, & Procurement Policy, Research & Analysis'}}"
      ]
     },
     "execution_count": 133,
     "metadata": {},
     "output_type": "execute_result"
    }
   ],
   "source": [
    "print (type(dict_jobpost))\n",
    "dict_jobpost"
   ]
  },
  {
   "cell_type": "code",
   "execution_count": 134,
   "metadata": {},
   "outputs": [
    {
     "data": {
      "text/plain": [
       "{'title': 'Business Operations Analyst',\n",
       " 'company': 'Administration & Human Resources Technology, Data & Innovation Policy, Research & Analysis',\n",
       " 'qualification': '1. A masterâ\\x80\\x99s degree from an accredited college or university, accredited by regional, national, professional or specialized agencies recognized as accrediting bodies by the U.S. Secretary of Education and the Council for Higher Education Accreditation (CHEA) in economics, finance, accounting, business or public administration, human resources management, management science, operations research, organizational behavior, industrial psychology, statistics, personnel administration, labor relations, psychology, sociology, human resources development, political science, urban studies or a closely related field, and one year of satisfactory full-time professional experience in one or a combination of the following: working with the budget of a large public or private concern in budget administration, accounting, economic or financial administration, or fiscal or economic research; or in management or methods analysis, operations research, organizational research or program evaluation; or in personnel or public administration, recruitment, position classification, personnel relations, labor relations, employee   benefits, staff development, employment program planning/administration, labor market research, economic planning, social services program planning/evaluation, or fiscal management; or in a related area; or  2. A baccalaureate degree from an accredited college or university, accredited by regional, national, professional or specialized agencies recognized as accrediting bodies by the U.S. Secretary of Education and the Council for Higher Education Accreditation (CHEA) and three years of satisfactory full-time professional experience in the areas described in â\\x80\\x81E above.'}"
      ]
     },
     "execution_count": 134,
     "metadata": {},
     "output_type": "execute_result"
    }
   ],
   "source": [
    "dict_json_jobpost = json.dumps(dict_jobpost[\"0\"])\n",
    "df_dict_json_jobpost = json.loads(dict_json_jobpost)\n",
    "df_dict_json_jobpost"
   ]
  },
  {
   "cell_type": "code",
   "execution_count": 135,
   "metadata": {},
   "outputs": [],
   "source": [
    "dict_json_jobposts = json.dumps(all_jds)\n",
    "df_dict_json_jobposts = pd.read_json(dict_json_jobposts, orient='index')"
   ]
  },
  {
   "cell_type": "code",
   "execution_count": 136,
   "metadata": {},
   "outputs": [
    {
     "data": {
      "text/html": [
       "<div>\n",
       "<style scoped>\n",
       "    .dataframe tbody tr th:only-of-type {\n",
       "        vertical-align: middle;\n",
       "    }\n",
       "\n",
       "    .dataframe tbody tr th {\n",
       "        vertical-align: top;\n",
       "    }\n",
       "\n",
       "    .dataframe thead th {\n",
       "        text-align: right;\n",
       "    }\n",
       "</style>\n",
       "<table border=\"1\" class=\"dataframe\">\n",
       "  <thead>\n",
       "    <tr style=\"text-align: right;\">\n",
       "      <th></th>\n",
       "      <th>title</th>\n",
       "      <th>company</th>\n",
       "      <th>qualification</th>\n",
       "    </tr>\n",
       "  </thead>\n",
       "  <tbody>\n",
       "    <tr>\n",
       "      <th>0</th>\n",
       "      <td>Business Operations Analyst</td>\n",
       "      <td>Administration &amp; Human Resources Technology, D...</td>\n",
       "      <td>1. A masterâs degree from an accredited coll...</td>\n",
       "    </tr>\n",
       "  </tbody>\n",
       "</table>\n",
       "</div>"
      ],
      "text/plain": [
       "                         title  \\\n",
       "0  Business Operations Analyst   \n",
       "\n",
       "                                             company  \\\n",
       "0  Administration & Human Resources Technology, D...   \n",
       "\n",
       "                                       qualification  \n",
       "0  1. A masterâs degree from an accredited coll...  "
      ]
     },
     "execution_count": 136,
     "metadata": {},
     "output_type": "execute_result"
    }
   ],
   "source": [
    "df_dict_json_jobposts[0:1]"
   ]
  },
  {
   "cell_type": "code",
   "execution_count": 137,
   "metadata": {},
   "outputs": [
    {
     "name": "stdout",
     "output_type": "stream",
     "text": [
      "(3, 3)\n"
     ]
    },
    {
     "data": {
      "text/plain": [
       "title            object\n",
       "company          object\n",
       "qualification    object\n",
       "dtype: object"
      ]
     },
     "execution_count": 137,
     "metadata": {},
     "output_type": "execute_result"
    }
   ],
   "source": [
    "print(df_dict_json_jobposts.shape)\n",
    "df_dict_json_jobposts.dtypes"
   ]
  },
  {
   "cell_type": "code",
   "execution_count": null,
   "metadata": {},
   "outputs": [],
   "source": []
  },
  {
   "cell_type": "code",
   "execution_count": null,
   "metadata": {},
   "outputs": [],
   "source": []
  },
  {
   "cell_type": "markdown",
   "metadata": {},
   "source": [
    "# save as JSONL file and read"
   ]
  },
  {
   "cell_type": "code",
   "execution_count": 138,
   "metadata": {},
   "outputs": [
    {
     "data": {
      "text/html": [
       "<div>\n",
       "<style scoped>\n",
       "    .dataframe tbody tr th:only-of-type {\n",
       "        vertical-align: middle;\n",
       "    }\n",
       "\n",
       "    .dataframe tbody tr th {\n",
       "        vertical-align: top;\n",
       "    }\n",
       "\n",
       "    .dataframe thead th {\n",
       "        text-align: right;\n",
       "    }\n",
       "</style>\n",
       "<table border=\"1\" class=\"dataframe\">\n",
       "  <thead>\n",
       "    <tr style=\"text-align: right;\">\n",
       "      <th></th>\n",
       "      <th>Job ID</th>\n",
       "      <th>Agency</th>\n",
       "      <th>Posting Type</th>\n",
       "      <th># Of Positions</th>\n",
       "      <th>Business Title</th>\n",
       "      <th>Civil Service Title</th>\n",
       "      <th>Title Classification</th>\n",
       "      <th>Title Code No</th>\n",
       "      <th>Level</th>\n",
       "      <th>Job Category</th>\n",
       "      <th>...</th>\n",
       "      <th>Additional Information</th>\n",
       "      <th>To Apply</th>\n",
       "      <th>Hours/Shift</th>\n",
       "      <th>Work Location 1</th>\n",
       "      <th>Recruitment Contact</th>\n",
       "      <th>Residency Requirement</th>\n",
       "      <th>Posting Date</th>\n",
       "      <th>Post Until</th>\n",
       "      <th>Posting Updated</th>\n",
       "      <th>Process Date</th>\n",
       "    </tr>\n",
       "  </thead>\n",
       "  <tbody>\n",
       "    <tr>\n",
       "      <th>0</th>\n",
       "      <td>606346</td>\n",
       "      <td>DEPARTMENT FOR THE AGING</td>\n",
       "      <td>External</td>\n",
       "      <td>1</td>\n",
       "      <td>Business Operations Analyst</td>\n",
       "      <td>ASSOCIATE STAFF ANALYST</td>\n",
       "      <td>Competitive-1</td>\n",
       "      <td>12627</td>\n",
       "      <td>00</td>\n",
       "      <td>Administration &amp; Human Resources Technology, D...</td>\n",
       "      <td>...</td>\n",
       "      <td>0</td>\n",
       "      <td>Please be sure to submit a resume &amp; cover lett...</td>\n",
       "      <td>0</td>\n",
       "      <td>0</td>\n",
       "      <td>0.0</td>\n",
       "      <td>New York City residency is generally required ...</td>\n",
       "      <td>09/28/2023</td>\n",
       "      <td>27-DEC-2023</td>\n",
       "      <td>09/29/2023</td>\n",
       "      <td>11/20/2023</td>\n",
       "    </tr>\n",
       "  </tbody>\n",
       "</table>\n",
       "<p>1 rows × 30 columns</p>\n",
       "</div>"
      ],
      "text/plain": [
       "   Job ID                    Agency Posting Type  # Of Positions  \\\n",
       "0  606346  DEPARTMENT FOR THE AGING     External               1   \n",
       "\n",
       "                Business Title      Civil Service Title Title Classification  \\\n",
       "0  Business Operations Analyst  ASSOCIATE STAFF ANALYST        Competitive-1   \n",
       "\n",
       "  Title Code No Level                                       Job Category  ...  \\\n",
       "0         12627    00  Administration & Human Resources Technology, D...  ...   \n",
       "\n",
       "  Additional Information                                           To Apply  \\\n",
       "0                      0  Please be sure to submit a resume & cover lett...   \n",
       "\n",
       "   Hours/Shift  Work Location 1 Recruitment Contact  \\\n",
       "0            0                0                 0.0   \n",
       "\n",
       "                               Residency Requirement Posting Date  \\\n",
       "0  New York City residency is generally required ...   09/28/2023   \n",
       "\n",
       "    Post Until Posting Updated Process Date  \n",
       "0  27-DEC-2023      09/29/2023   11/20/2023  \n",
       "\n",
       "[1 rows x 30 columns]"
      ]
     },
     "execution_count": 138,
     "metadata": {},
     "output_type": "execute_result"
    }
   ],
   "source": [
    "df_csv[0:1]"
   ]
  },
  {
   "cell_type": "code",
   "execution_count": 139,
   "metadata": {},
   "outputs": [],
   "source": [
    "df_csv.to_json(\"./data/Jobs_NYC_Postings.jsonl\", orient='records', lines=True)"
   ]
  },
  {
   "cell_type": "code",
   "execution_count": 140,
   "metadata": {},
   "outputs": [],
   "source": [
    "# reading jsonl file to dataframe\n",
    "df_jsonl = pd.read_json('./data/Jobs_NYC_Postings.jsonl', orient='records', lines=True)"
   ]
  },
  {
   "cell_type": "code",
   "execution_count": 141,
   "metadata": {},
   "outputs": [
    {
     "data": {
      "text/html": [
       "<div>\n",
       "<style scoped>\n",
       "    .dataframe tbody tr th:only-of-type {\n",
       "        vertical-align: middle;\n",
       "    }\n",
       "\n",
       "    .dataframe tbody tr th {\n",
       "        vertical-align: top;\n",
       "    }\n",
       "\n",
       "    .dataframe thead th {\n",
       "        text-align: right;\n",
       "    }\n",
       "</style>\n",
       "<table border=\"1\" class=\"dataframe\">\n",
       "  <thead>\n",
       "    <tr style=\"text-align: right;\">\n",
       "      <th></th>\n",
       "      <th>Job ID</th>\n",
       "      <th>Agency</th>\n",
       "      <th>Posting Type</th>\n",
       "      <th># Of Positions</th>\n",
       "      <th>Business Title</th>\n",
       "      <th>Civil Service Title</th>\n",
       "      <th>Title Classification</th>\n",
       "      <th>Title Code No</th>\n",
       "      <th>Level</th>\n",
       "      <th>Job Category</th>\n",
       "      <th>...</th>\n",
       "      <th>Additional Information</th>\n",
       "      <th>To Apply</th>\n",
       "      <th>Hours/Shift</th>\n",
       "      <th>Work Location 1</th>\n",
       "      <th>Recruitment Contact</th>\n",
       "      <th>Residency Requirement</th>\n",
       "      <th>Posting Date</th>\n",
       "      <th>Post Until</th>\n",
       "      <th>Posting Updated</th>\n",
       "      <th>Process Date</th>\n",
       "    </tr>\n",
       "  </thead>\n",
       "  <tbody>\n",
       "    <tr>\n",
       "      <th>0</th>\n",
       "      <td>606346</td>\n",
       "      <td>DEPARTMENT FOR THE AGING</td>\n",
       "      <td>External</td>\n",
       "      <td>1</td>\n",
       "      <td>Business Operations Analyst</td>\n",
       "      <td>ASSOCIATE STAFF ANALYST</td>\n",
       "      <td>Competitive-1</td>\n",
       "      <td>12627</td>\n",
       "      <td>00</td>\n",
       "      <td>Administration &amp; Human Resources Technology, D...</td>\n",
       "      <td>...</td>\n",
       "      <td>0</td>\n",
       "      <td>Please be sure to submit a resume &amp; cover lett...</td>\n",
       "      <td>0</td>\n",
       "      <td>0</td>\n",
       "      <td>0</td>\n",
       "      <td>New York City residency is generally required ...</td>\n",
       "      <td>09/28/2023</td>\n",
       "      <td>27-DEC-2023</td>\n",
       "      <td>09/29/2023</td>\n",
       "      <td>11/20/2023</td>\n",
       "    </tr>\n",
       "  </tbody>\n",
       "</table>\n",
       "<p>1 rows × 30 columns</p>\n",
       "</div>"
      ],
      "text/plain": [
       "   Job ID                    Agency Posting Type  # Of Positions  \\\n",
       "0  606346  DEPARTMENT FOR THE AGING     External               1   \n",
       "\n",
       "                Business Title      Civil Service Title Title Classification  \\\n",
       "0  Business Operations Analyst  ASSOCIATE STAFF ANALYST        Competitive-1   \n",
       "\n",
       "  Title Code No Level                                       Job Category  ...  \\\n",
       "0         12627    00  Administration & Human Resources Technology, D...  ...   \n",
       "\n",
       "  Additional Information                                           To Apply  \\\n",
       "0                      0  Please be sure to submit a resume & cover lett...   \n",
       "\n",
       "   Hours/Shift  Work Location 1 Recruitment Contact  \\\n",
       "0            0                0                   0   \n",
       "\n",
       "                               Residency Requirement Posting Date  \\\n",
       "0  New York City residency is generally required ...   09/28/2023   \n",
       "\n",
       "    Post Until Posting Updated Process Date  \n",
       "0  27-DEC-2023      09/29/2023   11/20/2023  \n",
       "\n",
       "[1 rows x 30 columns]"
      ]
     },
     "execution_count": 141,
     "metadata": {},
     "output_type": "execute_result"
    }
   ],
   "source": [
    "df_jsonl[0:1]"
   ]
  },
  {
   "cell_type": "code",
   "execution_count": null,
   "metadata": {},
   "outputs": [],
   "source": []
  },
  {
   "cell_type": "code",
   "execution_count": null,
   "metadata": {},
   "outputs": [],
   "source": []
  },
  {
   "cell_type": "markdown",
   "metadata": {},
   "source": [
    "# creating dataframe from EXCEL "
   ]
  },
  {
   "cell_type": "code",
   "execution_count": 142,
   "metadata": {},
   "outputs": [],
   "source": [
    "import pandas as pd"
   ]
  },
  {
   "cell_type": "code",
   "execution_count": 143,
   "metadata": {},
   "outputs": [],
   "source": [
    "# reading excel file to dataframe\n",
    "# df_excel = pd.read_excel('./data/Jobs_NYC_Postings.xlsx', index_col=0)\n",
    "df_excel = pd.read_excel('./data/Jobs_NYC_Postings.xlsx')"
   ]
  },
  {
   "cell_type": "code",
   "execution_count": 144,
   "metadata": {},
   "outputs": [
    {
     "data": {
      "text/html": [
       "<div>\n",
       "<style scoped>\n",
       "    .dataframe tbody tr th:only-of-type {\n",
       "        vertical-align: middle;\n",
       "    }\n",
       "\n",
       "    .dataframe tbody tr th {\n",
       "        vertical-align: top;\n",
       "    }\n",
       "\n",
       "    .dataframe thead th {\n",
       "        text-align: right;\n",
       "    }\n",
       "</style>\n",
       "<table border=\"1\" class=\"dataframe\">\n",
       "  <thead>\n",
       "    <tr style=\"text-align: right;\">\n",
       "      <th></th>\n",
       "      <th>Job ID</th>\n",
       "      <th>Agency</th>\n",
       "      <th>Posting Type</th>\n",
       "      <th># Of Positions</th>\n",
       "      <th>Business Title</th>\n",
       "      <th>Civil Service Title</th>\n",
       "      <th>Title Classification</th>\n",
       "      <th>Title Code No</th>\n",
       "      <th>Level</th>\n",
       "      <th>Job Category</th>\n",
       "      <th>...</th>\n",
       "      <th>Unnamed: 95</th>\n",
       "      <th>Unnamed: 96</th>\n",
       "      <th>Unnamed: 97</th>\n",
       "      <th>Unnamed: 98</th>\n",
       "      <th>Unnamed: 99</th>\n",
       "      <th>Unnamed: 100</th>\n",
       "      <th>Unnamed: 101</th>\n",
       "      <th>Unnamed: 102</th>\n",
       "      <th>Unnamed: 103</th>\n",
       "      <th>Unnamed: 104</th>\n",
       "    </tr>\n",
       "  </thead>\n",
       "  <tbody>\n",
       "    <tr>\n",
       "      <th>0</th>\n",
       "      <td>606346</td>\n",
       "      <td>DEPARTMENT FOR THE AGING</td>\n",
       "      <td>External</td>\n",
       "      <td>1</td>\n",
       "      <td>Business Operations Analyst</td>\n",
       "      <td>ASSOCIATE STAFF ANALYST</td>\n",
       "      <td>Competitive-1</td>\n",
       "      <td>12627</td>\n",
       "      <td>0</td>\n",
       "      <td>Administration &amp; Human Resources Technology, D...</td>\n",
       "      <td>...</td>\n",
       "      <td>NaN</td>\n",
       "      <td>NaN</td>\n",
       "      <td>NaN</td>\n",
       "      <td>NaN</td>\n",
       "      <td>NaN</td>\n",
       "      <td>NaN</td>\n",
       "      <td>NaN</td>\n",
       "      <td>NaT</td>\n",
       "      <td>NaN</td>\n",
       "      <td>NaN</td>\n",
       "    </tr>\n",
       "  </tbody>\n",
       "</table>\n",
       "<p>1 rows × 105 columns</p>\n",
       "</div>"
      ],
      "text/plain": [
       "   Job ID                    Agency Posting Type  # Of Positions  \\\n",
       "0  606346  DEPARTMENT FOR THE AGING     External               1   \n",
       "\n",
       "                Business Title      Civil Service Title Title Classification  \\\n",
       "0  Business Operations Analyst  ASSOCIATE STAFF ANALYST        Competitive-1   \n",
       "\n",
       "  Title Code No Level                                       Job Category  ...  \\\n",
       "0         12627     0  Administration & Human Resources Technology, D...  ...   \n",
       "\n",
       "  Unnamed: 95 Unnamed: 96  Unnamed: 97 Unnamed: 98 Unnamed: 99 Unnamed: 100  \\\n",
       "0         NaN         NaN          NaN         NaN         NaN          NaN   \n",
       "\n",
       "  Unnamed: 101 Unnamed: 102 Unnamed: 103 Unnamed: 104  \n",
       "0          NaN          NaT          NaN          NaN  \n",
       "\n",
       "[1 rows x 105 columns]"
      ]
     },
     "execution_count": 144,
     "metadata": {},
     "output_type": "execute_result"
    }
   ],
   "source": [
    "df_excel[0:1]"
   ]
  },
  {
   "cell_type": "code",
   "execution_count": null,
   "metadata": {},
   "outputs": [],
   "source": []
  },
  {
   "cell_type": "code",
   "execution_count": null,
   "metadata": {},
   "outputs": [],
   "source": []
  }
 ],
 "metadata": {
  "kernelspec": {
   "display_name": "base",
   "language": "python",
   "name": "python3"
  },
  "language_info": {
   "codemirror_mode": {
    "name": "ipython",
    "version": 3
   },
   "file_extension": ".py",
   "mimetype": "text/x-python",
   "name": "python",
   "nbconvert_exporter": "python",
   "pygments_lexer": "ipython3",
   "version": "3.11.5"
  }
 },
 "nbformat": 4,
 "nbformat_minor": 2
}
