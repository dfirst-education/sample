{
 "cells": [
  {
   "cell_type": "markdown",
   "metadata": {},
   "source": [
    "# cleansed files<br>\n",
    "technology_skill_30_by_job_split.csv<br>\n",
    "Jobs_NYC_Postings_distinct.csv"
   ]
  },
  {
   "cell_type": "code",
   "execution_count": 21,
   "metadata": {},
   "outputs": [],
   "source": [
    "# conda create -n py3.11_looker python=3.11 anaconda"
   ]
  },
  {
   "cell_type": "code",
   "execution_count": 22,
   "metadata": {},
   "outputs": [],
   "source": [
    "# !pip install sqlalchemy\n",
    "# !pip install pyodbc"
   ]
  },
  {
   "cell_type": "code",
   "execution_count": 23,
   "metadata": {},
   "outputs": [],
   "source": [
    "import urllib\n",
    "import pandas as pd"
   ]
  },
  {
   "cell_type": "code",
   "execution_count": 24,
   "metadata": {},
   "outputs": [],
   "source": [
    "servername = 'localhost'\n",
    "database = 'jobs_nyc_postings'\n",
    "driver = 'ODBC Driver 17 for SQL Server'\n",
    "# driver = 'SQL Server'\n",
    "# username = \"sa\"\n",
    "# password = \"password\"\n",
    "\n",
    "# SQL Authentication\n",
    "# conn_str = 'mssql+pyodbc:///?odbc_connect=' + urllib.parse.quote_plus(f'DRIVER={driver};SERVER={servername};DATABASE={database};Uid={username};Pwd={password}')\n",
    "\n",
    "# Windows Authentication\n",
    "conn_str = 'mssql+pyodbc:///?odbc_connect=' + urllib.parse.quote_plus(f'DRIVER={driver};SERVER={servername};DATABASE={database};Trusted_Connection=yes')"
   ]
  },
  {
   "cell_type": "code",
   "execution_count": 25,
   "metadata": {},
   "outputs": [],
   "source": [
    "from sqlalchemy import create_engine\n",
    "from sqlalchemy.types import Integer, String\n",
    "engine = create_engine(conn_str)"
   ]
  },
  {
   "cell_type": "code",
   "execution_count": 26,
   "metadata": {},
   "outputs": [],
   "source": [
    "df_jd = pd.read_csv('Jobs_NYC_Postings_distinct.csv', header=0)\n",
    "df_skill = pd.read_csv('technology_skill_30_by_job_split.csv', header=0)\n",
    "df_jd = df_jd.drop_duplicates()\n",
    "df_skill = df_skill.drop_duplicates()"
   ]
  },
  {
   "cell_type": "code",
   "execution_count": 27,
   "metadata": {},
   "outputs": [
    {
     "data": {
      "text/plain": [
       "49"
      ]
     },
     "execution_count": 27,
     "metadata": {},
     "output_type": "execute_result"
    }
   ],
   "source": [
    "schema = \"dbo\"\n",
    "table_name = \"df_jd\"\n",
    "df_jd.to_sql(name=table_name, schema=schema, con=engine, \n",
    "if_exists='replace', index=False, dtype=String())"
   ]
  },
  {
   "cell_type": "code",
   "execution_count": 28,
   "metadata": {},
   "outputs": [
    {
     "data": {
      "text/plain": [
       "316"
      ]
     },
     "execution_count": 28,
     "metadata": {},
     "output_type": "execute_result"
    }
   ],
   "source": [
    "schema = \"dbo\"\n",
    "table_name = \"df_skill\"\n",
    "df_skill.to_sql(name=table_name, schema=schema, con=engine, \n",
    "if_exists='replace', index=False, dtype=String())"
   ]
  },
  {
   "cell_type": "code",
   "execution_count": null,
   "metadata": {},
   "outputs": [],
   "source": []
  }
 ],
 "metadata": {
  "kernelspec": {
   "display_name": "py3.11_looker",
   "language": "python",
   "name": "python3"
  },
  "language_info": {
   "codemirror_mode": {
    "name": "ipython",
    "version": 3
   },
   "file_extension": ".py",
   "mimetype": "text/x-python",
   "name": "python",
   "nbconvert_exporter": "python",
   "pygments_lexer": "ipython3",
   "version": "3.11.9"
  }
 },
 "nbformat": 4,
 "nbformat_minor": 2
}
