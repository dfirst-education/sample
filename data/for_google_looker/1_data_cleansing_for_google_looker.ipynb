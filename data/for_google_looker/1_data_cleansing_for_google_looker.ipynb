{
 "cells": [
  {
   "cell_type": "code",
   "execution_count": 1,
   "metadata": {},
   "outputs": [],
   "source": [
    "import pandas as pd"
   ]
  },
  {
   "cell_type": "code",
   "execution_count": 2,
   "metadata": {},
   "outputs": [
    {
     "data": {
      "text/html": [
       "<div>\n",
       "<style scoped>\n",
       "    .dataframe tbody tr th:only-of-type {\n",
       "        vertical-align: middle;\n",
       "    }\n",
       "\n",
       "    .dataframe tbody tr th {\n",
       "        vertical-align: top;\n",
       "    }\n",
       "\n",
       "    .dataframe thead th {\n",
       "        text-align: right;\n",
       "    }\n",
       "</style>\n",
       "<table border=\"1\" class=\"dataframe\">\n",
       "  <thead>\n",
       "    <tr style=\"text-align: right;\">\n",
       "      <th></th>\n",
       "      <th>Job ID</th>\n",
       "      <th>Agency</th>\n",
       "      <th>Posting Type</th>\n",
       "      <th># Of Positions</th>\n",
       "      <th>Business Title</th>\n",
       "      <th>Civil Service Title</th>\n",
       "      <th>Title Classification</th>\n",
       "      <th>Title Code No</th>\n",
       "      <th>Level</th>\n",
       "      <th>Job Category</th>\n",
       "      <th>...</th>\n",
       "      <th>Additional Information</th>\n",
       "      <th>To Apply</th>\n",
       "      <th>Hours/Shift</th>\n",
       "      <th>Work Location 1</th>\n",
       "      <th>Recruitment Contact</th>\n",
       "      <th>Residency Requirement</th>\n",
       "      <th>Posting Date</th>\n",
       "      <th>Post Until</th>\n",
       "      <th>Posting Updated</th>\n",
       "      <th>Process Date</th>\n",
       "    </tr>\n",
       "  </thead>\n",
       "  <tbody>\n",
       "    <tr>\n",
       "      <th>0</th>\n",
       "      <td>606346</td>\n",
       "      <td>DEPARTMENT FOR THE AGING</td>\n",
       "      <td>External</td>\n",
       "      <td>1</td>\n",
       "      <td>Business Operations Analyst</td>\n",
       "      <td>ASSOCIATE STAFF ANALYST</td>\n",
       "      <td>Competitive-1</td>\n",
       "      <td>12627</td>\n",
       "      <td>00</td>\n",
       "      <td>Administration &amp; Human Resources Technology, D...</td>\n",
       "      <td>...</td>\n",
       "      <td>NaN</td>\n",
       "      <td>Please be sure to submit a resume &amp; cover lett...</td>\n",
       "      <td>NaN</td>\n",
       "      <td>NaN</td>\n",
       "      <td>NaN</td>\n",
       "      <td>New York City residency is generally required ...</td>\n",
       "      <td>09/28/2023</td>\n",
       "      <td>27-DEC-2023</td>\n",
       "      <td>09/29/2023</td>\n",
       "      <td>11/20/2023</td>\n",
       "    </tr>\n",
       "  </tbody>\n",
       "</table>\n",
       "<p>1 rows × 30 columns</p>\n",
       "</div>"
      ],
      "text/plain": [
       "   Job ID                    Agency Posting Type  # Of Positions  \\\n",
       "0  606346  DEPARTMENT FOR THE AGING     External               1   \n",
       "\n",
       "                Business Title      Civil Service Title Title Classification  \\\n",
       "0  Business Operations Analyst  ASSOCIATE STAFF ANALYST        Competitive-1   \n",
       "\n",
       "  Title Code No Level                                       Job Category  ...  \\\n",
       "0         12627    00  Administration & Human Resources Technology, D...  ...   \n",
       "\n",
       "  Additional Information                                           To Apply  \\\n",
       "0                    NaN  Please be sure to submit a resume & cover lett...   \n",
       "\n",
       "   Hours/Shift  Work Location 1 Recruitment Contact  \\\n",
       "0          NaN              NaN                 NaN   \n",
       "\n",
       "                               Residency Requirement Posting Date  \\\n",
       "0  New York City residency is generally required ...   09/28/2023   \n",
       "\n",
       "    Post Until Posting Updated Process Date  \n",
       "0  27-DEC-2023      09/29/2023   11/20/2023  \n",
       "\n",
       "[1 rows x 30 columns]"
      ]
     },
     "execution_count": 2,
     "metadata": {},
     "output_type": "execute_result"
    }
   ],
   "source": [
    "df_csv = pd.read_csv('./Jobs_NYC_Postings.csv', header=0)\n",
    "df_csv[0:1]"
   ]
  },
  {
   "cell_type": "markdown",
   "metadata": {},
   "source": [
    "# checking duplicated key values for job.csv"
   ]
  },
  {
   "cell_type": "code",
   "execution_count": 3,
   "metadata": {},
   "outputs": [
    {
     "name": "stdout",
     "output_type": "stream",
     "text": [
      "There are duplicated values in the 'Job ID' column.\n"
     ]
    }
   ],
   "source": [
    "# Check for duplicates in the 'Job ID' column of df_csv DataFrame\n",
    "duplicates = df_csv.duplicated(subset='Job ID')\n",
    "\n",
    "# Check if there are no duplicates\n",
    "if not duplicates.any():\n",
    "    print(\"No duplicated values in the 'Job ID' column.\")\n",
    "else:\n",
    "    print(\"There are duplicated values in the 'Job ID' column.\")"
   ]
  },
  {
   "cell_type": "code",
   "execution_count": 4,
   "metadata": {},
   "outputs": [
    {
     "data": {
      "text/html": [
       "<div>\n",
       "<style scoped>\n",
       "    .dataframe tbody tr th:only-of-type {\n",
       "        vertical-align: middle;\n",
       "    }\n",
       "\n",
       "    .dataframe tbody tr th {\n",
       "        vertical-align: top;\n",
       "    }\n",
       "\n",
       "    .dataframe thead th {\n",
       "        text-align: right;\n",
       "    }\n",
       "</style>\n",
       "<table border=\"1\" class=\"dataframe\">\n",
       "  <thead>\n",
       "    <tr style=\"text-align: right;\">\n",
       "      <th></th>\n",
       "      <th>Job ID</th>\n",
       "      <th>Agency</th>\n",
       "      <th>Posting Type</th>\n",
       "      <th># Of Positions</th>\n",
       "      <th>Business Title</th>\n",
       "      <th>Civil Service Title</th>\n",
       "      <th>Title Classification</th>\n",
       "      <th>Title Code No</th>\n",
       "      <th>Level</th>\n",
       "      <th>Job Category</th>\n",
       "      <th>...</th>\n",
       "      <th>Additional Information</th>\n",
       "      <th>To Apply</th>\n",
       "      <th>Hours/Shift</th>\n",
       "      <th>Work Location 1</th>\n",
       "      <th>Recruitment Contact</th>\n",
       "      <th>Residency Requirement</th>\n",
       "      <th>Posting Date</th>\n",
       "      <th>Post Until</th>\n",
       "      <th>Posting Updated</th>\n",
       "      <th>Process Date</th>\n",
       "    </tr>\n",
       "  </thead>\n",
       "  <tbody>\n",
       "    <tr>\n",
       "      <th>0</th>\n",
       "      <td>469953</td>\n",
       "      <td>HRA/DEPT OF SOCIAL SERVICES</td>\n",
       "      <td>Internal</td>\n",
       "      <td>1</td>\n",
       "      <td>CONTRACT ANALYST</td>\n",
       "      <td>STAFF ANALYST</td>\n",
       "      <td>Competitive-1</td>\n",
       "      <td>12626</td>\n",
       "      <td>02</td>\n",
       "      <td>Administration &amp; Human Resources Social Services</td>\n",
       "      <td>...</td>\n",
       "      <td>**LOAN FORGIVENESS  The federal government pro...</td>\n",
       "      <td>APPLICANTS MUST BE IN THE PERMANENT IN THE STA...</td>\n",
       "      <td>NaN</td>\n",
       "      <td>NaN</td>\n",
       "      <td>NaN</td>\n",
       "      <td>New York City residency is generally required ...</td>\n",
       "      <td>07/26/2021</td>\n",
       "      <td>NaN</td>\n",
       "      <td>06/17/2022</td>\n",
       "      <td>11/20/2023</td>\n",
       "    </tr>\n",
       "    <tr>\n",
       "      <th>1</th>\n",
       "      <td>469953</td>\n",
       "      <td>HRA/DEPT OF SOCIAL SERVICES</td>\n",
       "      <td>External</td>\n",
       "      <td>1</td>\n",
       "      <td>CONTRACT ANALYST</td>\n",
       "      <td>STAFF ANALYST</td>\n",
       "      <td>Competitive-1</td>\n",
       "      <td>12626</td>\n",
       "      <td>02</td>\n",
       "      <td>Administration &amp; Human Resources Social Services</td>\n",
       "      <td>...</td>\n",
       "      <td>**LOAN FORGIVENESS  The federal government pro...</td>\n",
       "      <td>APPLICANTS MUST BE IN THE PERMANENT IN THE STA...</td>\n",
       "      <td>NaN</td>\n",
       "      <td>NaN</td>\n",
       "      <td>NaN</td>\n",
       "      <td>New York City residency is generally required ...</td>\n",
       "      <td>07/26/2021</td>\n",
       "      <td>NaN</td>\n",
       "      <td>06/17/2022</td>\n",
       "      <td>11/20/2023</td>\n",
       "    </tr>\n",
       "    <tr>\n",
       "      <th>2</th>\n",
       "      <td>470441</td>\n",
       "      <td>NYC HOUSING AUTHORITY</td>\n",
       "      <td>External</td>\n",
       "      <td>1</td>\n",
       "      <td>Heating Oversight Team Specialist</td>\n",
       "      <td>ASSOCIATE INSPECTOR (HOUSING)</td>\n",
       "      <td>Competitive-1</td>\n",
       "      <td>31675</td>\n",
       "      <td>02</td>\n",
       "      <td>Public Safety, Inspections, &amp; Enforcement</td>\n",
       "      <td>...</td>\n",
       "      <td>1.\\tEmployees serving in the title of or who m...</td>\n",
       "      <td>Click the Apply Now button.</td>\n",
       "      <td>NaN</td>\n",
       "      <td>NaN</td>\n",
       "      <td>NaN</td>\n",
       "      <td>NYCHA has no residency requirements.</td>\n",
       "      <td>08/02/2021</td>\n",
       "      <td>NaN</td>\n",
       "      <td>08/31/2021</td>\n",
       "      <td>11/20/2023</td>\n",
       "    </tr>\n",
       "  </tbody>\n",
       "</table>\n",
       "<p>3 rows × 30 columns</p>\n",
       "</div>"
      ],
      "text/plain": [
       "   Job ID                       Agency Posting Type  # Of Positions  \\\n",
       "0  469953  HRA/DEPT OF SOCIAL SERVICES     Internal               1   \n",
       "1  469953  HRA/DEPT OF SOCIAL SERVICES     External               1   \n",
       "2  470441        NYC HOUSING AUTHORITY     External               1   \n",
       "\n",
       "                      Business Title            Civil Service Title  \\\n",
       "0                   CONTRACT ANALYST                  STAFF ANALYST   \n",
       "1                   CONTRACT ANALYST                  STAFF ANALYST   \n",
       "2  Heating Oversight Team Specialist  ASSOCIATE INSPECTOR (HOUSING)   \n",
       "\n",
       "  Title Classification Title Code No Level  \\\n",
       "0        Competitive-1         12626    02   \n",
       "1        Competitive-1         12626    02   \n",
       "2        Competitive-1         31675    02   \n",
       "\n",
       "                                       Job Category  ...  \\\n",
       "0  Administration & Human Resources Social Services  ...   \n",
       "1  Administration & Human Resources Social Services  ...   \n",
       "2         Public Safety, Inspections, & Enforcement  ...   \n",
       "\n",
       "                              Additional Information  \\\n",
       "0  **LOAN FORGIVENESS  The federal government pro...   \n",
       "1  **LOAN FORGIVENESS  The federal government pro...   \n",
       "2  1.\\tEmployees serving in the title of or who m...   \n",
       "\n",
       "                                            To Apply  Hours/Shift  \\\n",
       "0  APPLICANTS MUST BE IN THE PERMANENT IN THE STA...          NaN   \n",
       "1  APPLICANTS MUST BE IN THE PERMANENT IN THE STA...          NaN   \n",
       "2                        Click the Apply Now button.          NaN   \n",
       "\n",
       "   Work Location 1 Recruitment Contact  \\\n",
       "0              NaN                 NaN   \n",
       "1              NaN                 NaN   \n",
       "2              NaN                 NaN   \n",
       "\n",
       "                               Residency Requirement Posting Date Post Until  \\\n",
       "0  New York City residency is generally required ...   07/26/2021        NaN   \n",
       "1  New York City residency is generally required ...   07/26/2021        NaN   \n",
       "2               NYCHA has no residency requirements.   08/02/2021        NaN   \n",
       "\n",
       "  Posting Updated Process Date  \n",
       "0      06/17/2022   11/20/2023  \n",
       "1      06/17/2022   11/20/2023  \n",
       "2      08/31/2021   11/20/2023  \n",
       "\n",
       "[3 rows x 30 columns]"
      ]
     },
     "execution_count": 4,
     "metadata": {},
     "output_type": "execute_result"
    }
   ],
   "source": [
    "duplicates = df_csv.duplicated(subset='Job ID', keep=False)  # Mark all duplicates as True\n",
    "duplicates_csv = df_csv[duplicates].sort_values('Job ID').reset_index(drop=True)\n",
    "duplicates_csv[0:3]"
   ]
  },
  {
   "cell_type": "markdown",
   "metadata": {},
   "source": [
    "### eliminating duplicated key values"
   ]
  },
  {
   "cell_type": "code",
   "execution_count": 5,
   "metadata": {},
   "outputs": [
    {
     "name": "stdout",
     "output_type": "stream",
     "text": [
      "No duplicated values in the 'Job ID' column.\n"
     ]
    }
   ],
   "source": [
    "df_csv_distinct = df_csv.drop_duplicates(subset='Job ID', keep='first')\n",
    "duplicates = df_csv_distinct.duplicated(subset='Job ID')\n",
    "\n",
    "# Check if there are no duplicates\n",
    "if not duplicates.any():\n",
    "    print(\"No duplicated values in the 'Job ID' column.\")\n",
    "else:\n",
    "    print(\"There are duplicated values in the 'Job ID' column.\")"
   ]
  },
  {
   "cell_type": "markdown",
   "metadata": {},
   "source": [
    "### output to csv"
   ]
  },
  {
   "cell_type": "code",
   "execution_count": 6,
   "metadata": {},
   "outputs": [],
   "source": [
    "df_csv_distinct = df_csv_distinct.rename(columns={'Job ID': 'job_id'})\n",
    "df_csv_distinct.to_csv('Jobs_NYC_Postings_distinct.csv', index=False)"
   ]
  },
  {
   "cell_type": "code",
   "execution_count": null,
   "metadata": {},
   "outputs": [],
   "source": []
  },
  {
   "cell_type": "code",
   "execution_count": null,
   "metadata": {},
   "outputs": [],
   "source": []
  },
  {
   "cell_type": "markdown",
   "metadata": {},
   "source": [
    "# split columns for skill.csv"
   ]
  },
  {
   "cell_type": "code",
   "execution_count": 7,
   "metadata": {},
   "outputs": [
    {
     "data": {
      "text/html": [
       "<div>\n",
       "<style scoped>\n",
       "    .dataframe tbody tr th:only-of-type {\n",
       "        vertical-align: middle;\n",
       "    }\n",
       "\n",
       "    .dataframe tbody tr th {\n",
       "        vertical-align: top;\n",
       "    }\n",
       "\n",
       "    .dataframe thead th {\n",
       "        text-align: right;\n",
       "    }\n",
       "</style>\n",
       "<table border=\"1\" class=\"dataframe\">\n",
       "  <thead>\n",
       "    <tr style=\"text-align: right;\">\n",
       "      <th></th>\n",
       "      <th>similarity_score</th>\n",
       "      <th>technology_skill</th>\n",
       "      <th>job_id_title</th>\n",
       "    </tr>\n",
       "  </thead>\n",
       "  <tbody>\n",
       "    <tr>\n",
       "      <th>0</th>\n",
       "      <td>0.83389</td>\n",
       "      <td>(5625, 'Oracle HRIS')</td>\n",
       "      <td>(606346, Business Operations Analyst)</td>\n",
       "    </tr>\n",
       "  </tbody>\n",
       "</table>\n",
       "</div>"
      ],
      "text/plain": [
       "   similarity_score       technology_skill  \\\n",
       "0           0.83389  (5625, 'Oracle HRIS')   \n",
       "\n",
       "                            job_id_title  \n",
       "0  (606346, Business Operations Analyst)  "
      ]
     },
     "execution_count": 7,
     "metadata": {},
     "output_type": "execute_result"
    }
   ],
   "source": [
    "df_skill_csv = pd.read_csv('./technology_skill_30_by_job.csv', header=0)\n",
    "df_skill_csv[0:1]"
   ]
  },
  {
   "cell_type": "code",
   "execution_count": 8,
   "metadata": {},
   "outputs": [
    {
     "data": {
      "text/html": [
       "<div>\n",
       "<style scoped>\n",
       "    .dataframe tbody tr th:only-of-type {\n",
       "        vertical-align: middle;\n",
       "    }\n",
       "\n",
       "    .dataframe tbody tr th {\n",
       "        vertical-align: top;\n",
       "    }\n",
       "\n",
       "    .dataframe thead th {\n",
       "        text-align: right;\n",
       "    }\n",
       "</style>\n",
       "<table border=\"1\" class=\"dataframe\">\n",
       "  <thead>\n",
       "    <tr style=\"text-align: right;\">\n",
       "      <th></th>\n",
       "      <th>similarity_score</th>\n",
       "      <th>skill_id</th>\n",
       "      <th>skill_name</th>\n",
       "      <th>job_id</th>\n",
       "      <th>job_title</th>\n",
       "    </tr>\n",
       "  </thead>\n",
       "  <tbody>\n",
       "    <tr>\n",
       "      <th>0</th>\n",
       "      <td>0.833890</td>\n",
       "      <td>5625</td>\n",
       "      <td>Oracle HRIS</td>\n",
       "      <td>606346</td>\n",
       "      <td>Business Operations Analyst</td>\n",
       "    </tr>\n",
       "    <tr>\n",
       "      <th>1</th>\n",
       "      <td>0.824317</td>\n",
       "      <td>3603</td>\n",
       "      <td>Human resources management system HRMS</td>\n",
       "      <td>606346</td>\n",
       "      <td>Business Operations Analyst</td>\n",
       "    </tr>\n",
       "    <tr>\n",
       "      <th>2</th>\n",
       "      <td>0.824258</td>\n",
       "      <td>5682</td>\n",
       "      <td>OrangeHRM</td>\n",
       "      <td>606346</td>\n",
       "      <td>Business Operations Analyst</td>\n",
       "    </tr>\n",
       "  </tbody>\n",
       "</table>\n",
       "</div>"
      ],
      "text/plain": [
       "   similarity_score skill_id                               skill_name  job_id  \\\n",
       "0          0.833890     5625                              Oracle HRIS  606346   \n",
       "1          0.824317     3603   Human resources management system HRMS  606346   \n",
       "2          0.824258     5682                                OrangeHRM  606346   \n",
       "\n",
       "                      job_title  \n",
       "0   Business Operations Analyst  \n",
       "1   Business Operations Analyst  \n",
       "2   Business Operations Analyst  "
      ]
     },
     "execution_count": 8,
     "metadata": {},
     "output_type": "execute_result"
    }
   ],
   "source": [
    "# split technology_skill column safely\n",
    "df_skill_csv['technology_skill'] = df_skill_csv['technology_skill'].str.replace(r\"\\(|\\)|\\'\", '', regex=True)\n",
    "# specify `n=1` to perform a maximum of 1 split (i.e., generate 2 columns)\n",
    "df_skill_csv[['skill_id', 'skill_name']] = df_skill_csv['technology_skill'].str.split(',', n=1, expand=True)\n",
    "df_skill_csv.drop('technology_skill', axis=1, inplace=True)\n",
    "\n",
    "# split job_id_title column safely\n",
    "df_skill_csv['job_id_title'] = df_skill_csv['job_id_title'].str.replace(r'\\(|\\)', '', regex=True)\n",
    "# specify `n=1` to perform a maximum of 1 split (i.e., generate 2 columns)\n",
    "df_skill_csv[['job_id', 'job_title']] = df_skill_csv['job_id_title'].str.split(',', n=1, expand=True)\n",
    "df_skill_csv.drop('job_id_title', axis=1, inplace=True)\n",
    "\n",
    "df_skill_csv[0:3]"
   ]
  },
  {
   "cell_type": "code",
   "execution_count": 9,
   "metadata": {},
   "outputs": [],
   "source": [
    "df_skill_csv.drop_duplicates(inplace=True)\n",
    "df_skill_csv.to_csv('technology_skill_30_by_job_split.csv', index=False)"
   ]
  },
  {
   "cell_type": "code",
   "execution_count": null,
   "metadata": {},
   "outputs": [],
   "source": []
  },
  {
   "cell_type": "code",
   "execution_count": null,
   "metadata": {},
   "outputs": [],
   "source": []
  },
  {
   "cell_type": "code",
   "execution_count": null,
   "metadata": {},
   "outputs": [],
   "source": []
  },
  {
   "cell_type": "code",
   "execution_count": null,
   "metadata": {},
   "outputs": [],
   "source": []
  }
 ],
 "metadata": {
  "kernelspec": {
   "display_name": "py3.11.5",
   "language": "python",
   "name": "python3"
  },
  "language_info": {
   "codemirror_mode": {
    "name": "ipython",
    "version": 3
   },
   "file_extension": ".py",
   "mimetype": "text/x-python",
   "name": "python",
   "nbconvert_exporter": "python",
   "pygments_lexer": "ipython3",
   "version": "3.11.9"
  }
 },
 "nbformat": 4,
 "nbformat_minor": 2
}
