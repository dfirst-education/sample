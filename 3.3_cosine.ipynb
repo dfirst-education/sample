{
 "cells": [
  {
   "cell_type": "code",
   "execution_count": 2,
   "metadata": {},
   "outputs": [],
   "source": [
    "import numpy as np"
   ]
  },
  {
   "cell_type": "code",
   "execution_count": 3,
   "metadata": {},
   "outputs": [
    {
     "name": "stdout",
     "output_type": "stream",
     "text": [
      "0.9999854998948735\n",
      "Cosine similarity between 'vector_a' and 'vector_b': 0.9421693704700748\n"
     ]
    }
   ],
   "source": [
    "# Define a function to calculate the dot product of two vectors.\n",
    "def dot_product(a, b):\n",
    "    return sum(x * y for x, y in zip(a, b))\n",
    "\n",
    "# Define a function to calculate the magnitude (norm or length) of a vector.\n",
    "def magnitude(vector):\n",
    "    return sum(x**2 for x in vector) ** 0.5\n",
    "\n",
    "# Define a function to calculate the cosine similarity between two vectors\n",
    "# using the dot product and magnitudes.\n",
    "def cosine_similarity(a, b):\n",
    "    dot_prod = dot_product(a, b)\n",
    "    mag_a = magnitude(a)\n",
    "    print(mag_a)\n",
    "    mag_b = magnitude(b)\n",
    "    similarity = dot_prod / (mag_a * mag_b)\n",
    "    return similarity\n",
    "\n",
    "# Example vectors\n",
    "X = np.array([0.789, 0.515, 0.335,0])\n",
    "Y = np.array([0.832, 0.555,0,0])\n",
    "\n",
    "# Calculate cosine similarity\n",
    "similarity = cosine_similarity(X, Y)\n",
    "print(f\"Cosine similarity between 'vector_a' and 'vector_b': {similarity}\")"
   ]
  }
 ],
 "metadata": {
  "kernelspec": {
   "display_name": "py3.11.5",
   "language": "python",
   "name": "python3"
  },
  "language_info": {
   "codemirror_mode": {
    "name": "ipython",
    "version": 3
   },
   "file_extension": ".py",
   "mimetype": "text/x-python",
   "name": "python",
   "nbconvert_exporter": "python",
   "pygments_lexer": "ipython3",
   "version": "3.11.5"
  }
 },
 "nbformat": 4,
 "nbformat_minor": 2
}
