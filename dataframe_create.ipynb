{
 "cells": [
  {
   "cell_type": "code",
   "execution_count": 3,
   "metadata": {},
   "outputs": [],
   "source": [
    "response = \"Business Operations Analyst, Administration & Human Resources Technology, master's degree\""
   ]
  },
  {
   "cell_type": "code",
   "execution_count": 4,
   "metadata": {},
   "outputs": [
    {
     "name": "stdout",
     "output_type": "stream",
     "text": [
      "Business Operations Analyst\n",
      "Administration & Human Resources Technology\n",
      "master's degree\n"
     ]
    }
   ],
   "source": [
    "list = response.split(',')\n",
    "for item in list:\n",
    "    print(item.strip())"
   ]
  },
  {
   "cell_type": "code",
   "execution_count": 7,
   "metadata": {},
   "outputs": [],
   "source": []
  },
  {
   "cell_type": "code",
   "execution_count": null,
   "metadata": {},
   "outputs": [],
   "source": []
  },
  {
   "cell_type": "code",
   "execution_count": 8,
   "metadata": {},
   "outputs": [],
   "source": [
    "responses = [\n",
    "            [\"Business Operations Analyst\", \"Administration & Human Resources Technology\", \"master's degree\"],\n",
    "            [\"Executive Program Manager\", \"Communications & Intergovernmental Affairs Engineering, Architecture, & Planning\", \"bachelor's degree\"],\n",
    "            [\"Analyst  Energy Efficiency and Modernization\", \"Finance, Accounting, & Procurement Policy, Research & Analysis\", \"bachelor's degree\"]\n",
    "            ]"
   ]
  },
  {
   "cell_type": "code",
   "execution_count": 18,
   "metadata": {},
   "outputs": [
    {
     "name": "stdout",
     "output_type": "stream",
     "text": [
      "['Business Operations Analyst', 'Administration & Human Resources Technology', \"master's degree\"]\n",
      "Business Operations Analyst Administration & Human Resources Technology master's degree\n",
      "['Executive Program Manager', 'Communications & Intergovernmental Affairs Engineering, Architecture, & Planning', \"bachelor's degree\"]\n",
      "Executive Program Manager Communications & Intergovernmental Affairs Engineering, Architecture, & Planning bachelor's degree\n",
      "['Analyst  Energy Efficiency and Modernization', 'Finance, Accounting, & Procurement Policy, Research & Analysis', \"bachelor's degree\"]\n",
      "Analyst  Energy Efficiency and Modernization Finance, Accounting, & Procurement Policy, Research & Analysis bachelor's degree\n"
     ]
    }
   ],
   "source": [
    "i = 0\n",
    "for response_item in responses:\n",
    "    print(response_item)\n",
    "    print(response_item[0], response_item[1], response_item[2])\n",
    "    i+=1"
   ]
  },
  {
   "cell_type": "code",
   "execution_count": null,
   "metadata": {},
   "outputs": [],
   "source": []
  },
  {
   "cell_type": "code",
   "execution_count": null,
   "metadata": {},
   "outputs": [],
   "source": []
  },
  {
   "cell_type": "code",
   "execution_count": 19,
   "metadata": {},
   "outputs": [],
   "source": [
    "import pandas as pd\n",
    "df = pd.DataFrame(columns=[\"title\", \"company\", \"qualification\"])"
   ]
  },
  {
   "cell_type": "code",
   "execution_count": 20,
   "metadata": {},
   "outputs": [
    {
     "data": {
      "text/html": [
       "<div>\n",
       "<style scoped>\n",
       "    .dataframe tbody tr th:only-of-type {\n",
       "        vertical-align: middle;\n",
       "    }\n",
       "\n",
       "    .dataframe tbody tr th {\n",
       "        vertical-align: top;\n",
       "    }\n",
       "\n",
       "    .dataframe thead th {\n",
       "        text-align: right;\n",
       "    }\n",
       "</style>\n",
       "<table border=\"1\" class=\"dataframe\">\n",
       "  <thead>\n",
       "    <tr style=\"text-align: right;\">\n",
       "      <th></th>\n",
       "      <th>title</th>\n",
       "      <th>company</th>\n",
       "      <th>qualification</th>\n",
       "    </tr>\n",
       "  </thead>\n",
       "  <tbody>\n",
       "    <tr>\n",
       "      <th>0</th>\n",
       "      <td>Business Operations Analyst</td>\n",
       "      <td>Administration &amp; Human Resources Technology</td>\n",
       "      <td>master's degree</td>\n",
       "    </tr>\n",
       "    <tr>\n",
       "      <th>1</th>\n",
       "      <td>Executive Program Manager</td>\n",
       "      <td>Communications &amp; Intergovernmental Affairs Eng...</td>\n",
       "      <td>bachelor's degree</td>\n",
       "    </tr>\n",
       "    <tr>\n",
       "      <th>2</th>\n",
       "      <td>Analyst  Energy Efficiency and Modernization</td>\n",
       "      <td>Finance, Accounting, &amp; Procurement Policy, Res...</td>\n",
       "      <td>bachelor's degree</td>\n",
       "    </tr>\n",
       "  </tbody>\n",
       "</table>\n",
       "</div>"
      ],
      "text/plain": [
       "                                          title  \\\n",
       "0                   Business Operations Analyst   \n",
       "1                     Executive Program Manager   \n",
       "2  Analyst  Energy Efficiency and Modernization   \n",
       "\n",
       "                                             company      qualification  \n",
       "0        Administration & Human Resources Technology    master's degree  \n",
       "1  Communications & Intergovernmental Affairs Eng...  bachelor's degree  \n",
       "2  Finance, Accounting, & Procurement Policy, Res...  bachelor's degree  "
      ]
     },
     "execution_count": 20,
     "metadata": {},
     "output_type": "execute_result"
    }
   ],
   "source": [
    "i = 0\n",
    "for response_item in responses:\n",
    "    df.loc[i] = [response_item[0], response_item[1], response_item[2]]\n",
    "    i+=1\n",
    "df"
   ]
  },
  {
   "cell_type": "code",
   "execution_count": 21,
   "metadata": {},
   "outputs": [
    {
     "name": "stdout",
     "output_type": "stream",
     "text": [
      "Business Operations Analyst Administration & Human Resources Technology master's degree\n",
      "Executive Program Manager Communications & Intergovernmental Affairs Engineering, Architecture, & Planning bachelor's degree\n",
      "Analyst  Energy Efficiency and Modernization Finance, Accounting, & Procurement Policy, Research & Analysis bachelor's degree\n"
     ]
    }
   ],
   "source": [
    "for index, row in df[0:].iterrows():\n",
    "   print (row[\"title\"], row[\"company\"], row[\"qualification\"])"
   ]
  },
  {
   "cell_type": "code",
   "execution_count": null,
   "metadata": {},
   "outputs": [],
   "source": []
  },
  {
   "cell_type": "code",
   "execution_count": null,
   "metadata": {},
   "outputs": [],
   "source": []
  }
 ],
 "metadata": {
  "kernelspec": {
   "display_name": "base",
   "language": "python",
   "name": "python3"
  },
  "language_info": {
   "codemirror_mode": {
    "name": "ipython",
    "version": 3
   },
   "file_extension": ".py",
   "mimetype": "text/x-python",
   "name": "python",
   "nbconvert_exporter": "python",
   "pygments_lexer": "ipython3",
   "version": "3.11.5"
  }
 },
 "nbformat": 4,
 "nbformat_minor": 2
}
