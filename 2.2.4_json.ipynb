{
 "cells": [
  {
   "cell_type": "markdown",
   "metadata": {},
   "source": [
    "# json -> dict (json.load())"
   ]
  },
  {
   "cell_type": "code",
   "execution_count": 1,
   "metadata": {},
   "outputs": [],
   "source": [
    "import pandas as pd"
   ]
  },
  {
   "cell_type": "code",
   "execution_count": 3,
   "metadata": {},
   "outputs": [
    {
     "data": {
      "text/html": [
       "<div>\n",
       "<style scoped>\n",
       "    .dataframe tbody tr th:only-of-type {\n",
       "        vertical-align: middle;\n",
       "    }\n",
       "\n",
       "    .dataframe tbody tr th {\n",
       "        vertical-align: top;\n",
       "    }\n",
       "\n",
       "    .dataframe thead th {\n",
       "        text-align: right;\n",
       "    }\n",
       "</style>\n",
       "<table border=\"1\" class=\"dataframe\">\n",
       "  <thead>\n",
       "    <tr style=\"text-align: right;\">\n",
       "      <th></th>\n",
       "      <th>Job ID</th>\n",
       "      <th>Agency</th>\n",
       "      <th>Posting Type</th>\n",
       "      <th># Of Positions</th>\n",
       "      <th>Business Title</th>\n",
       "      <th>Civil Service Title</th>\n",
       "      <th>Title Classification</th>\n",
       "      <th>Title Code No</th>\n",
       "      <th>Level</th>\n",
       "      <th>Job Category</th>\n",
       "      <th>...</th>\n",
       "      <th>Additional Information</th>\n",
       "      <th>To Apply</th>\n",
       "      <th>Hours/Shift</th>\n",
       "      <th>Work Location 1</th>\n",
       "      <th>Recruitment Contact</th>\n",
       "      <th>Residency Requirement</th>\n",
       "      <th>Posting Date</th>\n",
       "      <th>Post Until</th>\n",
       "      <th>Posting Updated</th>\n",
       "      <th>Process Date</th>\n",
       "    </tr>\n",
       "  </thead>\n",
       "  <tbody>\n",
       "    <tr>\n",
       "      <th>0</th>\n",
       "      <td>606346</td>\n",
       "      <td>DEPARTMENT FOR THE AGING</td>\n",
       "      <td>External</td>\n",
       "      <td>1</td>\n",
       "      <td>Business Operations Analyst</td>\n",
       "      <td>ASSOCIATE STAFF ANALYST</td>\n",
       "      <td>Competitive-1</td>\n",
       "      <td>12627</td>\n",
       "      <td>00</td>\n",
       "      <td>Administration &amp; Human Resources Technology, D...</td>\n",
       "      <td>...</td>\n",
       "      <td>0</td>\n",
       "      <td>Please be sure to submit a resume &amp; cover lett...</td>\n",
       "      <td>0</td>\n",
       "      <td>0</td>\n",
       "      <td>0</td>\n",
       "      <td>New York City residency is generally required ...</td>\n",
       "      <td>09/28/2023</td>\n",
       "      <td>27-DEC-2023</td>\n",
       "      <td>09/29/2023</td>\n",
       "      <td>11/20/2023</td>\n",
       "    </tr>\n",
       "  </tbody>\n",
       "</table>\n",
       "<p>1 rows × 30 columns</p>\n",
       "</div>"
      ],
      "text/plain": [
       "   Job ID                    Agency Posting Type  # Of Positions  \\\n",
       "0  606346  DEPARTMENT FOR THE AGING     External               1   \n",
       "\n",
       "                Business Title      Civil Service Title Title Classification  \\\n",
       "0  Business Operations Analyst  ASSOCIATE STAFF ANALYST        Competitive-1   \n",
       "\n",
       "  Title Code No Level                                       Job Category  ...  \\\n",
       "0         12627    00  Administration & Human Resources Technology, D...  ...   \n",
       "\n",
       "  Additional Information                                           To Apply  \\\n",
       "0                      0  Please be sure to submit a resume & cover lett...   \n",
       "\n",
       "   Hours/Shift  Work Location 1 Recruitment Contact  \\\n",
       "0            0                0                   0   \n",
       "\n",
       "                               Residency Requirement Posting Date  \\\n",
       "0  New York City residency is generally required ...   09/28/2023   \n",
       "\n",
       "    Post Until Posting Updated Process Date  \n",
       "0  27-DEC-2023      09/29/2023   11/20/2023  \n",
       "\n",
       "[1 rows x 30 columns]"
      ]
     },
     "execution_count": 3,
     "metadata": {},
     "output_type": "execute_result"
    }
   ],
   "source": [
    "df_jsonl = pd.read_json('./data/Jobs_NYC_Postings.jsonl', orient='records', lines=True)\n",
    "df_jsonl[0:1]"
   ]
  },
  {
   "cell_type": "code",
   "execution_count": 10,
   "metadata": {},
   "outputs": [
    {
     "name": "stdout",
     "output_type": "stream",
     "text": [
      "<class 'dict'>\n"
     ]
    }
   ],
   "source": [
    "import json\n",
    "json_file = './data/Jobs_NYC_Postings.json'\n",
    "encoding = \"utf-8\"\n",
    "with open(json_file, mode=\"rt\", encoding=\"utf-8\") as f:\n",
    "\tdata = json.load(f)\n",
    "\n",
    "print(type(data))"
   ]
  },
  {
   "cell_type": "code",
   "execution_count": 20,
   "metadata": {},
   "outputs": [
    {
     "data": {
      "text/plain": [
       "dict_keys(['meta', 'data'])"
      ]
     },
     "execution_count": 20,
     "metadata": {},
     "output_type": "execute_result"
    }
   ],
   "source": [
    "data.keys()"
   ]
  },
  {
   "cell_type": "code",
   "execution_count": null,
   "metadata": {},
   "outputs": [],
   "source": []
  },
  {
   "cell_type": "markdown",
   "metadata": {},
   "source": [
    "# jsonl -> list -> dict (json.load())"
   ]
  },
  {
   "cell_type": "code",
   "execution_count": 17,
   "metadata": {},
   "outputs": [
    {
     "name": "stdout",
     "output_type": "stream",
     "text": [
      "<class 'list'>\n",
      "['{\"Job ID\":606346,\"Agency\":\"DEPARTMENT FOR THE AGING\",\"Posting Type\":\"External\",\"# Of Positions\":1,\"Business Title\":\"Business Operations Analyst\",\"Civil Service Title\":\"ASSOCIATE STAFF ANALYST\",\"Title Classification\":\"Competitive-1\",\"Title Code No\":\"12627\",\"Level\":\"00\",\"Job Category\":\"Administration & Human Resources Technology, Data & Innovation Policy, Research & Analysis\",\"Full-Time\\\\/Part-Time indicator\":\"F\",\"Career Level\":\"Experienced (non-manager)\",\"Salary Range From\":70611.0,\"Salary Range To\":81203.0,\"Salary Frequency\":\"Annual\",\"Work Location\":\"2 Lafayette St., N.Y.\",\"Division\\\\/Work Unit\":\"Human Resources\",\"Job Description\":\"The Office of Human Resources (OHR) seeks a highly motivated individual to serve as a Business Operations Analyst. As Business Operations Analyst, the selected candidate will operate as a project manager and personnel records coordinator for OHR. The individual will facilitate the workflow processes across OHR business units and push projects through the appropriate channels to eliminate gaps and delays; and coordinate the request for OHR records and review of personnel folders. Reporting directly to the Chief Human Resources Officer, the Business Operations Analyst duties will include but not be limited to the following:  Project Management Duties:  \\\\u00e2\\\\u0080\\\\u00a2 Manage planning processes and critical projects involving the various OHR units.  \\\\u00e2\\\\u0080\\\\u00a2 Support the OHR team to organize and structure projects utilizing a project management framework and approach; coordinate people and processes to ensure effective planning to keep projects on track for timely delivery and to produce the desired results. \\\\u00e2\\\\u0080\\\\u00a2 Break projects into doable actions and set time frames. \\\\u00e2\\\\u0080\\\\u00a2 Prepare written materials for internal and external communications, including project overviews, internal memos, meeting agendas and presentations. \\\\u00e2\\\\u0080\\\\u00a2 Lead special and confidential projects as required by the Chief Human Resources Officer. \\\\u00e2\\\\u0080\\\\u00a2 Participate in special projects and initiatives as needed.  Personnel Records Coordinator Duties:  \\\\u00e2\\\\u0080\\\\u00a2 Coordinate the request for personnel records within the agency. \\\\u00e2\\\\u0080\\\\u00a2 Facilitate employees\\' request to review their personnel folders and ensure the agency protocol is adhered to. \\\\u00e2\\\\u0080\\\\u00a2 Maintain a structured system for releasing personnel records and ensure timely return of folders by stakeholders. \\\\u00e2\\\\u0080\\\\u00a2 Lead the digitization of personnel records initiative by working with various stakeholders within the agency. \\\\u00e2\\\\u0080\\\\u00a2 Maintain confidentiality of personnel information received.\",\"Minimum Qual Requirements\":\"1. A master\\\\u00e2\\\\u0080\\\\u0099s degree from an accredited college or university, accredited by regional, national, professional or specialized agencies recognized as accrediting bodies by the U.S. Secretary of Education and the Council for Higher Education Accreditation (CHEA) in economics, finance, accounting, business or public administration, human resources management, management science, operations research, organizational behavior, industrial psychology, statistics, personnel administration, labor relations, psychology, sociology, human resources development, political science, urban studies or a closely related field, and one year of satisfactory full-time professional experience in one or a combination of the following: working with the budget of a large public or private concern in budget administration, accounting, economic or financial administration, or fiscal or economic research; or in management or methods analysis, operations research, organizational research or program evaluation; or in personnel or public administration, recruitment, position classification, personnel relations, labor relations, employee   benefits, staff development, employment program planning\\\\/administration, labor market research, economic planning, social services program planning\\\\/evaluation, or fiscal management; or in a related area; or  2. A baccalaureate degree from an accredited college or university, accredited by regional, national, professional or specialized agencies recognized as accrediting bodies by the U.S. Secretary of Education and the Council for Higher Education Accreditation (CHEA) and three years of satisfactory full-time professional experience in the areas described in \\\\u00e2\\\\u0080\\\\u009c1 above.\",\"Preferred Skills\":\"\\\\u00e2\\\\u0080\\\\u00a2 Project management experience and expertise is a plus. \\\\u00e2\\\\u0080\\\\u00a2 Self-starter; works independently and well with others across teams and at all levels of the organization. \\\\u00e2\\\\u0080\\\\u00a2 Excellent organizational skills. Problem solve, and prioritize duties. \\\\u00e2\\\\u0080\\\\u00a2 Excellent oral and written communication skills. \\\\u00e2\\\\u0080\\\\u00a2 Seamlessly use technology to execute\\\\/streamline tasks; and highly proficient with Microsoft Office. \\\\u00e2\\\\u0080\\\\u00a2 Ability to manage multiple projects simultaneously while maintaining attention to detail and follow-up.\",\"Additional Information\":0,\"To Apply\":\"Please be sure to submit a resume & cover letter when applying. All current City Employees may apply by going to Employee Self Service (ESS) http:\\\\/\\\\/cityshare.nycnet\\\\/ess Click on Recruiting Activities\\\\/Careers and Search for Job ID #606346 All other applicants, please go to www.nyc.gov\\\\/careers\\\\/search and search for Job ID#606346 Please do not email, mail or fax your resume to NYC Aging directly.\",\"Hours\\\\/Shift\":0,\"Work Location 1\":0,\"Recruitment Contact\":0.0,\"Residency Requirement\":\"New York City residency is generally required within 90 days of appointment. However, City Employees in certain titles who have worked for the City for 2 continuous years may also be eligible to reside in Nassau, Suffolk, Putnam, Westchester, Rockland, or Orange County. To determine if the residency requirement applies to you, please discuss with the agency representative at the time of interview.\",\"Posting Date\":\"09\\\\/28\\\\/2023\",\"Post Until\":\"27-DEC-2023\",\"Posting Updated\":\"09\\\\/29\\\\/2023\",\"Process Date\":\"11\\\\/20\\\\/2023\"}\\n']\n",
      "{\"Job ID\":602875,\"Agency\":\"DEPT OF ENVIRONMENT PROTECTION\",\"Posting Type\":\"Internal\",\"# Of Positions\":1,\"Business Title\":\"Cost Estimator\",\"Civil Service Title\":\"ASSISTANT CIVIL ENGINEER\",\"Title Classification\":\"Competitive-1\",\"Title Code No\":\"20210\",\"Level\":\"00\",\"Job Category\":\"Engineering, Architecture, & Planning Policy, Research & Analysis\",\"Full-Time\\/Part-Time indicator\":\"F\",\"Career Level\":\"Experienced (non-manager)\",\"Salary Range From\":62370.0,\"Salary Range To\":93587.0,\"Salary Frequency\":\"Annual\",\"Work Location\":\"59-17 Junction Blvd Corona Ny\",\"Division\\/Work Unit\":\"Green Infrastructure\",\"Job Description\":\"The NYC Department of Environmental Protection (DEP) protects public health and the environment by supplying clean drinking water, collecting and treating wastewater, and reducing air, noise, and hazardous materials pollution. DEP is the largest combined municipal water and wastewater utility in the country, with nearly 6,000 employees. We deliver 1.1 billion gallons of high-quality drinking water per day to 8.3 million New York City residents and more than 1 million people in Upstate New York, and we collect and treat an average of 1.3 billion gallons of wastewater per day. The Bureau of Environmental Planning and Analysis (BEPA) is responsible for conducting environmental reviews for DEP in accordance with all applicable City Environmental Quality Review (CEQR) and State Environmental Quality Review (SEQR) regulations. In addition, this office provides technical assistance to other City agencies especially in the areas of air and noise quality and hazardous materials. The Office also provides technical assistance for the preservation of natural resources (wetlands remediation and development of natural landscaping plans) and conducts long range planning (population\\/employment, consumption and demand\\/flow) for the agency. The Bureau also conducts strategic planning to help ensure appropriate forecasting, trend analysis, regulatory review, scientific modeling, and research. In particular, the Bureau oversees the development of a watershed\\/sewer shed protection plan for Jamaica Bay, is continuing the work of the climate change task force and helps DEP plan for the new growth stimulated by rezoning throughout the city.  The In-House Design team at BEPA specializes in delivering cutting-edge civil engineering design solutions to support the green infrastructure (GI) vision of the New York City Department of Environmental Protection (NYC-DEP). Our Engineering team is dedicated to designing and implementing large-scale green infrastructure (GI) projects that prioritize the capture of substantial volumes of stormwater annually to eliminate or remove mass pollutants, reduce CSO events, and mitigate the impact of extreme weather flooding. The BEPA In-House Design team is responsible for identifying and evaluating different large-scale green infrastructure (GI) and low-impact development (LID) practices, as well as exploring potential financing mechanisms to support these initiatives. The IHD team collaborates with various stakeholders, including the Department of Transportation (DOT) and the Department of Parks and Recreation (DPR), the New York State Department of Environmental Conservation (DEC) to establish partnerships and effectively achieve these objectives.  The Bureau is seeking to hire a skilled Cost Estimator under direct supervision of the In-House Design Director, with little latitude for independent judgment, to perform the following duties:  \\u00e2\\u0080\\u00a2\\tEngineering quantities and cost estimation works such as, skillfully computing comprehensive construction project quantities and costs, including labor, materials, and equipment.  \\u00e2\\u0080\\u00a2       Evaluate bid specifications and drawings, ensuring a thorough understanding of contract documents to optimize the cost estimation process. \\u00e2\\u0080\\u00a2       Collaborate with Project Management to review and enhance project schedules, including cost breakdowns. \\u00e2\\u0080\\u00a2       Innovatively propose cost-saving solutions to the IHD Project Management team, contributing valuable perspectives beyond the CIP design and construction phases.  Additional critical tasks include CAD drafting, construction inspection, public agency interaction, and contractor document preparation.\",\"Minimum Qual Requirements\":\"1.  A baccalaureate degree from an accredited college in civil engineering and one year of full-time satisfactory experience in civil engineering work; or  2.  A baccalaureate degree from an accredited college and a Master's degree from an accredited college in civil engineering.\",\"Preferred Skills\":\"\\u00e2\\u0080\\u00a2      Experience in the application of code requirements and preparation of civil engineering construction documents such as site plans, Site grading, earthworks, sediment\\/erosion control design,         utility plan\\/profile design, reports and analyses, specifications, cost estimates, and technical reports. \\u00e2\\u0080\\u00a2      Experience in analyzing construction drawings, sections, profiles, and details to determine engineering quantities and costs, including materials, labor, and other related costs for surface and         subsurface drainage projects. \\u00e2\\u0080\\u00a2      Experience in preparing engineering cost estimates for purposes of budget planning, scheduling work, and organizing. \\u00e2\\u0080\\u00a2      Work with project managers to ensure accurate cost estimates and prepare cost reports for submission to management. \\u00e2\\u0080\\u00a2      Supports the development, preparation, and maintenance of In-House Design (IHD) procedures on cost estimating, incorporating current best practices used in the construction, Drainage, and         transportation industries.  \\u00e2\\u0080\\u00a2      Experience in analyzing and assessing project risks and developing strategies to minimize costs. \\u00e2\\u0080\\u00a2      Ability to review the contractor\\u00e2\\u0080\\u0099s Application for payment and supporting documents.  \\u00e2\\u0080\\u00a2      Stay up to date with industry trends and maintain technical expertise by reviewing professional publications and engaging with professional networks.  \\u00e2\\u0080\\u00a2      Must have AutoCAD Civil 3D experience. \\u00e2\\u0080\\u00a2      Must have Strong written and oral communication skills, computer skills, and the ability to organize and analyze data  \\u00e2\\u0080\\u00a2      Ability to work well in a team-oriented environment and with the public.\",\"Additional Information\":\"DEP is an equal opportunity employer with a strong commitment to the diversity of our organization and workforce. Your voluntary response to the NYCAPS on-line application section for referral information will assist us tremendously in our ability to track the success of our outreach and recruitment efforts. Please be sure to indicate your source of referral to this job.\",\"To Apply\":\"To apply click Apply Now.\",\"Hours\\/Shift\":0,\"Work Location 1\":\"59-17 Junction Blvd Corona NY\",\"Recruitment Contact\":0.0,\"Residency Requirement\":\"New York City Residency is not required for this position\",\"Posting Date\":\"10\\/06\\/2023\",\"Post Until\":0,\"Posting Updated\":\"10\\/06\\/2023\",\"Process Date\":\"11\\/20\\/2023\"}\n",
      "\n",
      "<class 'dict'>\n",
      "{'Job ID': 602875, 'Agency': 'DEPT OF ENVIRONMENT PROTECTION', 'Posting Type': 'Internal', '# Of Positions': 1, 'Business Title': 'Cost Estimator', 'Civil Service Title': 'ASSISTANT CIVIL ENGINEER', 'Title Classification': 'Competitive-1', 'Title Code No': '20210', 'Level': '00', 'Job Category': 'Engineering, Architecture, & Planning Policy, Research & Analysis', 'Full-Time/Part-Time indicator': 'F', 'Career Level': 'Experienced (non-manager)', 'Salary Range From': 62370.0, 'Salary Range To': 93587.0, 'Salary Frequency': 'Annual', 'Work Location': '59-17 Junction Blvd Corona Ny', 'Division/Work Unit': 'Green Infrastructure', 'Job Description': 'The NYC Department of Environmental Protection (DEP) protects public health and the environment by supplying clean drinking water, collecting and treating wastewater, and reducing air, noise, and hazardous materials pollution. DEP is the largest combined municipal water and wastewater utility in the country, with nearly 6,000 employees. We deliver 1.1 billion gallons of high-quality drinking water per day to 8.3 million New York City residents and more than 1 million people in Upstate New York, and we collect and treat an average of 1.3 billion gallons of wastewater per day. The Bureau of Environmental Planning and Analysis (BEPA) is responsible for conducting environmental reviews for DEP in accordance with all applicable City Environmental Quality Review (CEQR) and State Environmental Quality Review (SEQR) regulations. In addition, this office provides technical assistance to other City agencies especially in the areas of air and noise quality and hazardous materials. The Office also provides technical assistance for the preservation of natural resources (wetlands remediation and development of natural landscaping plans) and conducts long range planning (population/employment, consumption and demand/flow) for the agency. The Bureau also conducts strategic planning to help ensure appropriate forecasting, trend analysis, regulatory review, scientific modeling, and research. In particular, the Bureau oversees the development of a watershed/sewer shed protection plan for Jamaica Bay, is continuing the work of the climate change task force and helps DEP plan for the new growth stimulated by rezoning throughout the city.  The In-House Design team at BEPA specializes in delivering cutting-edge civil engineering design solutions to support the green infrastructure (GI) vision of the New York City Department of Environmental Protection (NYC-DEP). Our Engineering team is dedicated to designing and implementing large-scale green infrastructure (GI) projects that prioritize the capture of substantial volumes of stormwater annually to eliminate or remove mass pollutants, reduce CSO events, and mitigate the impact of extreme weather flooding. The BEPA In-House Design team is responsible for identifying and evaluating different large-scale green infrastructure (GI) and low-impact development (LID) practices, as well as exploring potential financing mechanisms to support these initiatives. The IHD team collaborates with various stakeholders, including the Department of Transportation (DOT) and the Department of Parks and Recreation (DPR), the New York State Department of Environmental Conservation (DEC) to establish partnerships and effectively achieve these objectives.  The Bureau is seeking to hire a skilled Cost Estimator under direct supervision of the In-House Design Director, with little latitude for independent judgment, to perform the following duties:  â\\x80¢\\tEngineering quantities and cost estimation works such as, skillfully computing comprehensive construction project quantities and costs, including labor, materials, and equipment.  â\\x80¢       Evaluate bid specifications and drawings, ensuring a thorough understanding of contract documents to optimize the cost estimation process. â\\x80¢       Collaborate with Project Management to review and enhance project schedules, including cost breakdowns. â\\x80¢       Innovatively propose cost-saving solutions to the IHD Project Management team, contributing valuable perspectives beyond the CIP design and construction phases.  Additional critical tasks include CAD drafting, construction inspection, public agency interaction, and contractor document preparation.', 'Minimum Qual Requirements': \"1.  A baccalaureate degree from an accredited college in civil engineering and one year of full-time satisfactory experience in civil engineering work; or  2.  A baccalaureate degree from an accredited college and a Master's degree from an accredited college in civil engineering.\", 'Preferred Skills': 'â\\x80¢      Experience in the application of code requirements and preparation of civil engineering construction documents such as site plans, Site grading, earthworks, sediment/erosion control design,         utility plan/profile design, reports and analyses, specifications, cost estimates, and technical reports. â\\x80¢      Experience in analyzing construction drawings, sections, profiles, and details to determine engineering quantities and costs, including materials, labor, and other related costs for surface and         subsurface drainage projects. â\\x80¢      Experience in preparing engineering cost estimates for purposes of budget planning, scheduling work, and organizing. â\\x80¢      Work with project managers to ensure accurate cost estimates and prepare cost reports for submission to management. â\\x80¢      Supports the development, preparation, and maintenance of In-House Design (IHD) procedures on cost estimating, incorporating current best practices used in the construction, Drainage, and         transportation industries.  â\\x80¢      Experience in analyzing and assessing project risks and developing strategies to minimize costs. â\\x80¢      Ability to review the contractorâ\\x80\\x99s Application for payment and supporting documents.  â\\x80¢      Stay up to date with industry trends and maintain technical expertise by reviewing professional publications and engaging with professional networks.  â\\x80¢      Must have AutoCAD Civil 3D experience. â\\x80¢      Must have Strong written and oral communication skills, computer skills, and the ability to organize and analyze data  â\\x80¢      Ability to work well in a team-oriented environment and with the public.', 'Additional Information': 'DEP is an equal opportunity employer with a strong commitment to the diversity of our organization and workforce. Your voluntary response to the NYCAPS on-line application section for referral information will assist us tremendously in our ability to track the success of our outreach and recruitment efforts. Please be sure to indicate your source of referral to this job.', 'To Apply': 'To apply click Apply Now.', 'Hours/Shift': 0, 'Work Location 1': '59-17 Junction Blvd Corona NY', 'Recruitment Contact': 0.0, 'Residency Requirement': 'New York City Residency is not required for this position', 'Posting Date': '10/06/2023', 'Post Until': 0, 'Posting Updated': '10/06/2023', 'Process Date': '11/20/2023'}\n"
     ]
    }
   ],
   "source": [
    "import json\n",
    "jsonl_file = './data/Jobs_NYC_Postings.jsonl'\n",
    "encoding = \"utf-8\"\n",
    "with open(jsonl_file, mode=\"rt\", encoding=\"utf-8\") as f:\n",
    "\tjson_list = list(f)\n",
    "\n",
    "print(type(json_list))\n",
    "print(json_list[0:1])\n",
    "print(json_list[len(json_list)-1])\n",
    "\t\n",
    "\n",
    "for json_str in json_list:\n",
    "    result = json.loads(json_str)\n",
    "\n",
    "print(type(result))\n",
    "print(result)"
   ]
  }
 ],
 "metadata": {
  "kernelspec": {
   "display_name": "py3.11.5",
   "language": "python",
   "name": "python3"
  },
  "language_info": {
   "codemirror_mode": {
    "name": "ipython",
    "version": 3
   },
   "file_extension": ".py",
   "mimetype": "text/x-python",
   "name": "python",
   "nbconvert_exporter": "python",
   "pygments_lexer": "ipython3",
   "version": "0.0.0"
  }
 },
 "nbformat": 4,
 "nbformat_minor": 2
}
