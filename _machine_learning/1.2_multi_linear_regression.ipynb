{
 "cells": [
  {
   "cell_type": "code",
   "execution_count": 1,
   "metadata": {},
   "outputs": [
    {
     "name": "stdout",
     "output_type": "stream",
     "text": [
      "[ 121.38490116    7.85980009 -124.58963175   41.00261279  -26.63686974\n",
      "   86.54245026 -115.70042851  -86.83134041 -122.47457672 -219.98565432\n",
      "  -94.60953715  -93.78798768   28.52602374  -84.49397404   -6.20979544\n",
      "   21.37516735  -45.33206679  -22.65413603    3.67511216  -29.64743901\n",
      "  -14.68097993   37.34464017    8.28887999   73.27989407  -31.83281179]\n"
     ]
    }
   ],
   "source": [
    "# 必要なモジュールのインポート\n",
    "from sklearn.linear_model import LinearRegression\n",
    "from sklearn.datasets import make_regression\n",
    "from sklearn.model_selection import train_test_split\n",
    "\n",
    "# データの生成\n",
    "X, y = make_regression(n_samples=100, n_features=10, n_informative=3, n_targets=1, noise=5.0, random_state=42)\n",
    "train_X, test_X, train_y, test_y = train_test_split(X, y, random_state=42)\n",
    "\n",
    "# 以下にコードを記述してください\n",
    "model = LinearRegression()\n",
    "model.fit(train_X, train_y)\n",
    "\n",
    "# test_Xに対する推測結果を出力してください(print関数を用います。)\n",
    "print(model.predict(test_X))"
   ]
  },
  {
   "cell_type": "code",
   "execution_count": 4,
   "metadata": {},
   "outputs": [
    {
     "name": "stdout",
     "output_type": "stream",
     "text": [
      "(75, 10)\n",
      "(25, 10)\n",
      "(75,)\n",
      "(25,)\n"
     ]
    }
   ],
   "source": [
    "print(train_X.shape)\n",
    "print(test_X.shape)\n",
    "print(train_y.shape)\n",
    "print(test_y.shape)"
   ]
  }
 ],
 "metadata": {
  "kernelspec": {
   "display_name": "py3.11.5",
   "language": "python",
   "name": "python3"
  },
  "language_info": {
   "codemirror_mode": {
    "name": "ipython",
    "version": 3
   },
   "file_extension": ".py",
   "mimetype": "text/x-python",
   "name": "python",
   "nbconvert_exporter": "python",
   "pygments_lexer": "ipython3",
   "version": "0.0.0"
  }
 },
 "nbformat": 4,
 "nbformat_minor": 2
}
