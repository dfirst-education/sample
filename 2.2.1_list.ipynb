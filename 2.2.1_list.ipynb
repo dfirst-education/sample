{
 "cells": [
  {
   "cell_type": "markdown",
   "metadata": {},
   "source": [
    "# list"
   ]
  },
  {
   "cell_type": "code",
   "execution_count": 1,
   "metadata": {},
   "outputs": [
    {
     "name": "stdout",
     "output_type": "stream",
     "text": [
      "['df_response.csv', 'document_embeddings.pkl', 'Jobs_NYC_Postings.csv', 'Jobs_NYC_Postings.json', 'Jobs_NYC_Postings.jsonl', 'Jobs_NYC_Postings.xlsx', 'Jobs_NYC_Postings_mini.json', 'Retail_Food_Stores.csv', 'Retail_Food_Stores.json']\n",
      "<class 'list'>\n"
     ]
    }
   ],
   "source": [
    "import os\n",
    "\n",
    "dir_path = \"data\"\n",
    "files = os.listdir(dir_path)\n",
    "print(files)\n",
    "print(type(files))"
   ]
  },
  {
   "cell_type": "markdown",
   "metadata": {},
   "source": [
    "len"
   ]
  },
  {
   "cell_type": "code",
   "execution_count": 2,
   "metadata": {},
   "outputs": [
    {
     "name": "stdout",
     "output_type": "stream",
     "text": [
      "9\n"
     ]
    }
   ],
   "source": [
    "print(len(files))"
   ]
  },
  {
   "cell_type": "markdown",
   "metadata": {},
   "source": [
    "isdir"
   ]
  },
  {
   "cell_type": "code",
   "execution_count": null,
   "metadata": {},
   "outputs": [],
   "source": [
    "files_dir = [\n",
    "    f for f in os.listdir(dir_path) if os.path.isdir(os.path.join(dir_path, f))\n",
    "]"
   ]
  },
  {
   "cell_type": "markdown",
   "metadata": {},
   "source": [
    "isfile"
   ]
  },
  {
   "cell_type": "code",
   "execution_count": null,
   "metadata": {},
   "outputs": [],
   "source": [
    "files_file = [\n",
    "    f for f in os.listdir(dir_path) if os.path.isfile(os.path.join(dir_path, f))\n",
    "]"
   ]
  },
  {
   "cell_type": "markdown",
   "metadata": {},
   "source": [
    "# for"
   ]
  },
  {
   "cell_type": "code",
   "execution_count": 3,
   "metadata": {},
   "outputs": [
    {
     "name": "stdout",
     "output_type": "stream",
     "text": [
      "df_response.csv\n",
      "document_embeddings.pkl\n",
      "Jobs_NYC_Postings.csv\n",
      "Jobs_NYC_Postings.json\n",
      "Jobs_NYC_Postings.jsonl\n",
      "Jobs_NYC_Postings.xlsx\n",
      "Jobs_NYC_Postings_mini.json\n",
      "Retail_Food_Stores.csv\n",
      "Retail_Food_Stores.json\n"
     ]
    }
   ],
   "source": [
    "for file in files:\n",
    "    print(file)"
   ]
  },
  {
   "cell_type": "code",
   "execution_count": 6,
   "metadata": {},
   "outputs": [
    {
     "name": "stdout",
     "output_type": "stream",
     "text": [
      "document_embeddings.pkl\n",
      "df_response.csv\n",
      "Retail_Food_Stores.json\n",
      "Retail_Food_Stores.csv\n",
      "Jobs_NYC_Postings_mini.json\n",
      "Jobs_NYC_Postings.xlsx\n",
      "Jobs_NYC_Postings.jsonl\n",
      "Jobs_NYC_Postings.json\n",
      "Jobs_NYC_Postings.csv\n"
     ]
    }
   ],
   "source": [
    "# files.sort()\n",
    "files.sort(reverse=True)\n",
    "for file in files:\n",
    "    print(file)"
   ]
  },
  {
   "cell_type": "code",
   "execution_count": 7,
   "metadata": {},
   "outputs": [
    {
     "name": "stdout",
     "output_type": "stream",
     "text": [
      "Jobs_NYC_Postings.csv\n",
      "Jobs_NYC_Postings.json\n",
      "Jobs_NYC_Postings.jsonl\n",
      "Jobs_NYC_Postings.xlsx\n",
      "Jobs_NYC_Postings_mini.json\n",
      "Retail_Food_Stores.csv\n",
      "Retail_Food_Stores.json\n",
      "df_response.csv\n",
      "document_embeddings.pkl\n"
     ]
    }
   ],
   "source": [
    "files_sorted = sorted(files)\n",
    "# files_sorted = sorted(files, reverse=True)\n",
    "for file in files_sorted:\n",
    "    print(file)"
   ]
  }
 ],
 "metadata": {
  "kernelspec": {
   "display_name": "py3.11.5",
   "language": "python",
   "name": "python3"
  },
  "language_info": {
   "codemirror_mode": {
    "name": "ipython",
    "version": 3
   },
   "file_extension": ".py",
   "mimetype": "text/x-python",
   "name": "python",
   "nbconvert_exporter": "python",
   "pygments_lexer": "ipython3",
   "version": "0.0.0"
  }
 },
 "nbformat": 4,
 "nbformat_minor": 2
}
