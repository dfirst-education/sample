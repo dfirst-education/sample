{
 "cells": [
  {
   "cell_type": "code",
   "execution_count": 11,
   "metadata": {},
   "outputs": [],
   "source": [
    "class jobpost :\n",
    "    def __init__(self, jobtitle, company, location, salary) :\n",
    "        self.jobtitle = jobtitle\n",
    "        self.company = company\n",
    "        self.location = location\n",
    "        self.salary = salary\n",
    "    def round_salary(self) :\n",
    "        if self.salary % 100 >= 0 :\n",
    "            return round(self.salary, -2)\n",
    "        else :\n",
    "            return self.salary"
   ]
  },
  {
   "cell_type": "code",
   "execution_count": 12,
   "metadata": {},
   "outputs": [
    {
     "name": "stdout",
     "output_type": "stream",
     "text": [
      "10000\n"
     ]
    }
   ],
   "source": [
    "jobpost1 = jobpost(\"Software Engineer\", \"Company A\", \"Location X\", 10050)\n",
    "print(jobpost1.round_salary())"
   ]
  },
  {
   "cell_type": "code",
   "execution_count": 13,
   "metadata": {},
   "outputs": [
    {
     "ename": "NameError",
     "evalue": "name 'jobpost1' is not defined",
     "output_type": "error",
     "traceback": [
      "\u001b[1;31m---------------------------------------------------------------------------\u001b[0m",
      "\u001b[1;31mNameError\u001b[0m                                 Traceback (most recent call last)",
      "Cell \u001b[1;32mIn[13], line 2\u001b[0m\n\u001b[0;32m      1\u001b[0m \u001b[38;5;28;01mdel\u001b[39;00m jobpost1\n\u001b[1;32m----> 2\u001b[0m \u001b[38;5;28mprint\u001b[39m(jobpost1\u001b[38;5;241m.\u001b[39mround_salary())\n",
      "\u001b[1;31mNameError\u001b[0m: name 'jobpost1' is not defined"
     ]
    }
   ],
   "source": [
    "del jobpost1\n",
    "print(jobpost1.round_salary())"
   ]
  }
 ],
 "metadata": {
  "kernelspec": {
   "display_name": "py3.11.5",
   "language": "python",
   "name": "python3"
  },
  "language_info": {
   "codemirror_mode": {
    "name": "ipython",
    "version": 3
   },
   "file_extension": ".py",
   "mimetype": "text/x-python",
   "name": "python",
   "nbconvert_exporter": "python",
   "pygments_lexer": "ipython3",
   "version": "3.11.5"
  }
 },
 "nbformat": 4,
 "nbformat_minor": 2
}
