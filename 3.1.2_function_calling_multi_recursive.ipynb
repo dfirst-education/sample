{
 "cells": [
  {
   "cell_type": "code",
   "execution_count": 192,
   "metadata": {},
   "outputs": [],
   "source": [
    "# pip install python-dotenv"
   ]
  },
  {
   "cell_type": "code",
   "execution_count": 193,
   "metadata": {},
   "outputs": [],
   "source": [
    "# !pip install openai"
   ]
  },
  {
   "cell_type": "code",
   "execution_count": 194,
   "metadata": {},
   "outputs": [],
   "source": [
    "import os\n",
    "from dotenv import load_dotenv\n",
    "import openai\n",
    "import json\n",
    "import datetime\n",
    "import sys"
   ]
  },
  {
   "cell_type": "code",
   "execution_count": 195,
   "metadata": {},
   "outputs": [],
   "source": [
    "OPENAI_API_KEY = os.environ.get(\"OPENAI_API_KEY\")"
   ]
  },
  {
   "cell_type": "code",
   "execution_count": 196,
   "metadata": {},
   "outputs": [],
   "source": [
    "# import pandas as pd\n",
    "# pd.get_option(\"display.max_columns\")\n",
    "# pd.get_option(\"display.max_colwidth\")\n",
    "# pd.set_option('display.max_columns', 50)\n",
    "# pd.set_option('display.max_colwidth', 100)"
   ]
  },
  {
   "cell_type": "code",
   "execution_count": 197,
   "metadata": {},
   "outputs": [],
   "source": [
    "# \"get_belonging_occupation\" function defined as Function Calling\n",
    "# e.g., industry_answer: [{\"job title\": \"Software Engineer\", \"industry name\": \"Technology\"}, {\"job title\": \"Data Scientist\", \"industry name\": \"Science\"}, {\"job title\": \"Front-end engineer\", \"industry name\": \"To be predicted\"}]\n",
    "\n",
    "def get_belonging_occupation(jobs):\n",
    "    d = {\"Software Engineer\": \"Technology\", \"Data Scientist\": \"Science\"}\n",
    "\n",
    "    # Receives a list of job titles and returns a dict with the corresponding information for each and the industry. However, if there is no specific definition, \"To be predicted\" is stored.\n",
    "    def search_industry(job):\n",
    "        # print(job)\n",
    "        # print(d.get(job, \"To be predicted\"))\n",
    "        return d.get(job, \"To be predicted\")\n",
    "\n",
    "    industry_answer = [\n",
    "        {\"job title\": job.strip(), \"industry name\": search_industry(job.strip())} for job in jobs.split(\",\")\n",
    "    ]\n",
    "    return json.dumps(industry_answer)\n",
    "\n",
    "\n",
    "def get_industry_explanation(industries):\n",
    "    d = {\n",
    "            \"Technology\": \"[Microsoft] is one of the most representative company. The technology industry, often referred to as the tech sector or simply 'tech' encompasses a broad range of companies involved in the design, development, manufacturing, and distribution of technological goods and services. This sector is known for its rapid pace of innovation and its significant impact on other industries and aspects of daily life. \",\n",
    "            \"Science\": \"[NASA] is one of the most representative company. The science industry, often referred to as the scientific sector or research and development (R&D) sector, encompasses a wide range of fields and activities centered on the systematic pursuit of knowledge and the application of scientific research to develop new products, technologies, or processes. This sector plays a crucial role in advancing knowledge, driving innovation, and solving complex problems across various aspects of human life and the environment.\"\n",
    "        }\n",
    "\n",
    "    # Receives a list of job titles and returns a dict with the corresponding information for each and the industry. However, if there is no specific definition, \"To be predicted\" is stored.\n",
    "    def search_explanation(industry):\n",
    "        # print(industries)\n",
    "        # print(d.get(industries, \"To be predicted\"))\n",
    "        return d.get(industry, \"To be predicted\")\n",
    "\n",
    "    industry_explanation = [\n",
    "        {\"industry name\": industry.strip(), \"industry explanation\": search_explanation(industry.strip())} for industry in industries.split(\",\")\n",
    "    ]\n",
    "    return json.dumps(industry_explanation)"
   ]
  },
  {
   "cell_type": "markdown",
   "metadata": {},
   "source": [
    "- 1st step : Provide definition of functions to be used by GPT"
   ]
  },
  {
   "cell_type": "code",
   "execution_count": 198,
   "metadata": {},
   "outputs": [],
   "source": [
    "# 1st step : Provide definition of \"get_belonging_occupation\" function to be used by GPT\n",
    "\n",
    "functions = [\n",
    "    # Whether GPT uses this function for questions,\n",
    "    # Also give information to determine what arguments to use when using it.\n",
    "    {\n",
    "        \"name\": \"get_belonging_occupation\",\n",
    "        \"description\": \"Get the name of the industry that corresponds to the given job title.\",\n",
    "        \"parameters\": {\n",
    "            \"type\": \"object\",\n",
    "            \"properties\": {\n",
    "                # Information about the jobs argument\n",
    "                \"jobs\": {\n",
    "                    \"type\": \"string\",\n",
    "                    \"description\": \"Enter job title. Multiple elements can be entered separated by single-byte commas. e.g., Software Engineer, Data Scientist\",\n",
    "                },\n",
    "            },\n",
    "            \"required\": [\"jobs\"],\n",
    "        },\n",
    "    },\n",
    "\n",
    "    {\n",
    "        \"name\": \"get_industry_explanation\",\n",
    "        \"description\": \"Get the explanation of the given industry.\",\n",
    "        \"parameters\": {\n",
    "            \"type\": \"object\",\n",
    "            \"properties\": {\n",
    "                \"industries\": {\n",
    "                    \"type\": \"string\",\n",
    "                    \"description\": \"Enter industry name. Multiple elements can be entered separated by single-byte commas. e.g., Manufacturing, Technology, Science\",\n",
    "                },\n",
    "            },\n",
    "            \"required\": [\"industries\"],\n",
    "        },\n",
    "    }\n",
    "]"
   ]
  },
  {
   "cell_type": "code",
   "execution_count": 199,
   "metadata": {},
   "outputs": [],
   "source": [
    "# question = \"Please answer industries' name that Software Engineer and Data Scientist belong to.\"\n",
    "question = \"Please describe industries that Software Engineer and Data Scientist belong to.\"\n",
    "# question = \"How many countries are there in the world?\""
   ]
  },
  {
   "cell_type": "markdown",
   "metadata": {},
   "source": [
    "- 2nd step : Pass the function definition and question to GPT to determine which function to call."
   ]
  },
  {
   "cell_type": "code",
   "execution_count": 200,
   "metadata": {},
   "outputs": [
    {
     "name": "stdout",
     "output_type": "stream",
     "text": [
      "ChatCompletion(id='chatcmpl-91XS8kWRqnYEyRtoh3YxvwoJ4DAjR', choices=[Choice(finish_reason='function_call', index=0, logprobs=None, message=ChatCompletionMessage(content=None, role='assistant', function_call=FunctionCall(arguments='{\\n  \"jobs\": \"Software Engineer, Data Scientist\"\\n}', name='get_belonging_occupation'), tool_calls=None))], created=1710153948, model='gpt-4-0613', object='chat.completion', system_fingerprint=None, usage=CompletionUsage(completion_tokens=23, prompt_tokens=148, total_tokens=171))\n",
      "ChatCompletionMessage(content=None, role='assistant', function_call=FunctionCall(arguments='{\\n  \"jobs\": \"Software Engineer, Data Scientist\"\\n}', name='get_belonging_occupation'), tool_calls=None)\n",
      "None\n"
     ]
    }
   ],
   "source": [
    "# 2nd step : Pass the function definition and question to GPT to determine which function to call.\n",
    "from openai import OpenAI\n",
    "client = OpenAI(\n",
    "    # This is the default and can be omitted\n",
    "    api_key=os.environ.get(\"OPENAI_API_KEY\"),\n",
    ")\n",
    "\n",
    "# response = openai.ChatCompletion.create(\n",
    "response = client.chat.completions.create(\n",
    "    model=\"gpt-4\",\n",
    "    messages=[\n",
    "        {\"role\": \"user\", \"content\": question},\n",
    "    ],\n",
    "    functions=functions,\n",
    "    function_call=\"auto\", # \"auto\" or \"get_belonging_occupation\" or \"get_industry_explanation\"\n",
    ")\n",
    "\n",
    "print(response)\n",
    "print(response.choices[0].message)\n",
    "print(response.choices[0].message.content)"
   ]
  },
  {
   "cell_type": "markdown",
   "metadata": {},
   "source": [
    "- 3rd step : Call the function determined to be used by GPT and get the result"
   ]
  },
  {
   "cell_type": "code",
   "execution_count": 201,
   "metadata": {},
   "outputs": [],
   "source": [
    "def execute_function(client, question, functions, message, response):\n",
    "\n",
    "    if message.function_call:\n",
    "\n",
    "        # Function name determined to be used\n",
    "        function_name = message.function_call.name\n",
    "        \n",
    "        # Argument dict determined to be used\n",
    "        arguments = json.loads(message.function_call.arguments)\n",
    "\n",
    "        # 3rd step : Call the function determined to be used by GPT and get the result\n",
    "        if function_name == \"get_belonging_occupation\":\n",
    "            function_response = eval(function_name)(jobs=arguments.get(\"jobs\")) # function_name: get_belonging_occupation, arguments: {'jobs': 'Software Engineer, Data Scientist, Front-end engineer'}\n",
    "        elif function_name == \"get_industry_explanation\":\n",
    "            function_response = eval(function_name)(industries=arguments.get(\"industries\"))\n",
    "        \n",
    "        print(\"function_response: \" + function_response)\n",
    "\n",
    "\n",
    "        response = client.chat.completions.create(\n",
    "            model=\"gpt-4\",\n",
    "            messages=[\n",
    "                {\"role\": \"user\", \"content\": question},\n",
    "                message,\n",
    "                {\n",
    "                    \"role\": \"function\",\n",
    "                    \"name\": function_name,\n",
    "                    \"content\": function_response,\n",
    "                },\n",
    "            ],\n",
    "            functions=functions,\n",
    "            function_call=\"auto\", # \"auto\" or \"get_belonging_occupation\" or \"get_industry_explanation\"\n",
    "        )\n",
    "\n",
    "        print(response)\n",
    "        print(response.choices[0].message)\n",
    "        print(response.choices[0].message.content)\n",
    "\n",
    "        return response\n",
    "    \n",
    "    else:\n",
    "        print(response)\n",
    "        print(response.choices[0].message)\n",
    "        print(response.choices[0].message.content)\n",
    "        \n",
    "        return response"
   ]
  },
  {
   "cell_type": "code",
   "execution_count": 202,
   "metadata": {},
   "outputs": [
    {
     "name": "stdout",
     "output_type": "stream",
     "text": [
      "Retrying...\n",
      "function_response: [{\"job title\": \"Software Engineer\", \"industry name\": \"Technology\"}, {\"job title\": \"Data Scientist\", \"industry name\": \"Science\"}]\n",
      "ChatCompletion(id='chatcmpl-91XSAxCcFpn3YudltXMTk6rMGTPbz', choices=[Choice(finish_reason='function_call', index=0, logprobs=None, message=ChatCompletionMessage(content=None, role='assistant', function_call=FunctionCall(arguments='{\\n  \"industries\": \"Technology, Science\"\\n}', name='get_industry_explanation'), tool_calls=None))], created=1710153950, model='gpt-4-0613', object='chat.completion', system_fingerprint=None, usage=CompletionUsage(completion_tokens=22, prompt_tokens=215, total_tokens=237))\n",
      "ChatCompletionMessage(content=None, role='assistant', function_call=FunctionCall(arguments='{\\n  \"industries\": \"Technology, Science\"\\n}', name='get_industry_explanation'), tool_calls=None)\n",
      "None\n",
      "Retrying...\n",
      "function_response: [{\"industry name\": \"Technology\", \"industry explanation\": \"[Microsoft] is one of the most representative company. The technology industry, often referred to as the tech sector or simply 'tech' encompasses a broad range of companies involved in the design, development, manufacturing, and distribution of technological goods and services. This sector is known for its rapid pace of innovation and its significant impact on other industries and aspects of daily life. \"}, {\"industry name\": \"Science\", \"industry explanation\": \"[NASA] is one of the most representative company. The science industry, often referred to as the scientific sector or research and development (R&D) sector, encompasses a wide range of fields and activities centered on the systematic pursuit of knowledge and the application of scientific research to develop new products, technologies, or processes. This sector plays a crucial role in advancing knowledge, driving innovation, and solving complex problems across various aspects of human life and the environment.\"}]\n",
      "ChatCompletion(id='chatcmpl-91XSBVN1z3B681BzrW6Q5yxP1rYkf', choices=[Choice(finish_reason='stop', index=0, logprobs=None, message=ChatCompletionMessage(content=\"**Technology Industry**:\\nThis industry, often referred to as the tech sector or simply 'tech', encompasses a broad range of companies involved in the design, development, manufacturing, and distribution of technological goods and services. This sector is known for its rapid pace of innovation and its significant impact on other industries and aspects of daily life. Microsoft is one of the most representative companies of this industry.\\n\\n**Science Industry**:\\nThe science industry, often referred to as the scientific sector or research and development (R&D) sector, encompasses a wide range of fields and activities centered on the systematic pursuit of knowledge and the application of scientific research to develop new products, technologies, or processes. This sector plays a crucial role in advancing knowledge, driving innovation, and solving complex problems across various aspects of human life and the environment. NASA is one of the most representative companies of this industry.\", role='assistant', function_call=None, tool_calls=None))], created=1710153951, model='gpt-4-0613', object='chat.completion', system_fingerprint=None, usage=CompletionUsage(completion_tokens=175, prompt_tokens=370, total_tokens=545))\n",
      "ChatCompletionMessage(content=\"**Technology Industry**:\\nThis industry, often referred to as the tech sector or simply 'tech', encompasses a broad range of companies involved in the design, development, manufacturing, and distribution of technological goods and services. This sector is known for its rapid pace of innovation and its significant impact on other industries and aspects of daily life. Microsoft is one of the most representative companies of this industry.\\n\\n**Science Industry**:\\nThe science industry, often referred to as the scientific sector or research and development (R&D) sector, encompasses a wide range of fields and activities centered on the systematic pursuit of knowledge and the application of scientific research to develop new products, technologies, or processes. This sector plays a crucial role in advancing knowledge, driving innovation, and solving complex problems across various aspects of human life and the environment. NASA is one of the most representative companies of this industry.\", role='assistant', function_call=None, tool_calls=None)\n",
      "**Technology Industry**:\n",
      "This industry, often referred to as the tech sector or simply 'tech', encompasses a broad range of companies involved in the design, development, manufacturing, and distribution of technological goods and services. This sector is known for its rapid pace of innovation and its significant impact on other industries and aspects of daily life. Microsoft is one of the most representative companies of this industry.\n",
      "\n",
      "**Science Industry**:\n",
      "The science industry, often referred to as the scientific sector or research and development (R&D) sector, encompasses a wide range of fields and activities centered on the systematic pursuit of knowledge and the application of scientific research to develop new products, technologies, or processes. This sector plays a crucial role in advancing knowledge, driving innovation, and solving complex problems across various aspects of human life and the environment. NASA is one of the most representative companies of this industry.\n"
     ]
    }
   ],
   "source": [
    "for i in range(10): # max retry count\n",
    "    if response.choices[0].finish_reason == \"function_call\":\n",
    "        print(\"Retrying...\")\n",
    "        message = response.choices[0].message\n",
    "        response = execute_function(client, question, functions, message, response)\n",
    "    else:\n",
    "        break"
   ]
  }
 ],
 "metadata": {
  "kernelspec": {
   "display_name": "py3.11.5",
   "language": "python",
   "name": "python3"
  },
  "language_info": {
   "codemirror_mode": {
    "name": "ipython",
    "version": 3
   },
   "file_extension": ".py",
   "mimetype": "text/x-python",
   "name": "python",
   "nbconvert_exporter": "python",
   "pygments_lexer": "ipython3",
   "version": "3.11.5"
  }
 },
 "nbformat": 4,
 "nbformat_minor": 2
}
