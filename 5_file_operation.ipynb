{
 "cells": [
  {
   "cell_type": "code",
   "execution_count": 9,
   "metadata": {},
   "outputs": [],
   "source": [
    "import os\n",
    "import pickle\n",
    "import datetime"
   ]
  },
  {
   "cell_type": "code",
   "execution_count": 2,
   "metadata": {},
   "outputs": [
    {
     "data": {
      "text/plain": [
       "['.git', '_sample_execute_py_from_sh', 'data', 'images', 'log']"
      ]
     },
     "execution_count": 2,
     "metadata": {},
     "output_type": "execute_result"
    }
   ],
   "source": [
    "dir_path = \".\"\n",
    "dirs = [\n",
    "    f for f in os.listdir(dir_path) if os.path.isdir(os.path.join(dir_path, f))\n",
    "]\n",
    "dirs.sort()\n",
    "dirs"
   ]
  },
  {
   "cell_type": "code",
   "execution_count": 4,
   "metadata": {},
   "outputs": [
    {
     "name": "stdout",
     "output_type": "stream",
     "text": [
      "<class 'list'>\n"
     ]
    }
   ],
   "source": [
    "print(type(dirs))"
   ]
  },
  {
   "cell_type": "code",
   "execution_count": 3,
   "metadata": {},
   "outputs": [
    {
     "name": "stdout",
     "output_type": "stream",
     "text": [
      "20240103213650\n"
     ]
    }
   ],
   "source": [
    "d = datetime.datetime.now()\n",
    "f = '%Y%m%d%H%M%S'\n",
    "strdatetime = d.strftime(f)\n",
    "print(strdatetime)"
   ]
  },
  {
   "cell_type": "code",
   "execution_count": 7,
   "metadata": {},
   "outputs": [
    {
     "name": "stdout",
     "output_type": "stream",
     "text": [
      "_sample_execute_py_from_sh\n",
      "data\n",
      "images\n",
      "log\n",
      "Directory './log/20240103213650' created\n"
     ]
    }
   ],
   "source": [
    "if \".git\" in dirs:\n",
    "    dirs.remove(\".git\")\n",
    "\n",
    "for dir in dirs:\n",
    "    print(dir)\n",
    "\n",
    "# Specify the directory path\n",
    "directory = f\"./log/{strdatetime}\"\n",
    "# Create the directory\n",
    "os.mkdir(directory)\n",
    "print(\"Directory '% s' created\" % directory)"
   ]
  },
  {
   "cell_type": "code",
   "execution_count": 10,
   "metadata": {},
   "outputs": [],
   "source": [
    "with open(f'./log/{strdatetime}/dirs.pkl', 'wb') as f:\n",
    "\tpickle.dump(dirs, f)\n",
    "\n",
    "# 'w' : Open the file for writing. If the file already exists, it will be overwritten.\n",
    "# 'r' : Open for reading.\n",
    "# 'x' : Used to write a new file. If it already exists, an error occurs.\n",
    "# 'a' : Open for writing. If it already exists, it is added to the last line.\n",
    "# 'b' : Open in binary mode."
   ]
  },
  {
   "cell_type": "code",
   "execution_count": 11,
   "metadata": {},
   "outputs": [],
   "source": [
    "with open(f'./log/{strdatetime}/dirs.pkl', 'rb') as f:\n",
    "\tdirs = pickle.load(f)"
   ]
  },
  {
   "cell_type": "code",
   "execution_count": 12,
   "metadata": {},
   "outputs": [
    {
     "data": {
      "text/plain": [
       "['_sample_execute_py_from_sh', 'data', 'images', 'log']"
      ]
     },
     "execution_count": 12,
     "metadata": {},
     "output_type": "execute_result"
    }
   ],
   "source": [
    "dirs"
   ]
  }
 ],
 "metadata": {
  "kernelspec": {
   "display_name": "py3.11.5",
   "language": "python",
   "name": "python3"
  },
  "language_info": {
   "codemirror_mode": {
    "name": "ipython",
    "version": 3
   },
   "file_extension": ".py",
   "mimetype": "text/x-python",
   "name": "python",
   "nbconvert_exporter": "python",
   "pygments_lexer": "ipython3",
   "version": "3.11.5"
  }
 },
 "nbformat": 4,
 "nbformat_minor": 2
}
