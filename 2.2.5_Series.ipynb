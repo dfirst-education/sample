{
 "cells": [
  {
   "cell_type": "markdown",
   "metadata": {},
   "source": [
    "# create sample dataframe"
   ]
  },
  {
   "cell_type": "code",
   "execution_count": 2,
   "metadata": {},
   "outputs": [
    {
     "data": {
      "text/html": [
       "<div>\n",
       "<style scoped>\n",
       "    .dataframe tbody tr th:only-of-type {\n",
       "        vertical-align: middle;\n",
       "    }\n",
       "\n",
       "    .dataframe tbody tr th {\n",
       "        vertical-align: top;\n",
       "    }\n",
       "\n",
       "    .dataframe thead th {\n",
       "        text-align: right;\n",
       "    }\n",
       "</style>\n",
       "<table border=\"1\" class=\"dataframe\">\n",
       "  <thead>\n",
       "    <tr style=\"text-align: right;\">\n",
       "      <th></th>\n",
       "      <th>title</th>\n",
       "      <th>company</th>\n",
       "      <th>qualification</th>\n",
       "    </tr>\n",
       "  </thead>\n",
       "  <tbody>\n",
       "    <tr>\n",
       "      <th>0</th>\n",
       "      <td>Business Operations Analyst</td>\n",
       "      <td>Administration &amp; Human Resources Technology</td>\n",
       "      <td>master's degree</td>\n",
       "    </tr>\n",
       "    <tr>\n",
       "      <th>1</th>\n",
       "      <td>Executive Program Manager</td>\n",
       "      <td>Communications &amp; Intergovernmental Affairs Eng...</td>\n",
       "      <td>bachelor's degree</td>\n",
       "    </tr>\n",
       "    <tr>\n",
       "      <th>2</th>\n",
       "      <td>Analyst  Energy Efficiency and Modernization</td>\n",
       "      <td>Finance, Accounting, &amp; Procurement Policy, Res...</td>\n",
       "      <td>bachelor's degree</td>\n",
       "    </tr>\n",
       "  </tbody>\n",
       "</table>\n",
       "</div>"
      ],
      "text/plain": [
       "                                          title  \\\n",
       "0                   Business Operations Analyst   \n",
       "1                     Executive Program Manager   \n",
       "2  Analyst  Energy Efficiency and Modernization   \n",
       "\n",
       "                                             company      qualification  \n",
       "0        Administration & Human Resources Technology    master's degree  \n",
       "1  Communications & Intergovernmental Affairs Eng...  bachelor's degree  \n",
       "2  Finance, Accounting, & Procurement Policy, Res...  bachelor's degree  "
      ]
     },
     "execution_count": 2,
     "metadata": {},
     "output_type": "execute_result"
    }
   ],
   "source": [
    "import pandas as pd\n",
    "df = pd.DataFrame(columns=[\"title\", \"company\", \"qualification\"])\n",
    "\n",
    "responses = [\n",
    "            [\"Business Operations Analyst\", \"Administration & Human Resources Technology\", \"master's degree\"],\n",
    "            [\"Executive Program Manager\", \"Communications & Intergovernmental Affairs Engineering, Architecture, & Planning\", \"bachelor's degree\"],\n",
    "            [\"Analyst  Energy Efficiency and Modernization\", \"Finance, Accounting, & Procurement Policy, Research & Analysis\", \"bachelor's degree\"]\n",
    "            ]\n",
    "\n",
    "i = 0\n",
    "for response_item in responses:\n",
    "    df.loc[i] = [response_item[0], response_item[1], response_item[2]]\n",
    "    i+=1\n",
    "df[0:3]"
   ]
  },
  {
   "cell_type": "markdown",
   "metadata": {},
   "source": [
    "# create series and insert into dataframe"
   ]
  },
  {
   "cell_type": "code",
   "execution_count": 9,
   "metadata": {},
   "outputs": [
    {
     "name": "stdout",
     "output_type": "stream",
     "text": [
      "<class 'pandas.core.series.Series'>\n"
     ]
    }
   ],
   "source": [
    "series = pd.Series([\"Data Scientist\", \"DataCamp\", \"bachelor's degree\"], index=[\"title\", \"company\", \"qualification\"])\n",
    "print(type(series))"
   ]
  },
  {
   "cell_type": "code",
   "execution_count": 5,
   "metadata": {},
   "outputs": [
    {
     "data": {
      "text/html": [
       "<div>\n",
       "<style scoped>\n",
       "    .dataframe tbody tr th:only-of-type {\n",
       "        vertical-align: middle;\n",
       "    }\n",
       "\n",
       "    .dataframe tbody tr th {\n",
       "        vertical-align: top;\n",
       "    }\n",
       "\n",
       "    .dataframe thead th {\n",
       "        text-align: right;\n",
       "    }\n",
       "</style>\n",
       "<table border=\"1\" class=\"dataframe\">\n",
       "  <thead>\n",
       "    <tr style=\"text-align: right;\">\n",
       "      <th></th>\n",
       "      <th>title</th>\n",
       "      <th>company</th>\n",
       "      <th>qualification</th>\n",
       "    </tr>\n",
       "  </thead>\n",
       "  <tbody>\n",
       "    <tr>\n",
       "      <th>0</th>\n",
       "      <td>Business Operations Analyst</td>\n",
       "      <td>Administration &amp; Human Resources Technology</td>\n",
       "      <td>master's degree</td>\n",
       "    </tr>\n",
       "    <tr>\n",
       "      <th>1</th>\n",
       "      <td>Executive Program Manager</td>\n",
       "      <td>Communications &amp; Intergovernmental Affairs Eng...</td>\n",
       "      <td>bachelor's degree</td>\n",
       "    </tr>\n",
       "    <tr>\n",
       "      <th>2</th>\n",
       "      <td>Analyst  Energy Efficiency and Modernization</td>\n",
       "      <td>Finance, Accounting, &amp; Procurement Policy, Res...</td>\n",
       "      <td>bachelor's degree</td>\n",
       "    </tr>\n",
       "    <tr>\n",
       "      <th>3</th>\n",
       "      <td>Data Scientist</td>\n",
       "      <td>DataCamp</td>\n",
       "      <td>bachelor's degree</td>\n",
       "    </tr>\n",
       "  </tbody>\n",
       "</table>\n",
       "</div>"
      ],
      "text/plain": [
       "                                          title  \\\n",
       "0                   Business Operations Analyst   \n",
       "1                     Executive Program Manager   \n",
       "2  Analyst  Energy Efficiency and Modernization   \n",
       "3                                Data Scientist   \n",
       "\n",
       "                                             company      qualification  \n",
       "0        Administration & Human Resources Technology    master's degree  \n",
       "1  Communications & Intergovernmental Affairs Eng...  bachelor's degree  \n",
       "2  Finance, Accounting, & Procurement Policy, Res...  bachelor's degree  \n",
       "3                                           DataCamp  bachelor's degree  "
      ]
     },
     "execution_count": 5,
     "metadata": {},
     "output_type": "execute_result"
    }
   ],
   "source": [
    "df.loc[len(df)] = series\n",
    "df[0:len(df)]"
   ]
  },
  {
   "cell_type": "markdown",
   "metadata": {},
   "source": [
    "# create series and insert into specified columns of dataframe"
   ]
  },
  {
   "cell_type": "code",
   "execution_count": 7,
   "metadata": {},
   "outputs": [],
   "source": [
    "series2 = pd.Series([\"Data Engineer\", \"TechSoft\", \"bachelor's degree\"], index=[\"title\", \"company\", \"qualification\"])"
   ]
  },
  {
   "cell_type": "code",
   "execution_count": 8,
   "metadata": {},
   "outputs": [
    {
     "data": {
      "text/html": [
       "<div>\n",
       "<style scoped>\n",
       "    .dataframe tbody tr th:only-of-type {\n",
       "        vertical-align: middle;\n",
       "    }\n",
       "\n",
       "    .dataframe tbody tr th {\n",
       "        vertical-align: top;\n",
       "    }\n",
       "\n",
       "    .dataframe thead th {\n",
       "        text-align: right;\n",
       "    }\n",
       "</style>\n",
       "<table border=\"1\" class=\"dataframe\">\n",
       "  <thead>\n",
       "    <tr style=\"text-align: right;\">\n",
       "      <th></th>\n",
       "      <th>title</th>\n",
       "      <th>company</th>\n",
       "      <th>qualification</th>\n",
       "    </tr>\n",
       "  </thead>\n",
       "  <tbody>\n",
       "    <tr>\n",
       "      <th>0</th>\n",
       "      <td>Business Operations Analyst</td>\n",
       "      <td>Administration &amp; Human Resources Technology</td>\n",
       "      <td>master's degree</td>\n",
       "    </tr>\n",
       "    <tr>\n",
       "      <th>1</th>\n",
       "      <td>Executive Program Manager</td>\n",
       "      <td>Communications &amp; Intergovernmental Affairs Eng...</td>\n",
       "      <td>bachelor's degree</td>\n",
       "    </tr>\n",
       "    <tr>\n",
       "      <th>2</th>\n",
       "      <td>Analyst  Energy Efficiency and Modernization</td>\n",
       "      <td>Finance, Accounting, &amp; Procurement Policy, Res...</td>\n",
       "      <td>bachelor's degree</td>\n",
       "    </tr>\n",
       "    <tr>\n",
       "      <th>3</th>\n",
       "      <td>Data Scientist</td>\n",
       "      <td>DataCamp</td>\n",
       "      <td>bachelor's degree</td>\n",
       "    </tr>\n",
       "    <tr>\n",
       "      <th>4</th>\n",
       "      <td>Data Engineer</td>\n",
       "      <td>TechSoft</td>\n",
       "      <td>NaN</td>\n",
       "    </tr>\n",
       "  </tbody>\n",
       "</table>\n",
       "</div>"
      ],
      "text/plain": [
       "                                          title  \\\n",
       "0                   Business Operations Analyst   \n",
       "1                     Executive Program Manager   \n",
       "2  Analyst  Energy Efficiency and Modernization   \n",
       "3                                Data Scientist   \n",
       "4                                 Data Engineer   \n",
       "\n",
       "                                             company      qualification  \n",
       "0        Administration & Human Resources Technology    master's degree  \n",
       "1  Communications & Intergovernmental Affairs Eng...  bachelor's degree  \n",
       "2  Finance, Accounting, & Procurement Policy, Res...  bachelor's degree  \n",
       "3                                           DataCamp  bachelor's degree  \n",
       "4                                           TechSoft                NaN  "
      ]
     },
     "execution_count": 8,
     "metadata": {},
     "output_type": "execute_result"
    }
   ],
   "source": [
    "df.loc[len(df), [\"title\", \"company\"]] = series2[[\"title\", \"company\"]]\n",
    "df[0:len(df)]"
   ]
  }
 ],
 "metadata": {
  "kernelspec": {
   "display_name": "py3.11.5",
   "language": "python",
   "name": "python3"
  },
  "language_info": {
   "codemirror_mode": {
    "name": "ipython",
    "version": 3
   },
   "file_extension": ".py",
   "mimetype": "text/x-python",
   "name": "python",
   "nbconvert_exporter": "python",
   "pygments_lexer": "ipython3",
   "version": "3.11.5"
  }
 },
 "nbformat": 4,
 "nbformat_minor": 2
}
