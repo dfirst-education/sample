{
 "cells": [
  {
   "cell_type": "code",
   "execution_count": 31,
   "metadata": {},
   "outputs": [],
   "source": [
    "import os\n",
    "import openai\n",
    "openai.api_type = \"azure\"\n",
    "openai.api_base = \"https://<instance_name>.openai.azure.com/\"\n",
    "openai.api_version = \"2023-07-01-preview\"\n",
    "openai.api_key = os.getenv(\"Azure_OPENAI_API_KEY\")"
   ]
  },
  {
   "cell_type": "code",
   "execution_count": 16,
   "metadata": {},
   "outputs": [],
   "source": [
    "import numpy as np\n",
    "import pandas as pd\n",
    "import pickle\n",
    "import tiktoken\n",
    "import time\n",
    "\n",
    "COMPLETIONS_MODEL = \"gpt4\"\n",
    "EMBEDDING_MODEL = \"text-embedding-ada-002\"  # dimension number 1536"
   ]
  },
  {
   "cell_type": "code",
   "execution_count": 17,
   "metadata": {},
   "outputs": [],
   "source": [
    "pd.get_option(\"display.max_columns\")\n",
    "pd.get_option(\"display.max_colwidth\")\n",
    "pd.set_option('display.max_columns', 50)\n",
    "pd.set_option('display.max_colwidth', 100)"
   ]
  },
  {
   "cell_type": "code",
   "execution_count": 18,
   "metadata": {},
   "outputs": [
    {
     "data": {
      "text/html": [
       "<div>\n",
       "<style scoped>\n",
       "    .dataframe tbody tr th:only-of-type {\n",
       "        vertical-align: middle;\n",
       "    }\n",
       "\n",
       "    .dataframe tbody tr th {\n",
       "        vertical-align: top;\n",
       "    }\n",
       "\n",
       "    .dataframe thead th {\n",
       "        text-align: right;\n",
       "    }\n",
       "</style>\n",
       "<table border=\"1\" class=\"dataframe\">\n",
       "  <thead>\n",
       "    <tr style=\"text-align: right;\">\n",
       "      <th></th>\n",
       "      <th>Job ID</th>\n",
       "      <th>Agency</th>\n",
       "      <th>Posting Type</th>\n",
       "      <th># Of Positions</th>\n",
       "      <th>Business Title</th>\n",
       "      <th>Civil Service Title</th>\n",
       "      <th>Title Classification</th>\n",
       "      <th>Title Code No</th>\n",
       "      <th>Level</th>\n",
       "      <th>Job Category</th>\n",
       "      <th>Full-Time/Part-Time indicator</th>\n",
       "      <th>Career Level</th>\n",
       "      <th>Salary Range From</th>\n",
       "      <th>Salary Range To</th>\n",
       "      <th>Salary Frequency</th>\n",
       "      <th>Work Location</th>\n",
       "      <th>Division/Work Unit</th>\n",
       "      <th>Job Description</th>\n",
       "      <th>Minimum Qual Requirements</th>\n",
       "      <th>Preferred Skills</th>\n",
       "      <th>Additional Information</th>\n",
       "      <th>To Apply</th>\n",
       "      <th>Hours/Shift</th>\n",
       "      <th>Work Location 1</th>\n",
       "      <th>Recruitment Contact</th>\n",
       "      <th>Residency Requirement</th>\n",
       "      <th>Posting Date</th>\n",
       "      <th>Post Until</th>\n",
       "      <th>Posting Updated</th>\n",
       "      <th>Process Date</th>\n",
       "    </tr>\n",
       "  </thead>\n",
       "  <tbody>\n",
       "    <tr>\n",
       "      <th>0</th>\n",
       "      <td>606346</td>\n",
       "      <td>DEPARTMENT FOR THE AGING</td>\n",
       "      <td>External</td>\n",
       "      <td>1</td>\n",
       "      <td>Business Operations Analyst</td>\n",
       "      <td>ASSOCIATE STAFF ANALYST</td>\n",
       "      <td>Competitive-1</td>\n",
       "      <td>12627</td>\n",
       "      <td>00</td>\n",
       "      <td>Administration &amp; Human Resources Technology, Data &amp; Innovation Policy, Research &amp; Analysis</td>\n",
       "      <td>F</td>\n",
       "      <td>Experienced (non-manager)</td>\n",
       "      <td>70611.0</td>\n",
       "      <td>81203.0</td>\n",
       "      <td>Annual</td>\n",
       "      <td>2 Lafayette St., N.Y.</td>\n",
       "      <td>Human Resources</td>\n",
       "      <td>The Office of Human Resources (OHR) seeks a highly motivated individual to serve as a Business O...</td>\n",
       "      <td>1. A masterâs degree from an accredited college or university, accredited by regional, nationa...</td>\n",
       "      <td>â¢ Project management experience and expertise is a plus. â¢ Self-starter; works independently...</td>\n",
       "      <td>NaN</td>\n",
       "      <td>Please be sure to submit a resume &amp; cover letter when applying. All current City Employees may a...</td>\n",
       "      <td>NaN</td>\n",
       "      <td>NaN</td>\n",
       "      <td>NaN</td>\n",
       "      <td>New York City residency is generally required within 90 days of appointment. However, City Emplo...</td>\n",
       "      <td>09/28/2023</td>\n",
       "      <td>27-DEC-2023</td>\n",
       "      <td>09/29/2023</td>\n",
       "      <td>11/20/2023</td>\n",
       "    </tr>\n",
       "    <tr>\n",
       "      <th>1</th>\n",
       "      <td>571361</td>\n",
       "      <td>DEPT OF ENVIRONMENT PROTECTION</td>\n",
       "      <td>External</td>\n",
       "      <td>1</td>\n",
       "      <td>Executive Program Manager</td>\n",
       "      <td>ADMINISTRATIVE CONSTRUCTION PR</td>\n",
       "      <td>Competitive-1</td>\n",
       "      <td>82991</td>\n",
       "      <td>M3</td>\n",
       "      <td>Communications &amp; Intergovernmental Affairs Engineering, Architecture, &amp; Planning</td>\n",
       "      <td>F</td>\n",
       "      <td>Manager</td>\n",
       "      <td>72038.0</td>\n",
       "      <td>192152.0</td>\n",
       "      <td>Annual</td>\n",
       "      <td>96-05 Horace Harding Expway</td>\n",
       "      <td>BEDC EXEC / ADMINISTRATION</td>\n",
       "      <td>The NYC Department of Environmental Protection (DEP) provides more than a billion gallons of hig...</td>\n",
       "      <td>At least six years of full-time satisfactory experience in construction management work on capit...</td>\n",
       "      <td>â¢\\tPrior project management, construction management and/or engineering coursework or experien...</td>\n",
       "      <td>DEP is an equal opportunity employer with a strong commitment to the diversity of our organizati...</td>\n",
       "      <td>To apply click Apply Now</td>\n",
       "      <td>NaN</td>\n",
       "      <td>NaN</td>\n",
       "      <td>NaN</td>\n",
       "      <td>New York City Residency is not required for this position</td>\n",
       "      <td>01/30/2023</td>\n",
       "      <td>NaN</td>\n",
       "      <td>01/30/2023</td>\n",
       "      <td>11/20/2023</td>\n",
       "    </tr>\n",
       "  </tbody>\n",
       "</table>\n",
       "</div>"
      ],
      "text/plain": [
       "   Job ID                          Agency Posting Type  # Of Positions  \\\n",
       "0  606346        DEPARTMENT FOR THE AGING     External               1   \n",
       "1  571361  DEPT OF ENVIRONMENT PROTECTION     External               1   \n",
       "\n",
       "                Business Title             Civil Service Title  \\\n",
       "0  Business Operations Analyst         ASSOCIATE STAFF ANALYST   \n",
       "1    Executive Program Manager  ADMINISTRATIVE CONSTRUCTION PR   \n",
       "\n",
       "  Title Classification Title Code No Level  \\\n",
       "0        Competitive-1         12627    00   \n",
       "1        Competitive-1         82991    M3   \n",
       "\n",
       "                                                                                 Job Category  \\\n",
       "0  Administration & Human Resources Technology, Data & Innovation Policy, Research & Analysis   \n",
       "1            Communications & Intergovernmental Affairs Engineering, Architecture, & Planning   \n",
       "\n",
       "  Full-Time/Part-Time indicator               Career Level  Salary Range From  \\\n",
       "0                             F  Experienced (non-manager)            70611.0   \n",
       "1                             F                    Manager            72038.0   \n",
       "\n",
       "   Salary Range To Salary Frequency                Work Location  \\\n",
       "0          81203.0           Annual        2 Lafayette St., N.Y.   \n",
       "1         192152.0           Annual  96-05 Horace Harding Expway   \n",
       "\n",
       "           Division/Work Unit  \\\n",
       "0             Human Resources   \n",
       "1  BEDC EXEC / ADMINISTRATION   \n",
       "\n",
       "                                                                                       Job Description  \\\n",
       "0  The Office of Human Resources (OHR) seeks a highly motivated individual to serve as a Business O...   \n",
       "1  The NYC Department of Environmental Protection (DEP) provides more than a billion gallons of hig...   \n",
       "\n",
       "                                                                             Minimum Qual Requirements  \\\n",
       "0  1. A masterâs degree from an accredited college or university, accredited by regional, nationa...   \n",
       "1  At least six years of full-time satisfactory experience in construction management work on capit...   \n",
       "\n",
       "                                                                                      Preferred Skills  \\\n",
       "0  â¢ Project management experience and expertise is a plus. â¢ Self-starter; works independently...   \n",
       "1  â¢\\tPrior project management, construction management and/or engineering coursework or experien...   \n",
       "\n",
       "                                                                                Additional Information  \\\n",
       "0                                                                                                  NaN   \n",
       "1  DEP is an equal opportunity employer with a strong commitment to the diversity of our organizati...   \n",
       "\n",
       "                                                                                              To Apply  \\\n",
       "0  Please be sure to submit a resume & cover letter when applying. All current City Employees may a...   \n",
       "1                                                                             To apply click Apply Now   \n",
       "\n",
       "  Hours/Shift Work Location 1  Recruitment Contact  \\\n",
       "0         NaN             NaN                  NaN   \n",
       "1         NaN             NaN                  NaN   \n",
       "\n",
       "                                                                                 Residency Requirement  \\\n",
       "0  New York City residency is generally required within 90 days of appointment. However, City Emplo...   \n",
       "1                                            New York City Residency is not required for this position   \n",
       "\n",
       "  Posting Date   Post Until Posting Updated Process Date  \n",
       "0   09/28/2023  27-DEC-2023      09/29/2023   11/20/2023  \n",
       "1   01/30/2023          NaN      01/30/2023   11/20/2023  "
      ]
     },
     "execution_count": 18,
     "metadata": {},
     "output_type": "execute_result"
    }
   ],
   "source": [
    "df = pd.read_csv('./data/Jobs_NYC_Postings.csv', header=0)\n",
    "df [0:2]"
   ]
  },
  {
   "cell_type": "code",
   "execution_count": 22,
   "metadata": {},
   "outputs": [
    {
     "name": "stdout",
     "output_type": "stream",
     "text": [
      "(50, 30)\n"
     ]
    },
    {
     "data": {
      "text/plain": [
       "jobid                              int64\n",
       "Agency                            object\n",
       "Posting Type                      object\n",
       "# Of Positions                     int64\n",
       "Business Title                    object\n",
       "Civil Service Title               object\n",
       "Title Classification              object\n",
       "Title Code No                     object\n",
       "Level                             object\n",
       "Job Category                      object\n",
       "Full-Time/Part-Time indicator     object\n",
       "Career Level                      object\n",
       "Salary Range From                float64\n",
       "Salary Range To                  float64\n",
       "Salary Frequency                  object\n",
       "Work Location                     object\n",
       "Division/Work Unit                object\n",
       "jobdescription                    object\n",
       "Minimum Qual Requirements         object\n",
       "Preferred Skills                  object\n",
       "Additional Information            object\n",
       "To Apply                          object\n",
       "Hours/Shift                       object\n",
       "Work Location 1                   object\n",
       "Recruitment Contact              float64\n",
       "Residency Requirement             object\n",
       "Posting Date                      object\n",
       "Post Until                        object\n",
       "Posting Updated                   object\n",
       "Process Date                      object\n",
       "dtype: object"
      ]
     },
     "execution_count": 22,
     "metadata": {},
     "output_type": "execute_result"
    }
   ],
   "source": [
    "df = df[0:50]\n",
    "df = df.rename(columns={'Job ID': 'jobid'})\n",
    "df = df.rename(columns={'Job Description': 'jobdescription'})\n",
    "print(df.shape)\n",
    "df.dtypes"
   ]
  },
  {
   "cell_type": "code",
   "execution_count": 23,
   "metadata": {},
   "outputs": [],
   "source": [
    "def get_embedding(text: str, model: str=EMBEDDING_MODEL) -> list[float]:\n",
    "    result = openai.Embedding.create(\n",
    "      engine=model,\n",
    "      input=text\n",
    "    )\n",
    "    return result[\"data\"][0][\"embedding\"]\n",
    "\n",
    "def compute_doc_embeddings(df: pd.DataFrame) -> dict[tuple[int, int], list[float]]:\n",
    "    return {\n",
    "        (idx, r.jobid): get_embedding(r.jobdescription) for idx, r in df.iterrows() # need to change based on specified dataframe\n",
    "    }"
   ]
  },
  {
   "cell_type": "code",
   "execution_count": null,
   "metadata": {},
   "outputs": [],
   "source": [
    "document_embeddings = compute_doc_embeddings(df)\n",
    "document_embeddings"
   ]
  },
  {
   "cell_type": "code",
   "execution_count": 25,
   "metadata": {},
   "outputs": [],
   "source": [
    "with open(f'./data/document_embeddings.pkl', 'wb') as f:\n",
    "\tpickle.dump(document_embeddings, f)"
   ]
  },
  {
   "cell_type": "code",
   "execution_count": 26,
   "metadata": {},
   "outputs": [],
   "source": [
    "with open(f'./data/document_embeddings.pkl', 'rb') as f:\n",
    "\tdocument_embeddings = pickle.load(f)"
   ]
  },
  {
   "cell_type": "code",
   "execution_count": 27,
   "metadata": {},
   "outputs": [
    {
     "name": "stdout",
     "output_type": "stream",
     "text": [
      "<class 'dict'>\n"
     ]
    }
   ],
   "source": [
    "print(type(document_embeddings))"
   ]
  },
  {
   "cell_type": "code",
   "execution_count": 28,
   "metadata": {},
   "outputs": [
    {
     "name": "stdout",
     "output_type": "stream",
     "text": [
      "(0, 606346) : [-0.03465575724840164, -0.008060249499976635, 8.603404421592131e-05, -0.03531914949417114, -0.02357705868780613]... (1536 entries)\n"
     ]
    }
   ],
   "source": [
    "# An example embedding:\n",
    "example_entry = list(document_embeddings.items())[0]\n",
    "print(f\"{example_entry[0]} : {example_entry[1][:5]}... ({len(example_entry[1])} entries)\")"
   ]
  },
  {
   "cell_type": "code",
   "execution_count": 29,
   "metadata": {},
   "outputs": [],
   "source": [
    "def vector_similarity(x: list[float], y: list[float]) -> float:\n",
    "\n",
    "    # return np.dot(np.array(x), np.array(y))\n",
    "    return np.dot(x, y) / (np.linalg.norm(x) * np.linalg.norm(y))\n",
    "\n",
    "def order_document_sections_by_query_similarity(query: str, contexts: dict[(int, int), np.array]) -> list[(float, (int, int))]:\n",
    "\n",
    "    query_embedding = get_embedding(query)\n",
    "    \n",
    "    document_similarities = sorted([\n",
    "        (vector_similarity(query_embedding, doc_embedding), doc_index) for doc_index, doc_embedding in contexts.items()\n",
    "    ], reverse=True)\n",
    "    \n",
    "    return document_similarities"
   ]
  },
  {
   "cell_type": "code",
   "execution_count": 32,
   "metadata": {},
   "outputs": [
    {
     "data": {
      "text/plain": [
       "[(0.7955112260655106, (48, 552760)),\n",
       " (0.7919317851392924, (9, 552150)),\n",
       " (0.785408478935627, (20, 586358)),\n",
       " (0.7719230240141587, (42, 592944)),\n",
       " (0.7686674075723999, (14, 580562)),\n",
       " (0.7626958212180587, (46, 540899)),\n",
       " (0.7615506327336289, (6, 607141)),\n",
       " (0.759859156472747, (45, 527822)),\n",
       " (0.7565934921278077, (49, 602605)),\n",
       " (0.7497808357080238, (1, 571361)),\n",
       " (0.7463601386311924, (21, 610644)),\n",
       " (0.7460265763199324, (11, 567454)),\n",
       " (0.7397287681060001, (18, 615111)),\n",
       " (0.7394017546697347, (0, 606346)),\n",
       " (0.7381278053608447, (39, 571499)),\n",
       " (0.7369675596521301, (8, 572055)),\n",
       " (0.7364282673347158, (29, 527762)),\n",
       " (0.7364000826289051, (47, 534244)),\n",
       " (0.736113721229946, (15, 582062)),\n",
       " (0.7346991727005303, (40, 573794))]"
      ]
     },
     "execution_count": 32,
     "metadata": {},
     "output_type": "execute_result"
    }
   ],
   "source": [
    "most_relevant_document_sections = order_document_sections_by_query_similarity(\"system engineer is ...\", document_embeddings)\n",
    "most_relevant_document_sections[0:20]"
   ]
  },
  {
   "cell_type": "code",
   "execution_count": 33,
   "metadata": {},
   "outputs": [
    {
     "name": "stdout",
     "output_type": "stream",
     "text": [
      "<class 'list'>\n"
     ]
    }
   ],
   "source": [
    "print(type(most_relevant_document_sections))"
   ]
  },
  {
   "cell_type": "code",
   "execution_count": 34,
   "metadata": {},
   "outputs": [
    {
     "name": "stdout",
     "output_type": "stream",
     "text": [
      "(48, 552760)\n",
      "48\n"
     ]
    }
   ],
   "source": [
    "print(most_relevant_document_sections[0][1])\n",
    "print(most_relevant_document_sections[0][1][0])"
   ]
  },
  {
   "cell_type": "code",
   "execution_count": 35,
   "metadata": {},
   "outputs": [
    {
     "data": {
      "text/plain": [
       "'***IMPORTANT NOTE: Only those currently serving as a permanent Mechanical Engineer Intern will be considered.  The New York City Department of Environmental Protection (DEP) protects public health and the environment by supplying clean drinking water, collecting and treating wastewater, and reducing air, noise, and hazardous materials pollution. DEP is the largest combined municipal water and wastewater utility in the country, with nearly 6,000 employees. We deliver 1.1 billion gallons of high quality drinking water per day to 8.5 million New York City residents and more than 1 million people in Upstate New York, and we collect and treat an average of 1.3 billion gallons of wastewater per day.  The Bureau of Wastewater Treatment is responsible for the operation and maintenance of all facilities related to the treatment of sewage, including wastewater treatment plants, collections facilities (pumping stations, combined sewer overflow retention facilities, regulators, tide gates), wastewater laboratories, harbor vessels and sludge dewatering facilities.  Under direct supervision of the Area Engineer, the selected candidate will assist in the preparation of contract specifications, assist in research, investigations, studies or examinations related to the Mechanical Engineering functions of the work unit. The selected candidate will also assist in the preparation of plans, drawings, specifications and estimates of quantities for JOC, Capital or expense contracts, and should also be able to make traces, ink and letter drawings of acceptable standard quality and perform advanced mathematical calculations. The selected candidate will be expected to participate in routine inspection operations by observing, checking and certifying the receipt or installation of materials or equipment and by attesting to the performance and results of tests and materials and equipment in a laboratory, manufacturerâ\\x80\\x99s plant or at a job site. The selected candidate will inspect premises and the construction, demolition or alteration of structures in connection with the issuance of certificates-of-occupancy or other requisite or pertinent permits in compliance with provisions, laws, rules or regulations. The selected candidate will also attend meetings with other engineers, contractors and plant operators, assist with the preparation of change orders and prepare reports, letters, memos and similar correspondence and assist with the review and processing of payments as required. The candidate shall also be willing to work additional overtime hours during emergencies as directed by the Area Engineer and/or the Section Chief.'"
      ]
     },
     "execution_count": 35,
     "metadata": {},
     "output_type": "execute_result"
    }
   ],
   "source": [
    "df.loc[48, \"jobdescription\"]"
   ]
  },
  {
   "cell_type": "code",
   "execution_count": 36,
   "metadata": {},
   "outputs": [
    {
     "data": {
      "text/plain": [
       "'***IMPORTANT NOTE: Only those currently serving as a permanent Mechanical Engineer Intern will be considered.  The New York City Department of Environmental Protection (DEP) protects public health and the environment by supplying clean drinking water, collecting and treating wastewater, and reducing air, noise, and hazardous materials pollution. DEP is the largest combined municipal water and wastewater utility in the country, with nearly 6,000 employees. We deliver 1.1 billion gallons of high quality drinking water per day to 8.5 million New York City residents and more than 1 million people in Upstate New York, and we collect and treat an average of 1.3 billion gallons of wastewater per day.  The Bureau of Wastewater Treatment is responsible for the operation and maintenance of all facilities related to the treatment of sewage, including wastewater treatment plants, collections facilities (pumping stations, combined sewer overflow retention facilities, regulators, tide gates), wastewater laboratories, harbor vessels and sludge dewatering facilities.  Under direct supervision of the Area Engineer, the selected candidate will assist in the preparation of contract specifications, assist in research, investigations, studies or examinations related to the Mechanical Engineering functions of the work unit. The selected candidate will also assist in the preparation of plans, drawings, specifications and estimates of quantities for JOC, Capital or expense contracts, and should also be able to make traces, ink and letter drawings of acceptable standard quality and perform advanced mathematical calculations. The selected candidate will be expected to participate in routine inspection operations by observing, checking and certifying the receipt or installation of materials or equipment and by attesting to the performance and results of tests and materials and equipment in a laboratory, manufacturerâ\\x80\\x99s plant or at a job site. The selected candidate will inspect premises and the construction, demolition or alteration of structures in connection with the issuance of certificates-of-occupancy or other requisite or pertinent permits in compliance with provisions, laws, rules or regulations. The selected candidate will also attend meetings with other engineers, contractors and plant operators, assist with the preparation of change orders and prepare reports, letters, memos and similar correspondence and assist with the review and processing of payments as required. The candidate shall also be willing to work additional overtime hours during emergencies as directed by the Area Engineer and/or the Section Chief.'"
      ]
     },
     "execution_count": 36,
     "metadata": {},
     "output_type": "execute_result"
    }
   ],
   "source": [
    "df.loc[most_relevant_document_sections[0][1][0], \"jobdescription\"]"
   ]
  },
  {
   "cell_type": "code",
   "execution_count": 37,
   "metadata": {},
   "outputs": [
    {
     "name": "stdout",
     "output_type": "stream",
     "text": [
      "552760\n",
      "     jobid  \\\n",
      "48  552760   \n",
      "\n",
      "                                                                                         jobdescription  \n",
      "48  ***IMPORTANT NOTE: Only those currently serving as a permanent Mechanical Engineer Intern will b...  \n",
      "552150\n",
      "    jobid  \\\n",
      "9  552150   \n",
      "\n",
      "                                                                                        jobdescription  \n",
      "9  Duties included, but are not limited, to: Deliver service and support to end-users. Interact wit...  \n",
      "586358\n",
      "     jobid  \\\n",
      "20  586358   \n",
      "\n",
      "                                                                                         jobdescription  \n",
      "20  ***IMPORTANT NOTE: Only those currently serving as a permanent Asst. Environmental Engineer will...  \n",
      "592944\n",
      "     jobid  \\\n",
      "42  592944   \n",
      "\n",
      "                                                                                         jobdescription  \n",
      "42  The NYC Department of Environmental Protection (DEP) enriches the environment and protects publi...  \n",
      "580562\n",
      "     jobid  \\\n",
      "14  580562   \n",
      "\n",
      "                                                                                         jobdescription  \n",
      "14  The NYC Department of Environmental Protection (DEP) enriches the environment and protects publi...  \n",
      "540899\n",
      "     jobid  \\\n",
      "46  540899   \n",
      "\n",
      "                                                                                         jobdescription  \n",
      "46  The Bronx District Attorneyâs Office is seeking a well-qualified staff whose diverse backgroun...  \n",
      "607141\n",
      "    jobid  \\\n",
      "6  607141   \n",
      "\n",
      "                                                                                        jobdescription  \n",
      "6  THE AGENCY The Department of City Planning (DCP) plans for the strategic growth and development ...  \n",
      "527822\n",
      "     jobid  \\\n",
      "45  527822   \n",
      "\n",
      "                                                                                         jobdescription  \n",
      "45  Supervise and coordinate Electricians assigned to the Borough; abate emergencies and schedule re...  \n",
      "602605\n",
      "     jobid  \\\n",
      "49  602605   \n",
      "\n",
      "                                                                                         jobdescription  \n",
      "49  The NYC Department of Environmental Protection (DEP) enriches the environment and protects publi...  \n",
      "571361\n",
      "    jobid  \\\n",
      "1  571361   \n",
      "\n",
      "                                                                                        jobdescription  \n",
      "1  The NYC Department of Environmental Protection (DEP) provides more than a billion gallons of hig...  \n",
      "610644\n",
      "     jobid  \\\n",
      "21  610644   \n",
      "\n",
      "                                                                                         jobdescription  \n",
      "21  The NYC Department of Environmental Protection (DEP) enriches the environment and protects publi...  \n",
      "567454\n",
      "     jobid  \\\n",
      "11  567454   \n",
      "\n",
      "                                                                                         jobdescription  \n",
      "11  Under supervision, with wide latitude for independent judgment, performs the most difficult and ...  \n",
      "615111\n",
      "     jobid  \\\n",
      "18  615111   \n",
      "\n",
      "                                                                                         jobdescription  \n",
      "18  IF YOU ARE HIRED PROVISIONALLY IN THIS TITLE, YOU MUST TAKE AND PASS THE CIVIL SERVICE EXAM, WHE...  \n",
      "606346\n",
      "    jobid  \\\n",
      "0  606346   \n",
      "\n",
      "                                                                                        jobdescription  \n",
      "0  The Office of Human Resources (OHR) seeks a highly motivated individual to serve as a Business O...  \n",
      "571499\n",
      "     jobid  \\\n",
      "39  571499   \n",
      "\n",
      "                                                                                         jobdescription  \n",
      "39  Family Independence Administration (FIA) provides temporary help to individuals and families wit...  \n",
      "572055\n",
      "    jobid  \\\n",
      "8  572055   \n",
      "\n",
      "                                                                                        jobdescription  \n",
      "8  Family Independence Administration (FIA) provides temporary help to individuals and families wit...  \n",
      "527762\n",
      "     jobid  \\\n",
      "29  527762   \n",
      "\n",
      "                                                                                         jobdescription  \n",
      "29  Under the direction of the Neighborhood Administrator, the Neighborhood Planner is responsible f...  \n",
      "534244\n",
      "     jobid  \\\n",
      "47  534244   \n",
      "\n",
      "                                                                                         jobdescription  \n",
      "47  This position is open to applicants who are permanent in the title of Administrative Procurement...  \n",
      "582062\n",
      "     jobid  \\\n",
      "15  582062   \n",
      "\n",
      "                                                                                         jobdescription  \n",
      "15  Hours: Full-Time â 35 Hours Work Location: 30-30 Thomson Avenue, NY, 11101  Only candidates wh...  \n",
      "573794\n",
      "     jobid  \\\n",
      "40  573794   \n",
      "\n",
      "                                                                                         jobdescription  \n",
      "40  The Department of Environmental Protection (DEP) protects public health and the environment by s...  \n",
      "600579\n",
      "    jobid  \\\n",
      "2  600579   \n",
      "\n",
      "                                                                                        jobdescription  \n",
      "2  TASK FORCE: \\t\\tCITYWIDE GOVERNMENT OPERATIONS  UNIT: \\t\\t\\tEnergy Efficiency and Modernization ...  \n",
      "586242\n",
      "     jobid  \\\n",
      "23  586242   \n",
      "\n",
      "                                                                                         jobdescription  \n",
      "23  The New York City Employeesâ Retirement System seeks an Agency Attorney Level III who will foc...  \n",
      "569839\n",
      "     jobid  \\\n",
      "10  569839   \n",
      "\n",
      "                                                                                         jobdescription  \n",
      "10  Family Independence Administration's  provides temporary help to individuals and families with s...  \n",
      "569683\n",
      "    jobid  \\\n",
      "3  569683   \n",
      "\n",
      "                                                                                        jobdescription  \n",
      "3  Family Independence Administration's  provides temporary help to individuals and families with s...  \n",
      "612970\n",
      "     jobid  \\\n",
      "25  612970   \n",
      "\n",
      "                                                                                         jobdescription  \n",
      "25  *** This position may be eligible for remote work up to 2 days per week, pursuant to the Remote ...  \n",
      "602457\n",
      "     jobid  \\\n",
      "22  602457   \n",
      "\n",
      "                                                                                         jobdescription  \n",
      "22  DOT seeks a detail-oriented and organized attorney with some regulatory and compliance experienc...  \n",
      "603556\n",
      "     jobid  \\\n",
      "41  603556   \n",
      "\n",
      "                                                                                         jobdescription  \n",
      "41  This position may be eligible for remote work up to two days per week, pursuant to the Remote Wo...  \n",
      "590467\n",
      "     jobid  \\\n",
      "27  590467   \n",
      "\n",
      "                                                                                         jobdescription  \n",
      "27  The mission of the New York City Police Department is to enhance the quality of life in New York...  \n",
      "580478\n",
      "    jobid  \\\n",
      "7  580478   \n",
      "\n",
      "                                                                                        jobdescription  \n",
      "7  The Bronx County District Attorney's Office (BXDA) seeks a well-qualified staff whose diverse ba...  \n",
      "606416\n",
      "     jobid  \\\n",
      "24  606416   \n",
      "\n",
      "                                                                                         jobdescription  \n",
      "24  Job Description:  With an overarching mission to eliminate ageism and ensure the dignity and qua...  \n"
     ]
    }
   ],
   "source": [
    "for f, i in most_relevant_document_sections[0:30]:\n",
    "    # print(str(i) + ',' + df.loc[i[0], \"jobdescription\"] + ',' + str(f))\n",
    "    print(i[1])\n",
    "    print(df.loc[df[\"jobid\"].eq(i[1]), [\"jobid\", \"jobdescription\"]])\n",
    "    # print(df.loc[df[\"jobid\"].isin([i[1]]), [\"jobid\", \"jobdescription\"]])\n",
    "    "
   ]
  }
 ],
 "metadata": {
  "kernelspec": {
   "display_name": "py3.11.5",
   "language": "python",
   "name": "python3"
  },
  "language_info": {
   "codemirror_mode": {
    "name": "ipython",
    "version": 3
   },
   "file_extension": ".py",
   "mimetype": "text/x-python",
   "name": "python",
   "nbconvert_exporter": "python",
   "pygments_lexer": "ipython3",
   "version": "3.11.5"
  }
 },
 "nbformat": 4,
 "nbformat_minor": 2
}
