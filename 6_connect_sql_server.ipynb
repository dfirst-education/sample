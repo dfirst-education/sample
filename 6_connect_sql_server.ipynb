{
 "cells": [
  {
   "cell_type": "code",
   "execution_count": null,
   "metadata": {},
   "outputs": [],
   "source": [
    "pip install sqlalchemy"
   ]
  },
  {
   "cell_type": "code",
   "execution_count": null,
   "metadata": {},
   "outputs": [],
   "source": [
    "pip install pyodbc"
   ]
  },
  {
   "cell_type": "code",
   "execution_count": null,
   "metadata": {},
   "outputs": [],
   "source": [
    "import urllib"
   ]
  },
  {
   "cell_type": "markdown",
   "metadata": {},
   "source": [
    "# connection 1"
   ]
  },
  {
   "cell_type": "code",
   "execution_count": null,
   "metadata": {},
   "outputs": [],
   "source": [
    "dialect = \"mssql\"\n",
    "driver = \"pyodbc\"\n",
    "username = \"sa\"\n",
    "password = \"password\"\n",
    "host = \"host_name\"\n",
    "port = \"1433\"\n",
    "database = \"database_name\"\n",
    "driver_mssql = \"SQL Server\"\n",
    "\n",
    "# SQL Authentication\n",
    "conn_str = f\"{dialect}+{driver}://{username}:{password}@{host}:{port}/{database}?driver={driver_mssql}\"\n",
    "\n",
    "# Windows Authentication\n",
    "# conn_str = f\"{dialect}+{driver}://{host}:{port}/{database}?driver={driver_mssql}\""
   ]
  },
  {
   "cell_type": "markdown",
   "metadata": {},
   "source": [
    "# connection 2"
   ]
  },
  {
   "cell_type": "code",
   "execution_count": null,
   "metadata": {},
   "outputs": [],
   "source": [
    "servername = 'host_name'\n",
    "database = 'database_name'\n",
    "# driver = 'ODBC Driver 17 for SQL Server'\n",
    "driver = 'SQL Server'\n",
    "username = \"sa\"\n",
    "password = \"password\"\n",
    "\n",
    "# SQL Authentication\n",
    "conn_str = 'mssql+pyodbc:///?odbc_connect=' + urllib.parse.quote_plus(f'DRIVER={driver};SERVER={servername};DATABASE={database};Uid={username};Pwd={password}')\n",
    "\n",
    "# Windows Authentication\n",
    "# conn_str = 'mssql+pyodbc:///?odbc_connect=' + urllib.parse.quote_plus(f'DRIVER={driver};SERVER={servername};DATABASE={database};Trusted_Connection=yes')"
   ]
  },
  {
   "cell_type": "markdown",
   "metadata": {},
   "source": [
    "# create_engine"
   ]
  },
  {
   "cell_type": "code",
   "execution_count": null,
   "metadata": {},
   "outputs": [],
   "source": [
    "from sqlalchemy import create_engine\n",
    "from sqlalchemy.types import Integer, String\n",
    "engine = create_engine(conn_str)"
   ]
  },
  {
   "cell_type": "code",
   "execution_count": null,
   "metadata": {},
   "outputs": [],
   "source": [
    "df = pd.read_sql_table('tbl1', engine) # Specify the table name as the first argument\n",
    "print(df)"
   ]
  },
  {
   "cell_type": "markdown",
   "metadata": {},
   "source": [
    "# import to mssql"
   ]
  },
  {
   "cell_type": "code",
   "execution_count": null,
   "metadata": {},
   "outputs": [],
   "source": [
    "import pandas as pd\n",
    "df = pd.DataFrame(columns=[\"title\", \"company\", \"qualification\"])\n",
    "\n",
    "responses = [\n",
    "            [\"Business Operations Analyst\", \"Administration & Human Resources Technology\", \"master's degree\"],\n",
    "            [\"Executive Program Manager\", \"Communications & Intergovernmental Affairs Engineering, Architecture, & Planning\", \"bachelor's degree\"],\n",
    "            [\"Analyst  Energy Efficiency and Modernization\", \"Finance, Accounting, & Procurement Policy, Research & Analysis\", \"bachelor's degree\"]\n",
    "            ]\n",
    "\n",
    "i = 0\n",
    "for response_item in responses:\n",
    "    df.loc[i] = [response_item[0], response_item[1], response_item[2]]\n",
    "    i+=1\n",
    "df"
   ]
  },
  {
   "cell_type": "code",
   "execution_count": null,
   "metadata": {},
   "outputs": [],
   "source": [
    "schema = \"dbo\"\n",
    "table_name = \"table_name\""
   ]
  },
  {
   "cell_type": "code",
   "execution_count": null,
   "metadata": {},
   "outputs": [],
   "source": [
    "df.to_sql(name=table_name, schema=schema, con=engine, \n",
    "if_exists='replace', index=False, dtype=String())"
   ]
  }
 ],
 "metadata": {
  "language_info": {
   "name": "python"
  }
 },
 "nbformat": 4,
 "nbformat_minor": 2
}
