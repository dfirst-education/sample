{
 "cells": [
  {
   "cell_type": "code",
   "execution_count": 6,
   "metadata": {},
   "outputs": [
    {
     "name": "stdout",
     "output_type": "stream",
     "text": [
      "threshold\tscore\taccuracy\tprecision\trecall\tF1\n",
      "0.8\tpredicted_score\t0.4\t0.3333333333333333\t0.5\t0.4\n"
     ]
    }
   ],
   "source": [
    "import pandas as pd\n",
    "import warnings\n",
    "warnings.filterwarnings('ignore')\n",
    "\n",
    "from sklearn.metrics import precision_recall_fscore_support as prfs\n",
    "from sklearn.metrics import accuracy_score as acc\n",
    "\n",
    "\n",
    "score_list = (\n",
    "'predicted_score',\n",
    ")\n",
    "\n",
    "threshold = 0.8\n",
    "\n",
    "scores = pd.read_csv('../data/scores.csv', header=0)\n",
    "\n",
    "for score in score_list:\n",
    "    a = acc(scores['label'], pd.to_numeric(scores[f'{score}']) >= threshold)\n",
    "    p,r,f,_ = prfs(scores['label'], pd.to_numeric(scores[f'{score}']) >= threshold, average='binary')\n",
    "    print(f'threshold\\tscore\\taccuracy\\tprecision\\trecall\\tF1')\n",
    "    print(f'{threshold}\\t{score}\\t{a}\\t{p}\\t{r}\\t{f}')\n",
    "\n",
    "# accuracy = (TP + TN) / (TP + TN + FP + FN)\n",
    "# precision = TP / (TP + FP)\n",
    "# recall = TP / (TP + FN)\n",
    "# F1 = 2 * (precision * recall) / (precision + recall)"
   ]
  }
 ],
 "metadata": {
  "kernelspec": {
   "display_name": "py3.11.5",
   "language": "python",
   "name": "python3"
  },
  "language_info": {
   "codemirror_mode": {
    "name": "ipython",
    "version": 3
   },
   "file_extension": ".py",
   "mimetype": "text/x-python",
   "name": "python",
   "nbconvert_exporter": "python",
   "pygments_lexer": "ipython3",
   "version": "3.11.5"
  }
 },
 "nbformat": 4,
 "nbformat_minor": 2
}
