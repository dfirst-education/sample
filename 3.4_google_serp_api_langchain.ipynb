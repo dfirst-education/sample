{
 "cells": [
  {
   "cell_type": "markdown",
   "metadata": {},
   "source": [
    "# Search with SerpAPI"
   ]
  },
  {
   "cell_type": "code",
   "execution_count": null,
   "metadata": {},
   "outputs": [],
   "source": [
    "# pip install google-search-results"
   ]
  },
  {
   "cell_type": "code",
   "execution_count": 5,
   "metadata": {},
   "outputs": [],
   "source": [
    "import openai\n",
    "import os\n",
    "SERP_API_KEY =  os.environ['Google_Serp_API_KEY']"
   ]
  },
  {
   "cell_type": "markdown",
   "metadata": {},
   "source": [
    "https://serpapi.com/locations, \n",
    "https://serpapi.com/google-languages, \n",
    "https://serpapi.com/google-countries, \n",
    "https://serpapi.com/google-domains"
   ]
  },
  {
   "cell_type": "code",
   "execution_count": 6,
   "metadata": {},
   "outputs": [
    {
     "data": {
      "text/plain": [
       "[{'position': 1,\n",
       "  'title': 'Who might be the next US president? | Joe Biden',\n",
       "  'link': 'https://www.aljazeera.com/program/inside-story/2023/12/22/who-might-be-the-next-us-president',\n",
       "  'redirect_link': 'https://www.google.com/url?sa=t&source=web&rct=j&opi=89978449&url=https://www.aljazeera.com/program/inside-story/2023/12/22/who-might-be-the-next-us-president&ved=2ahUKEwiB_YCNiemEAxUCM1kFHfz3CVc4ChAWegQIDBAB',\n",
       "  'displayed_link': 'https://www.aljazeera.com › inside-story › 2023/12/22',\n",
       "  'favicon': 'https://serpapi.com/searches/65ed53a5eb31eb553b6f509d/images/3c807aa14b8c53dc9578b78de1bc0cbe09a7ec796d90dd62fcf25a3472c3ff0d.png',\n",
       "  'date': 'Dec 22, 2023',\n",
       "  'snippet': 'Biden and Trump are frontrunners in an uncertain contest.',\n",
       "  'snippet_highlighted_words': ['Trump'],\n",
       "  'source': 'Al Jazeera'},\n",
       " {'position': 2,\n",
       "  'title': 'Chronological List of Presidents, First Ladies, and Vice ...',\n",
       "  'link': 'https://www.loc.gov/rr/print/list/057_chron.html',\n",
       "  'redirect_link': 'https://www.google.com/url?sa=t&source=web&rct=j&opi=89978449&url=https://www.loc.gov/rr/print/list/057_chron.html&ved=2ahUKEwiB_YCNiemEAxUCM1kFHfz3CVc4ChAWegQIChAB',\n",
       "  'displayed_link': 'https://www.loc.gov › print › list › 057_chron',\n",
       "  'favicon': 'https://serpapi.com/searches/65ed53a5eb31eb553b6f509d/images/3c807aa14b8c53dc9578b78de1bc0cbe3241bd202403476f162d52254eaa68fc.png',\n",
       "  'snippet': 'Illustrations from the holdings of the Library of Congress Prints and Photographs Division on the subject of U.S. Presidents, First Ladies, and Vice ...',\n",
       "  'snippet_highlighted_words': ['U.S. Presidents'],\n",
       "  'source': 'The Library of Congress (.gov)'},\n",
       " {'position': 3,\n",
       "  'title': 'President Biden Selects 2023 Presidential Rank Award ...',\n",
       "  'link': 'https://www.opm.gov/news/releases/2023/11/release-president-biden-selects-2023-presidential-rank-award-winners/',\n",
       "  'redirect_link': 'https://www.google.com/url?sa=t&source=web&rct=j&opi=89978449&url=https://www.opm.gov/news/releases/2023/11/release-president-biden-selects-2023-presidential-rank-award-winners/&ved=2ahUKEwiB_YCNiemEAxUCM1kFHfz3CVc4ChAWegQICBAB',\n",
       "  'displayed_link': 'https://www.opm.gov › ... › Releases › 2023 › November',\n",
       "  'favicon': 'https://serpapi.com/searches/65ed53a5eb31eb553b6f509d/images/3c807aa14b8c53dc9578b78de1bc0cbee40d70bbf8f6d2c65ad4e23cad1a9c06.png',\n",
       "  'date': 'Nov 2, 2023',\n",
       "  'snippet': 'The PRAs are one of the most prestigious awards in the career civil service, recognizing the important contributions of public servants across ...',\n",
       "  'snippet_highlighted_words': ['in the'],\n",
       "  'source': 'OPM.gov'},\n",
       " {'position': 4,\n",
       "  'title': 'Executive Orders',\n",
       "  'link': 'https://www.federalregister.gov/presidential-documents/executive-orders',\n",
       "  'redirect_link': 'https://www.google.com/url?sa=t&source=web&rct=j&opi=89978449&url=https://www.federalregister.gov/presidential-documents/executive-orders&ved=2ahUKEwiB_YCNiemEAxUCM1kFHfz3CVc4ChAWegQIDxAB',\n",
       "  'displayed_link': 'https://www.federalregister.gov › presidential-documents',\n",
       "  'favicon': 'https://serpapi.com/searches/65ed53a5eb31eb553b6f509d/images/3c807aa14b8c53dc9578b78de1bc0cbe26ec706ffd604b2e30f913aa703425d4.png',\n",
       "  'snippet': 'The President of the United States manages the operations of the Executive branch of Government through Executive orders. After the President signs an ...',\n",
       "  'snippet_highlighted_words': ['President of the United States', 'President'],\n",
       "  'source': 'Federal Register (.gov)'},\n",
       " {'position': 5,\n",
       "  'title': 'Presidential candidates, 2024',\n",
       "  'link': 'https://ballotpedia.org/Presidential_candidates,_2024',\n",
       "  'redirect_link': 'https://www.google.com/url?sa=t&source=web&rct=j&opi=89978449&url=https://ballotpedia.org/Presidential_candidates,_2024&ved=2ahUKEwiB_YCNiemEAxUCM1kFHfz3CVc4ChAWegQIDRAB',\n",
       "  'displayed_link': 'https://ballotpedia.org › Presidential_candidates,_2024',\n",
       "  'favicon': 'https://serpapi.com/searches/65ed53a5eb31eb553b6f509d/images/3c807aa14b8c53dc9578b78de1bc0cbe76f863918dae6f685a266191b9802108.png',\n",
       "  'snippet': 'As of March 2024, Ballotpedia has identified two noteworthy Democratic presidential candidates and one noteworthy Republican candidate. We identify noteworthy ...',\n",
       "  'snippet_highlighted_words': ['presidential'],\n",
       "  'source': 'Ballotpedia'},\n",
       " {'position': 6,\n",
       "  'title': 'A look back at July 2023 at the Biden-Harris White House.',\n",
       "  'link': 'https://www.youtube.com/watch?v=f6yzQqhbMBw',\n",
       "  'displayed_link': '20K+ views · 7 months ago',\n",
       "  'thumbnail': 'https://serpapi.com/searches/65ed53a5eb31eb553b6f509d/images/3c807aa14b8c53dc9578b78de1bc0cbef450321dfd633135234e4a186b2f21ee.jpeg',\n",
       "  'favicon': 'https://serpapi.com/searches/65ed53a5eb31eb553b6f509d/images/3c807aa14b8c53dc9578b78de1bc0cbe24984a3d3db17cac334a4fb9fa94cf37.png',\n",
       "  'snippet': '00:04 The White House celebrates the Fourth of July on the South Lawn 00:59 President Biden holds a bilateral meeting with Prime Minister ...',\n",
       "  'duration': '18:59',\n",
       "  'key_moments': [{'time': '00:04',\n",
       "    'title': 'The White House celebrates the Fourth of July on the South Lawn',\n",
       "    'link': 'https://www.youtube.com/watch?v=f6yzQqhbMBw&t=4',\n",
       "    'thumbnail': 'https://encrypted-tbn0.gstatic.com/images?q=tbn:ANd9GcT-MEBhX9akgpvCtMzkkhmUHpFPLxxTgp0gfPpe4pxHfw&s'},\n",
       "   {'time': '00:59',\n",
       "    'title': 'President Biden holds a bilateral meeting with Prime Minister Kristersson of Sweden',\n",
       "    'link': 'https://www.youtube.com/watch?v=f6yzQqhbMBw&t=59',\n",
       "    'thumbnail': 'https://encrypted-tbn0.gstatic.com/images?q=tbn:ANd9GcTlnSFkC6OqKPa-M6dMprCqMiZMUbz-H5YHkiuolxOY5A&s'},\n",
       "   {'time': '02:03',\n",
       "    'title': 'President Biden delivers remarks during an Investing in America visit to Flex Ltd. In West Columbia, South Carolina',\n",
       "    'link': 'https://www.youtube.com/watch?v=f6yzQqhbMBw&t=123',\n",
       "    'thumbnail': 'https://encrypted-tbn0.gstatic.com/images?q=tbn:ANd9GcR8EgSyENoNksypC4u8yOuEGiO7DOu-ismxA3mwNkfavw&s'},\n",
       "   {'time': '02:50',\n",
       "    'title': 'President Biden delivers remarks on junk fees',\n",
       "    'link': 'https://www.youtube.com/watch?v=f6yzQqhbMBw&t=170',\n",
       "    'thumbnail': 'https://encrypted-tbn0.gstatic.com/images?q=tbn:ANd9GcQiSBl4UPn1Id9Nu5n1aQlzUBhAoE2ZOn8MbB-dbU7Ofw&s'},\n",
       "   {'time': '03:22',\n",
       "    'title': 'President Biden visits the United Kingdom ahead of the NATO Summit',\n",
       "    'link': 'https://www.youtube.com/watch?v=f6yzQqhbMBw&t=202',\n",
       "    'thumbnail': 'https://encrypted-tbn0.gstatic.com/images?q=tbn:ANd9GcQcWsJUw8NEHdzGJDosakrzbQ32YT-lp3Lz1HISkNpXpw&s'},\n",
       "   {'time': '04:11',\n",
       "    'title': 'President Biden visits Luthianua to participate in the NATO Summit',\n",
       "    'link': 'https://www.youtube.com/watch?v=f6yzQqhbMBw&t=251',\n",
       "    'thumbnail': 'https://encrypted-tbn0.gstatic.com/images?q=tbn:ANd9GcTOfaKBhL-952ciByWdv2c8-0I4P_R-ACdIct3TGHSUVQ&s'},\n",
       "   {'time': '05:08',\n",
       "    'title': 'President Biden attends the NATO Summit',\n",
       "    'link': 'https://www.youtube.com/watch?v=f6yzQqhbMBw&t=308',\n",
       "    'thumbnail': 'https://encrypted-tbn0.gstatic.com/images?q=tbn:ANd9GcQLq-G48rFAdedxaQohXGVSYw6q26qGtW5iRjx5qfEnzg&s'},\n",
       "   {'time': '06:37',\n",
       "    'title': 'President Biden attends the Nordic Leaders’ Summit in Helsinki, Finland',\n",
       "    'link': 'https://www.youtube.com/watch?v=f6yzQqhbMBw&t=397',\n",
       "    'thumbnail': 'https://encrypted-tbn0.gstatic.com/images?q=tbn:ANd9GcSrgWVtHq1mlyZ1jo-VbTS1m5RYLizb4Cxj7NK72dl1bw&s'},\n",
       "   {'time': '08:03',\n",
       "    'title': 'President Biden meets with labor leaders',\n",
       "    'link': 'https://www.youtube.com/watch?v=f6yzQqhbMBw&t=483',\n",
       "    'thumbnail': 'https://encrypted-tbn0.gstatic.com/images?q=tbn:ANd9GcS5zQ06nOJ2S96wcnzRce4X0zPqDaPUtbSR99JZspO1vg&s'},\n",
       "   {'time': '08:48',\n",
       "    'title': 'President Biden meets with President Herzog of Israel',\n",
       "    'link': 'https://www.youtube.com/watch?v=f6yzQqhbMBw&t=528',\n",
       "    'thumbnail': 'https://encrypted-tbn0.gstatic.com/images?q=tbn:ANd9GcR_v6zC3WFQ_tB_-sPDoL-lNl05C9f3rurRFshtBl9Lxw&s'},\n",
       "   {'time': '09:12',\n",
       "    'title': 'President Biden meets with the Competition Council and discusses new actions to tackle junk fees',\n",
       "    'link': 'https://www.youtube.com/watch?v=f6yzQqhbMBw&t=552',\n",
       "    'thumbnail': 'https://encrypted-tbn0.gstatic.com/images?q=tbn:ANd9GcTBF9FSDiFOjKKobGBacRLC7hCh7OA3ofb8h2qfMP0IKw&s'},\n",
       "   {'time': '10:00',\n",
       "    'title': 'President Biden delivers remarks about Bidenomics at a Philadelphia shipyard',\n",
       "    'link': 'https://www.youtube.com/watch?v=f6yzQqhbMBw&t=600',\n",
       "    'thumbnail': 'https://encrypted-tbn0.gstatic.com/images?q=tbn:ANd9GcRByHCQdsI9e7td-eELpv_hN94Bah8i4NxKKQK_kGKfiw&s'},\n",
       "   {'time': '11:33',\n",
       "    'title': 'President Biden delivers remarks on Artificial Intelligence',\n",
       "    'link': 'https://www.youtube.com/watch?v=f6yzQqhbMBw&t=693',\n",
       "    'thumbnail': 'https://encrypted-tbn0.gstatic.com/images?q=tbn:ANd9GcQKPOHGB8dKHPWwnP0HO0ml6ftJERMxUUglhb5X3YS1LQ&s'},\n",
       "   {'time': '12:48',\n",
       "    'title': 'President Biden signs the Emmett Till and Mamie Till-Mobley National Monument Procla-mation',\n",
       "    'link': 'https://www.youtube.com/watch?v=f6yzQqhbMBw&t=768',\n",
       "    'thumbnail': 'https://encrypted-tbn0.gstatic.com/images?q=tbn:ANd9GcS5uAuxdjElnl1rQjZX2avWkshDhHB_2GgrQCZ3wDo1ww&s'},\n",
       "   {'time': '14:31',\n",
       "    'title': 'President Biden delivers remarks discussing the expansion of access to mental health care',\n",
       "    'link': 'https://www.youtube.com/watch?v=f6yzQqhbMBw&t=871',\n",
       "    'thumbnail': 'https://encrypted-tbn0.gstatic.com/images?q=tbn:ANd9GcR0ThEyaIqVaOc_tcmWsOtqT8G9pMhHcYOqTWhUOA1jCA&s'},\n",
       "   {'time': '15:02',\n",
       "    'title': 'President Biden joins the “On Purpose” podcast',\n",
       "    'link': 'https://www.youtube.com/watch?v=f6yzQqhbMBw&t=902',\n",
       "    'thumbnail': 'https://encrypted-tbn0.gstatic.com/images?q=tbn:ANd9GcQRbd0z8hpM9a5wiFQ5n71gIT4wGLK5SVLL1m2hVnqQLA&s'},\n",
       "   {'time': '16:08',\n",
       "    'title': 'President Biden delivers remarks on extreme heat',\n",
       "    'link': 'https://www.youtube.com/watch?v=f6yzQqhbMBw&t=968',\n",
       "    'thumbnail': 'https://encrypted-tbn0.gstatic.com/images?q=tbn:ANd9GcTwbOBJnmYJdDbxnUo5yYXN2Gc2xMqjVEg3L-Og5Wuu3A&s'},\n",
       "   {'time': '16:53',\n",
       "    'title': 'President Biden holds a bilateral meeting with Prime Minister Meloni of Italy',\n",
       "    'link': 'https://www.youtube.com/watch?v=f6yzQqhbMBw&t=1013',\n",
       "    'thumbnail': 'https://encrypted-tbn0.gstatic.com/images?q=tbn:ANd9GcRRevt-Ia6uLnylWjLDqRAkA8VLpLuuBDODWlcsBVePbw&s'},\n",
       "   {'time': '17:52',\n",
       "    'title': 'President Biden signs manufacturing Executive Order',\n",
       "    'link': 'https://www.youtube.com/watch?v=f6yzQqhbMBw&t=1072',\n",
       "    'thumbnail': 'https://encrypted-tbn0.gstatic.com/images?q=tbn:ANd9GcRBY8qbfwsdJdYnff1r6GysL32MwO8f60inOU-Op-kFzg&s'}],\n",
       "  'about_page_link': 'https://www.google.com/search?q=About+https://www.youtube.com/watch?v=f6yzQqhbMBw&tbm=ilp',\n",
       "  'about_page_serpapi_link': 'https://serpapi.com/search.json?engine=google_about_this_result&google_domain=google.com&q=About+https%3A%2F%2Fwww.youtube.com%2Fwatch%3Fv%3Df6yzQqhbMBw',\n",
       "  'video_link': 'https://encrypted-vtbn0.gstatic.com/video?q=tbn:ANd9GcT5rfgQcukE7iSWD0kpVDCiV6mz9qcjAsf1qg',\n",
       "  'source': 'YouTube · The White House'},\n",
       " {'position': 7,\n",
       "  'title': 'Who Are the 2024 Presidential Election Candidates?',\n",
       "  'link': 'https://www.nytimes.com/interactive/2023/us/politics/presidential-candidates-2024.html',\n",
       "  'redirect_link': 'https://www.google.com/url?sa=t&source=web&rct=j&opi=89978449&url=https://www.nytimes.com/interactive/2023/us/politics/presidential-candidates-2024.html&ved=2ahUKEwiB_YCNiemEAxUCM1kFHfz3CVc4ChAWegQIHhAB',\n",
       "  'displayed_link': 'https://www.nytimes.com › U.S. › Politics',\n",
       "  'favicon': 'https://serpapi.com/searches/65ed53a5eb31eb553b6f509d/images/3c807aa14b8c53dc9578b78de1bc0cbe603a235e9014dba87dddec6b47a69991.png',\n",
       "  'date': '4 days ago',\n",
       "  'snippet': 'Campaigns 2016 to 2024: When Candidates Entered and Exited Their Races. In the past two presidential election cycles, most announced their bids ...',\n",
       "  'snippet_highlighted_words': ['In the', 'presidential'],\n",
       "  'source': 'The New York Times'},\n",
       " {'position': 8,\n",
       "  'title': 'Summit for Democracy 2023',\n",
       "  'link': 'https://www.state.gov/summit-for-democracy-2023/',\n",
       "  'redirect_link': 'https://www.google.com/url?sa=t&source=web&rct=j&opi=89978449&url=https://www.state.gov/summit-for-democracy-2023/&ved=2ahUKEwiB_YCNiemEAxUCM1kFHfz3CVc4ChAWegQIGhAB',\n",
       "  'displayed_link': 'https://www.state.gov › summit-for-democracy-2023',\n",
       "  'favicon': 'https://serpapi.com/searches/65ed53a5eb31eb553b6f509d/images/3c807aa14b8c53dc9578b78de1bc0cbe67d74f628e90131035be563c181c0531.png',\n",
       "  'date': 'Mar 28, 2023',\n",
       "  'snippet': 'March 28, 2023: Thematic Day. On Tuesday, March 28, the U.S. Government hosted a variety of Cabinet- and Sub-Cabinet- level thematic events to ...',\n",
       "  'snippet_highlighted_words': ['2023', 'U.S.'],\n",
       "  'source': 'U.S. Department of State (.gov)'},\n",
       " {'position': 9,\n",
       "  'title': \"Presidents' Day: February 19, 2024\",\n",
       "  'link': 'https://www.census.gov/newsroom/stories/presidents-day.html',\n",
       "  'redirect_link': 'https://www.google.com/url?sa=t&source=web&rct=j&opi=89978449&url=https://www.census.gov/newsroom/stories/presidents-day.html&ved=2ahUKEwiB_YCNiemEAxUCM1kFHfz3CVc4ChAWegQIGxAB',\n",
       "  'displayed_link': 'https://www.census.gov › newsroom › stories › preside...',\n",
       "  'favicon': 'https://serpapi.com/searches/65ed53a5eb31eb553b6f509d/images/3c807aa14b8c53dc9578b78de1bc0cbe534633d5f4e6296571c27c0db9cb7a58.png',\n",
       "  'date': 'Feb 19, 2024',\n",
       "  'snippet': 'Observed the third Monday of February, the day honors all former U.S. presidents. President Washington was born Feb. 22, 1732.',\n",
       "  'snippet_highlighted_words': ['U.S. presidents', 'President'],\n",
       "  'source': 'Census.gov'}]"
      ]
     },
     "execution_count": 6,
     "metadata": {},
     "output_type": "execute_result"
    }
   ],
   "source": [
    "from serpapi import GoogleSearch\n",
    "\n",
    "params = {\n",
    "  \"engine\": \"google\",\n",
    "  \"q\": \"Who is the president of the United States as of 2023?\",\n",
    "  \"location\": \"United States\",\n",
    "  \"hl\": \"en\",\n",
    "  \"gl\": \"us\",\n",
    "  \"google_domain\": \"google.com\",\n",
    "  \"num\": \"10\",\n",
    "  \"start\": \"10\",\n",
    "  \"safe\": \"active\",\n",
    "  \"api_key\": f\"{SERP_API_KEY}\"\n",
    "}\n",
    "\n",
    "search = GoogleSearch(params)\n",
    "results = search.get_dict()\n",
    "\n",
    "if \"organic_results\" in results:\n",
    "  organic_results = results[\"organic_results\"]\n",
    "else:\n",
    "  organic_results = \"no results found\"\n",
    "\n",
    "organic_results"
   ]
  },
  {
   "cell_type": "code",
   "execution_count": null,
   "metadata": {},
   "outputs": [],
   "source": []
  },
  {
   "cell_type": "code",
   "execution_count": null,
   "metadata": {},
   "outputs": [],
   "source": []
  },
  {
   "cell_type": "markdown",
   "metadata": {},
   "source": [
    "# LLM Chat with langchain"
   ]
  },
  {
   "cell_type": "code",
   "execution_count": 1,
   "metadata": {},
   "outputs": [
    {
     "name": "stdout",
     "output_type": "stream",
     "text": [
      "Collecting langchain\n",
      "  Obtaining dependency information for langchain from https://files.pythonhosted.org/packages/cb/cc/684ac2410ad06957c17ffda787b7ff6c1595721c36c3b443c021e95cf998/langchain-0.1.11-py3-none-any.whl.metadata\n",
      "  Downloading langchain-0.1.11-py3-none-any.whl.metadata (13 kB)\n",
      "Requirement already satisfied: PyYAML>=5.3 in c:\\users\\acki82\\anaconda3\\envs\\py3.11.5\\lib\\site-packages (from langchain) (6.0)\n",
      "Requirement already satisfied: SQLAlchemy<3,>=1.4 in c:\\users\\acki82\\anaconda3\\envs\\py3.11.5\\lib\\site-packages (from langchain) (1.4.39)\n",
      "Requirement already satisfied: aiohttp<4.0.0,>=3.8.3 in c:\\users\\acki82\\anaconda3\\envs\\py3.11.5\\lib\\site-packages (from langchain) (3.8.5)\n",
      "Collecting dataclasses-json<0.7,>=0.5.7 (from langchain)\n",
      "  Obtaining dependency information for dataclasses-json<0.7,>=0.5.7 from https://files.pythonhosted.org/packages/91/ca/7219b838086086972e662c19e908694bdc6744537fb41b70392501b8b5e4/dataclasses_json-0.6.4-py3-none-any.whl.metadata\n",
      "  Downloading dataclasses_json-0.6.4-py3-none-any.whl.metadata (25 kB)\n",
      "Collecting jsonpatch<2.0,>=1.33 (from langchain)\n",
      "  Obtaining dependency information for jsonpatch<2.0,>=1.33 from https://files.pythonhosted.org/packages/73/07/02e16ed01e04a374e644b575638ec7987ae846d25ad97bcc9945a3ee4b0e/jsonpatch-1.33-py2.py3-none-any.whl.metadata\n",
      "  Downloading jsonpatch-1.33-py2.py3-none-any.whl.metadata (3.0 kB)\n",
      "Collecting langchain-community<0.1,>=0.0.25 (from langchain)\n",
      "  Obtaining dependency information for langchain-community<0.1,>=0.0.25 from https://files.pythonhosted.org/packages/8d/cc/387b93205020d23151c039e73805062c749a452a417fc578c7ea69efd469/langchain_community-0.0.27-py3-none-any.whl.metadata\n",
      "  Downloading langchain_community-0.0.27-py3-none-any.whl.metadata (8.2 kB)\n",
      "Collecting langchain-core<0.2,>=0.1.29 (from langchain)\n",
      "  Obtaining dependency information for langchain-core<0.2,>=0.1.29 from https://files.pythonhosted.org/packages/53/b3/ae022560a8b104525b4ac1a97a557e3aa05dd0d233bb5284f7c63509742f/langchain_core-0.1.30-py3-none-any.whl.metadata\n",
      "  Downloading langchain_core-0.1.30-py3-none-any.whl.metadata (6.0 kB)\n",
      "Collecting langchain-text-splitters<0.1,>=0.0.1 (from langchain)\n",
      "  Obtaining dependency information for langchain-text-splitters<0.1,>=0.0.1 from https://files.pythonhosted.org/packages/9d/a1/aec824080111e9b4a4802b51b988032faa193828c865e11233d1b18e88fa/langchain_text_splitters-0.0.1-py3-none-any.whl.metadata\n",
      "  Downloading langchain_text_splitters-0.0.1-py3-none-any.whl.metadata (2.0 kB)\n",
      "Collecting langsmith<0.2.0,>=0.1.17 (from langchain)\n",
      "  Obtaining dependency information for langsmith<0.2.0,>=0.1.17 from https://files.pythonhosted.org/packages/dd/ec/562d602617ed75b45644cd6f40941171da2fc3ad08420763ef74178e9662/langsmith-0.1.23-py3-none-any.whl.metadata\n",
      "  Downloading langsmith-0.1.23-py3-none-any.whl.metadata (13 kB)\n",
      "Requirement already satisfied: numpy<2,>=1 in c:\\users\\acki82\\anaconda3\\envs\\py3.11.5\\lib\\site-packages (from langchain) (1.24.3)\n",
      "Requirement already satisfied: pydantic<3,>=1 in c:\\users\\acki82\\anaconda3\\envs\\py3.11.5\\lib\\site-packages (from langchain) (2.6.1)\n",
      "Requirement already satisfied: requests<3,>=2 in c:\\users\\acki82\\anaconda3\\envs\\py3.11.5\\lib\\site-packages (from langchain) (2.31.0)\n",
      "Requirement already satisfied: tenacity<9.0.0,>=8.1.0 in c:\\users\\acki82\\anaconda3\\envs\\py3.11.5\\lib\\site-packages (from langchain) (8.2.2)\n",
      "Requirement already satisfied: attrs>=17.3.0 in c:\\users\\acki82\\anaconda3\\envs\\py3.11.5\\lib\\site-packages (from aiohttp<4.0.0,>=3.8.3->langchain) (22.1.0)\n",
      "Requirement already satisfied: charset-normalizer<4.0,>=2.0 in c:\\users\\acki82\\anaconda3\\envs\\py3.11.5\\lib\\site-packages (from aiohttp<4.0.0,>=3.8.3->langchain) (2.0.4)\n",
      "Requirement already satisfied: multidict<7.0,>=4.5 in c:\\users\\acki82\\anaconda3\\envs\\py3.11.5\\lib\\site-packages (from aiohttp<4.0.0,>=3.8.3->langchain) (6.0.2)\n",
      "Requirement already satisfied: async-timeout<5.0,>=4.0.0a3 in c:\\users\\acki82\\anaconda3\\envs\\py3.11.5\\lib\\site-packages (from aiohttp<4.0.0,>=3.8.3->langchain) (4.0.2)\n",
      "Requirement already satisfied: yarl<2.0,>=1.0 in c:\\users\\acki82\\anaconda3\\envs\\py3.11.5\\lib\\site-packages (from aiohttp<4.0.0,>=3.8.3->langchain) (1.8.1)\n",
      "Requirement already satisfied: frozenlist>=1.1.1 in c:\\users\\acki82\\anaconda3\\envs\\py3.11.5\\lib\\site-packages (from aiohttp<4.0.0,>=3.8.3->langchain) (1.3.3)\n",
      "Requirement already satisfied: aiosignal>=1.1.2 in c:\\users\\acki82\\anaconda3\\envs\\py3.11.5\\lib\\site-packages (from aiohttp<4.0.0,>=3.8.3->langchain) (1.2.0)\n",
      "Collecting marshmallow<4.0.0,>=3.18.0 (from dataclasses-json<0.7,>=0.5.7->langchain)\n",
      "  Obtaining dependency information for marshmallow<4.0.0,>=3.18.0 from https://files.pythonhosted.org/packages/38/04/37055b7013dfaaf66e3a9a51e46857cc9be151476a891b995fa70da7e139/marshmallow-3.21.1-py3-none-any.whl.metadata\n",
      "  Downloading marshmallow-3.21.1-py3-none-any.whl.metadata (7.2 kB)\n",
      "Collecting typing-inspect<1,>=0.4.0 (from dataclasses-json<0.7,>=0.5.7->langchain)\n",
      "  Obtaining dependency information for typing-inspect<1,>=0.4.0 from https://files.pythonhosted.org/packages/65/f3/107a22063bf27bdccf2024833d3445f4eea42b2e598abfbd46f6a63b6cb0/typing_inspect-0.9.0-py3-none-any.whl.metadata\n",
      "  Downloading typing_inspect-0.9.0-py3-none-any.whl.metadata (1.5 kB)\n",
      "Requirement already satisfied: jsonpointer>=1.9 in c:\\users\\acki82\\anaconda3\\envs\\py3.11.5\\lib\\site-packages (from jsonpatch<2.0,>=1.33->langchain) (2.1)\n",
      "Requirement already satisfied: anyio<5,>=3 in c:\\users\\acki82\\anaconda3\\envs\\py3.11.5\\lib\\site-packages (from langchain-core<0.2,>=0.1.29->langchain) (3.5.0)\n",
      "Collecting packaging<24.0,>=23.2 (from langchain-core<0.2,>=0.1.29->langchain)\n",
      "  Obtaining dependency information for packaging<24.0,>=23.2 from https://files.pythonhosted.org/packages/ec/1a/610693ac4ee14fcdf2d9bf3c493370e4f2ef7ae2e19217d7a237ff42367d/packaging-23.2-py3-none-any.whl.metadata\n",
      "  Downloading packaging-23.2-py3-none-any.whl.metadata (3.2 kB)\n",
      "Collecting orjson<4.0.0,>=3.9.14 (from langsmith<0.2.0,>=0.1.17->langchain)\n",
      "  Obtaining dependency information for orjson<4.0.0,>=3.9.14 from https://files.pythonhosted.org/packages/8c/37/3623de71a63c2182f121d9efba488ad606a9934d2f4ba3df51baf428fe96/orjson-3.9.15-cp311-none-win_amd64.whl.metadata\n",
      "  Downloading orjson-3.9.15-cp311-none-win_amd64.whl.metadata (50 kB)\n",
      "     ---------------------------------------- 0.0/50.7 kB ? eta -:--:--\n",
      "     ---------------------------------------- 50.7/50.7 kB 2.5 MB/s eta 0:00:00\n",
      "Requirement already satisfied: annotated-types>=0.4.0 in c:\\users\\acki82\\anaconda3\\envs\\py3.11.5\\lib\\site-packages (from pydantic<3,>=1->langchain) (0.6.0)\n",
      "Requirement already satisfied: pydantic-core==2.16.2 in c:\\users\\acki82\\anaconda3\\envs\\py3.11.5\\lib\\site-packages (from pydantic<3,>=1->langchain) (2.16.2)\n",
      "Requirement already satisfied: typing-extensions>=4.6.1 in c:\\users\\acki82\\anaconda3\\envs\\py3.11.5\\lib\\site-packages (from pydantic<3,>=1->langchain) (4.7.1)\n",
      "Requirement already satisfied: idna<4,>=2.5 in c:\\users\\acki82\\anaconda3\\envs\\py3.11.5\\lib\\site-packages (from requests<3,>=2->langchain) (3.4)\n",
      "Requirement already satisfied: urllib3<3,>=1.21.1 in c:\\users\\acki82\\anaconda3\\envs\\py3.11.5\\lib\\site-packages (from requests<3,>=2->langchain) (1.26.16)\n",
      "Requirement already satisfied: certifi>=2017.4.17 in c:\\users\\acki82\\anaconda3\\envs\\py3.11.5\\lib\\site-packages (from requests<3,>=2->langchain) (2023.11.17)\n",
      "Requirement already satisfied: greenlet!=0.4.17 in c:\\users\\acki82\\anaconda3\\envs\\py3.11.5\\lib\\site-packages (from SQLAlchemy<3,>=1.4->langchain) (2.0.1)\n",
      "Requirement already satisfied: sniffio>=1.1 in c:\\users\\acki82\\anaconda3\\envs\\py3.11.5\\lib\\site-packages (from anyio<5,>=3->langchain-core<0.2,>=0.1.29->langchain) (1.2.0)\n",
      "Requirement already satisfied: mypy-extensions>=0.3.0 in c:\\users\\acki82\\anaconda3\\envs\\py3.11.5\\lib\\site-packages (from typing-inspect<1,>=0.4.0->dataclasses-json<0.7,>=0.5.7->langchain) (1.0.0)\n",
      "Downloading langchain-0.1.11-py3-none-any.whl (807 kB)\n",
      "   ---------------------------------------- 0.0/807.5 kB ? eta -:--:--\n",
      "   ----------------------- --------------- 481.3/807.5 kB 15.2 MB/s eta 0:00:01\n",
      "   --------------------------------------- 807.5/807.5 kB 12.9 MB/s eta 0:00:00\n",
      "Downloading dataclasses_json-0.6.4-py3-none-any.whl (28 kB)\n",
      "Downloading jsonpatch-1.33-py2.py3-none-any.whl (12 kB)\n",
      "Downloading langchain_community-0.0.27-py3-none-any.whl (1.8 MB)\n",
      "   ---------------------------------------- 0.0/1.8 MB ? eta -:--:--\n",
      "   ------------------ --------------------- 0.8/1.8 MB 25.8 MB/s eta 0:00:01\n",
      "   ---------------------------------- ----- 1.5/1.8 MB 16.4 MB/s eta 0:00:01\n",
      "   ---------------------------------------- 1.8/1.8 MB 14.1 MB/s eta 0:00:00\n",
      "Downloading langchain_core-0.1.30-py3-none-any.whl (256 kB)\n",
      "   ---------------------------------------- 0.0/256.9 kB ? eta -:--:--\n",
      "   --------------------------------------- 256.9/256.9 kB 15.4 MB/s eta 0:00:00\n",
      "Downloading langchain_text_splitters-0.0.1-py3-none-any.whl (21 kB)\n",
      "Downloading langsmith-0.1.23-py3-none-any.whl (66 kB)\n",
      "   ---------------------------------------- 0.0/66.6 kB ? eta -:--:--\n",
      "   ---------------------------------------- 66.6/66.6 kB 3.8 MB/s eta 0:00:00\n",
      "Downloading marshmallow-3.21.1-py3-none-any.whl (49 kB)\n",
      "   ---------------------------------------- 0.0/49.4 kB ? eta -:--:--\n",
      "   ---------------------------------------- 49.4/49.4 kB ? eta 0:00:00\n",
      "Downloading orjson-3.9.15-cp311-none-win_amd64.whl (136 kB)\n",
      "   ---------------------------------------- 0.0/136.0 kB ? eta -:--:--\n",
      "   ---------------------------------------- 136.0/136.0 kB ? eta 0:00:00\n",
      "Downloading packaging-23.2-py3-none-any.whl (53 kB)\n",
      "   ---------------------------------------- 0.0/53.0 kB ? eta -:--:--\n",
      "   ---------------------------------------- 53.0/53.0 kB ? eta 0:00:00\n",
      "Downloading typing_inspect-0.9.0-py3-none-any.whl (8.8 kB)\n",
      "Installing collected packages: typing-inspect, packaging, orjson, jsonpatch, marshmallow, langsmith, dataclasses-json, langchain-core, langchain-text-splitters, langchain-community, langchain\n",
      "  Attempting uninstall: packaging\n",
      "    Found existing installation: packaging 23.1\n",
      "    Uninstalling packaging-23.1:\n",
      "      Successfully uninstalled packaging-23.1\n",
      "  Attempting uninstall: jsonpatch\n",
      "    Found existing installation: jsonpatch 1.32\n",
      "    Uninstalling jsonpatch-1.32:\n",
      "      Successfully uninstalled jsonpatch-1.32\n",
      "Successfully installed dataclasses-json-0.6.4 jsonpatch-1.33 langchain-0.1.11 langchain-community-0.0.27 langchain-core-0.1.30 langchain-text-splitters-0.0.1 langsmith-0.1.23 marshmallow-3.21.1 orjson-3.9.15 packaging-23.2 typing-inspect-0.9.0\n",
      "Note: you may need to restart the kernel to use updated packages.\n"
     ]
    },
    {
     "name": "stderr",
     "output_type": "stream",
     "text": [
      "ERROR: pip's dependency resolver does not currently take into account all the packages that are installed. This behaviour is the source of the following dependency conflicts.\n",
      "tables 3.8.0 requires blosc2~=2.0.0, which is not installed.\n",
      "tables 3.8.0 requires cython>=0.29.21, which is not installed.\n",
      "pandas-profiling 3.2.0 requires visions[type_image_path]==0.7.4, but you have visions 0.7.5 which is incompatible.\n",
      "python-lsp-black 1.2.1 requires black>=22.3.0, but you have black 0.0 which is incompatible.\n"
     ]
    }
   ],
   "source": [
    "# pip install langchain"
   ]
  },
  {
   "cell_type": "code",
   "execution_count": 1,
   "metadata": {},
   "outputs": [
    {
     "name": "stderr",
     "output_type": "stream",
     "text": [
      "c:\\Users\\ACKI82\\anaconda3\\envs\\py3.11.5\\Lib\\site-packages\\langchain_core\\_api\\deprecation.py:117: LangChainDeprecationWarning: The class `langchain_community.llms.openai.OpenAI` was deprecated in langchain-community 0.0.10 and will be removed in 0.2.0. An updated version of the class exists in the langchain-openai package and should be used instead. To use it run `pip install -U langchain-openai` and import as `from langchain_openai import OpenAI`.\n",
      "  warn_deprecated(\n"
     ]
    }
   ],
   "source": [
    "import os\n",
    "OPENAI_API_KEY = os.environ['OPENAI_API_KEY']\n",
    "\n",
    "from langchain.llms import OpenAI\n",
    "llm = OpenAI(openai_api_key=OPENAI_API_KEY)\n",
    "llm = OpenAI(temperature=0.9)\n",
    "# from langchain.chat_models import ChatOpenAI\n",
    "# chat_model = ChatOpenAI(openai_api_key=OPENAI_API_KEY)"
   ]
  },
  {
   "cell_type": "code",
   "execution_count": 8,
   "metadata": {},
   "outputs": [
    {
     "name": "stderr",
     "output_type": "stream",
     "text": [
      "c:\\Users\\ACKI82\\anaconda3\\envs\\py3.11.5\\Lib\\site-packages\\langchain_core\\_api\\deprecation.py:117: LangChainDeprecationWarning: The function `__call__` was deprecated in LangChain 0.1.7 and will be removed in 0.2.0. Use invoke instead.\n",
      "  warn_deprecated(\n"
     ]
    },
    {
     "name": "stdout",
     "output_type": "stream",
     "text": [
      "\n",
      "\n",
      "It is impossible to accurately predict who the president of the United States will be in 2023, as their term will end in January 2025 and the 2024 presidential election has not yet taken place.\n"
     ]
    }
   ],
   "source": [
    "text = \"Who is the president of the United States as of 2023?\"\n",
    "print(llm(text))"
   ]
  },
  {
   "cell_type": "code",
   "execution_count": 14,
   "metadata": {},
   "outputs": [],
   "source": [
    "from langchain.prompts import PromptTemplate\n",
    "\n",
    "prompt = PromptTemplate(\n",
    "    input_variables=[\"product\"],\n",
    "    template=\"What is company's' name that create {product}?\",\n",
    ")"
   ]
  },
  {
   "cell_type": "code",
   "execution_count": 15,
   "metadata": {},
   "outputs": [
    {
     "name": "stdout",
     "output_type": "stream",
     "text": [
      "What is company's' name that create Windows?\n"
     ]
    }
   ],
   "source": [
    "print(prompt.format(product=\"Windows\"))"
   ]
  },
  {
   "cell_type": "code",
   "execution_count": 16,
   "metadata": {},
   "outputs": [
    {
     "data": {
      "text/plain": [
       "'\\n\\nThe name of the company that creates Windows is Microsoft Corporation.'"
      ]
     },
     "execution_count": 16,
     "metadata": {},
     "output_type": "execute_result"
    }
   ],
   "source": [
    "llm(prompt.format(product=\"Windows\"))"
   ]
  },
  {
   "cell_type": "code",
   "execution_count": 7,
   "metadata": {},
   "outputs": [
    {
     "data": {
      "text/plain": [
       "'\\n\\n{\"answer\": \"Google\\'s newest large language model under 7b parameter size is called T5 (Text-to-Text Transfer Transformer).\"}'"
      ]
     },
     "execution_count": 7,
     "metadata": {},
     "output_type": "execute_result"
    }
   ],
   "source": [
    "llm('Please answer with json format for next question like {\"answer\" = \"\"}. What is the newest large language model under 7b parameter size released by Google?')"
   ]
  },
  {
   "cell_type": "code",
   "execution_count": null,
   "metadata": {},
   "outputs": [],
   "source": []
  },
  {
   "cell_type": "code",
   "execution_count": null,
   "metadata": {},
   "outputs": [],
   "source": []
  },
  {
   "cell_type": "markdown",
   "metadata": {},
   "source": [
    "# LLM Chat with SerpAPI and Langchain"
   ]
  },
  {
   "cell_type": "code",
   "execution_count": 17,
   "metadata": {},
   "outputs": [],
   "source": [
    "from langchain.chat_models import ChatOpenAI\n",
    "chat_model = ChatOpenAI(openai_api_key=OPENAI_API_KEY)"
   ]
  },
  {
   "cell_type": "code",
   "execution_count": 18,
   "metadata": {},
   "outputs": [
    {
     "data": {
      "text/plain": [
       "'Microsoft Corporation'"
      ]
     },
     "execution_count": 18,
     "metadata": {},
     "output_type": "execute_result"
    }
   ],
   "source": [
    "chat_model.predict(text=\"What is company's' name that create Windows?\")"
   ]
  },
  {
   "cell_type": "code",
   "execution_count": null,
   "metadata": {},
   "outputs": [],
   "source": [
    "from langchain.agents import load_tools\n",
    "from langchain.agents import initialize_agent\n",
    "import os\n",
    "SERP_API_KEY =  os.environ['Google_Serp_API_KEY']\n",
    "\n",
    "tool_names = [\"serpapi\"]\n",
    "tools = load_tools(tool_names, serpapi_api_key=SERP_API_KEY)\n",
    "\n",
    "agent = initialize_agent(tools, llm, agent=\"zero-shot-react-description\", verbose=True)\n",
    "agent.run('What are the language models that parameter size is around 2 billion released most recently by Google? Please answer as many as possible')"
   ]
  },
  {
   "cell_type": "code",
   "execution_count": null,
   "metadata": {},
   "outputs": [],
   "source": []
  }
 ],
 "metadata": {
  "kernelspec": {
   "display_name": "py3.11.5",
   "language": "python",
   "name": "python3"
  },
  "language_info": {
   "codemirror_mode": {
    "name": "ipython",
    "version": 3
   },
   "file_extension": ".py",
   "mimetype": "text/x-python",
   "name": "python",
   "nbconvert_exporter": "python",
   "pygments_lexer": "ipython3",
   "version": "3.11.5"
  }
 },
 "nbformat": 4,
 "nbformat_minor": 2
}
