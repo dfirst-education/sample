{
 "cells": [
  {
   "cell_type": "code",
   "execution_count": 126,
   "metadata": {},
   "outputs": [],
   "source": [
    "# pip install python-dotenv"
   ]
  },
  {
   "cell_type": "code",
   "execution_count": 127,
   "metadata": {},
   "outputs": [],
   "source": [
    "# !pip install openai"
   ]
  },
  {
   "cell_type": "code",
   "execution_count": 128,
   "metadata": {},
   "outputs": [],
   "source": [
    "import os\n",
    "from dotenv import load_dotenv\n",
    "import openai\n",
    "import json\n",
    "import datetime\n",
    "import sys"
   ]
  },
  {
   "cell_type": "code",
   "execution_count": 129,
   "metadata": {},
   "outputs": [],
   "source": [
    "OPENAI_API_KEY = os.environ.get(\"OPENAI_API_KEY\")"
   ]
  },
  {
   "cell_type": "code",
   "execution_count": 130,
   "metadata": {},
   "outputs": [],
   "source": [
    "# import pandas as pd\n",
    "# pd.get_option(\"display.max_columns\")\n",
    "# pd.get_option(\"display.max_colwidth\")\n",
    "# pd.set_option('display.max_columns', 50)\n",
    "# pd.set_option('display.max_colwidth', 100)"
   ]
  },
  {
   "cell_type": "code",
   "execution_count": 131,
   "metadata": {},
   "outputs": [],
   "source": [
    "# \"get_belonging_occupation\" function defined as Function Calling\n",
    "# e.g., industry_answer: [{\"job title\": \"Software Engineer\", \"industry name\": \"Technology\"}, {\"job title\": \"Data Scientist\", \"industry name\": \"Science\"}, {\"job title\": \"Front-end engineer\", \"industry name\": \"To be predicted\"}]\n",
    "\n",
    "def get_belonging_occupation(jobs):\n",
    "    d = {\"Software Engineer\": \"Technology\", \"Data Scientist\": \"Science\"}\n",
    "\n",
    "    # Receives a list of job titles and returns a dict with the corresponding information for each and the industry. However, if there is no specific definition, \"To be predicted\" is stored.\n",
    "    def search_industry(job):\n",
    "        # print(job)\n",
    "        # print(d.get(job, \"To be predicted\"))\n",
    "        return d.get(job, \"To be predicted\")\n",
    "\n",
    "    industry_answer = [\n",
    "        {\"job title\": job.strip(), \"industry name\": search_industry(job.strip())} for job in jobs.split(\",\")\n",
    "    ]\n",
    "    return json.dumps(industry_answer)"
   ]
  },
  {
   "cell_type": "markdown",
   "metadata": {},
   "source": [
    "- 1st step : Provide definition of functions to be used by GPT"
   ]
  },
  {
   "cell_type": "code",
   "execution_count": 132,
   "metadata": {},
   "outputs": [],
   "source": [
    "# 1st step : Provide definition of \"get_belonging_occupation\" function to be used by GPT\n",
    "\n",
    "functions = [\n",
    "    # Whether GPT uses this function for questions,\n",
    "    # Also give information to determine what arguments to use when using it.\n",
    "    {\n",
    "        \"name\": \"get_belonging_occupation\",\n",
    "        \"description\": \"Get the name of the industry that corresponds to the given job title.\",\n",
    "        \"parameters\": {\n",
    "            \"type\": \"object\",\n",
    "            \"properties\": {\n",
    "                # Information about the jobs argument\n",
    "                \"jobs\": {\n",
    "                    \"type\": \"string\",\n",
    "                    \"description\": \"Enter job title. Multiple elements can be entered separated by single-byte commas. e.g., Software Engineer, Data Scientist\",\n",
    "                },\n",
    "            },\n",
    "            \"required\": [\"jobs\"],\n",
    "        },\n",
    "    }\n",
    "]"
   ]
  },
  {
   "cell_type": "code",
   "execution_count": 133,
   "metadata": {},
   "outputs": [],
   "source": [
    "# question = \"What occupation does the following job title belong to? Software Engineer,Data Scientist\"\n",
    "# question = \"What is the common point of the following job titles? Software Engineer,Data Scientist\"\n",
    "question = \"Are the industry of Software Engineer, Data Scientist and Front-end engineer the same?\"\n",
    "# question = \"Please provide a list of industry.\""
   ]
  },
  {
   "cell_type": "markdown",
   "metadata": {},
   "source": [
    "- 2nd step : Pass the function definition and question to GPT to determine which function to call."
   ]
  },
  {
   "cell_type": "code",
   "execution_count": 134,
   "metadata": {},
   "outputs": [
    {
     "name": "stderr",
     "output_type": "stream",
     "text": [
      "{\"id\": \"chatcmpl-8jhq0KLpQwpvjlM9Qp5plULyBQl4m\", \"object\": \"chat.completion\", \"created\": 1705903964, \"model\": \"gpt-4-0613\", \"choices\": [{\"index\": 0, \"message\": {\"role\": \"assistant\", \"content\": null, \"function_call\": {\"name\": \"get_belonging_occupation\", \"arguments\": \"{\\n  \\\"jobs\\\": \\\"Software Engineer, Data Scientist, Front-end engineer\\\"\\n}\"}}, \"logprobs\": null, \"finish_reason\": \"function_call\"}], \"usage\": {\"prompt_tokens\": 98, \"completion_tokens\": 27, \"total_tokens\": 125}, \"system_fingerprint\": null}\n"
     ]
    }
   ],
   "source": [
    "# 2nd step : Pass the function definition and question to GPT to determine which function to call.\n",
    "\n",
    "response = openai.ChatCompletion.create(\n",
    "    model=\"gpt-4\",\n",
    "    messages=[\n",
    "        {\"role\": \"user\", \"content\": question},\n",
    "    ],\n",
    "    functions=functions,\n",
    "    function_call=\"auto\",\n",
    ")\n",
    "print(json.dumps(response), file=sys.stderr)"
   ]
  },
  {
   "cell_type": "markdown",
   "metadata": {},
   "source": [
    "- 3rd step : Call the function determined to be used by GPT and get the result\n",
    "- 4th step : Pass the function response to GPT and get the final response"
   ]
  },
  {
   "cell_type": "code",
   "execution_count": 135,
   "metadata": {},
   "outputs": [
    {
     "name": "stderr",
     "output_type": "stream",
     "text": [
      "function_response: [{\"job title\": \"Software Engineer\", \"industry name\": \"Technology\"}, {\"job title\": \"Data Scientist\", \"industry name\": \"Science\"}, {\"job title\": \"Front-end engineer\", \"industry name\": \"To be predicted\"}]\n"
     ]
    },
    {
     "name": "stdout",
     "output_type": "stream",
     "text": [
      "The primary industry for both Software Engineers, Data Scientists, and Front-end Engineers is Technology. However, Data Scientists also significantly intersect with the Science industry, especially in fields like data analysis and machine learning.\n"
     ]
    },
    {
     "name": "stderr",
     "output_type": "stream",
     "text": [
      "{\"id\": \"chatcmpl-8jhq23hrnOkSuWxjH9cw4TqG26uGs\", \"object\": \"chat.completion\", \"created\": 1705903966, \"model\": \"gpt-4-0613\", \"choices\": [{\"index\": 0, \"message\": {\"role\": \"assistant\", \"content\": \"The primary industry for both Software Engineers, Data Scientists, and Front-end Engineers is Technology. However, Data Scientists also significantly intersect with the Science industry, especially in fields like data analysis and machine learning.\"}, \"logprobs\": null, \"finish_reason\": \"stop\"}], \"usage\": {\"prompt_tokens\": 112, \"completion_tokens\": 40, \"total_tokens\": 152}, \"system_fingerprint\": null}\n"
     ]
    }
   ],
   "source": [
    "message = response[\"choices\"][0][\"message\"]\n",
    "\n",
    "# If it is determined that the function\n",
    "if message.get(\"function_call\"):\n",
    "\n",
    "    # Function name determined to be used\n",
    "    function_name = message[\"function_call\"][\"name\"]\n",
    "    \n",
    "    # Argument dict determined to be used\n",
    "    arguments = json.loads(message[\"function_call\"][\"arguments\"])\n",
    "\n",
    "    # 3rd step : Call the function determined to be used by GPT and get the result\n",
    "    function_response = eval(function_name)(jobs=arguments.get(\"jobs\")) # function_name: get_belonging_occupation, arguments: {'jobs': 'Software Engineer, Data Scientist, Front-end engineer'}\n",
    "    # function_response = get_belonging_occupation(\n",
    "    #     jobs=arguments.get(\"jobs\"),\n",
    "    # )\n",
    "\n",
    "    print(\"function_response: \" + function_response, file=sys.stderr)\n",
    "\n",
    "    # 4th step : Pass the function response to GPT and get the final response\n",
    "    second_response = openai.ChatCompletion.create(\n",
    "        model=\"gpt-4\",\n",
    "        messages=[\n",
    "            {\"role\": \"user\", \"content\": question},\n",
    "            message,\n",
    "            {\n",
    "                \"role\": \"function\",\n",
    "                \"name\": function_name,\n",
    "                \"content\": function_response,\n",
    "            },\n",
    "        ],\n",
    "    )\n",
    "\n",
    "    print(json.dumps(second_response), file=sys.stderr)\n",
    "    print(second_response.choices[0][\"message\"][\"content\"].strip())"
   ]
  }
 ],
 "metadata": {
  "kernelspec": {
   "display_name": "py3.11.5",
   "language": "python",
   "name": "python3"
  },
  "language_info": {
   "codemirror_mode": {
    "name": "ipython",
    "version": 3
   },
   "file_extension": ".py",
   "mimetype": "text/x-python",
   "name": "python",
   "nbconvert_exporter": "python",
   "pygments_lexer": "ipython3",
   "version": "0.0.0"
  }
 },
 "nbformat": 4,
 "nbformat_minor": 2
}
